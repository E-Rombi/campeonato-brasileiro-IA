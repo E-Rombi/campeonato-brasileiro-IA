{
 "cells": [
  {
   "cell_type": "markdown",
   "source": [
    "## Importando Dataset - Campeonato Brasileiro"
   ],
   "metadata": {
    "collapsed": false
   }
  },
  {
   "cell_type": "code",
   "metadata": {
    "collapsed": true,
    "pycharm": {
     "name": "#%%\n"
    }
   },
   "source": [
    "import matplotlib as matplotlib\n",
    "import pandas as pd\n",
    "import sklearn as sklearn\n",
    "\n",
    "csv_path = '.\\dataset\\campeonato-brasileiro-full.csv'\n",
    "\n",
    "df = pd.read_csv(csv_path, delimiter=';')\n",
    "df"
   ],
   "execution_count": 1,
   "outputs": [
    {
     "data": {
      "text/plain": "        ID Rodada        Data Horário            Dia       Mandante  \\\n0        1      1  2000-07-29   16h00         Sábado     Fluminense   \n1        2      1  2000-07-29   16h00         Sábado          Vasco   \n2        3      1  2000-07-29   16h00         Sábado        Vitória   \n3        4      1  2000-07-30   17h00        Domingo    Botafogo-RJ   \n4        5      1  2000-07-30   18h30        Domingo      Juventude   \n...    ...    ...         ...     ...            ...            ...   \n8435  8436     12  2021-07-18   16:00        Domingo    atlético-go   \n8436  8437     12  2021-07-18   18:15        Domingo          bahia   \n8437  8438     12  2021-07-18   20:30        Domingo  internacional   \n8438  8439     12  2021-07-18   20:30        Domingo     bragantino   \n8439  8440     12  2021-07-19   20:00  Segunda-Feira     américa-mg   \n\n        Visitante       Vencedor            Arena  Mandante Placar  \\\n0           Bahia     Fluminense         Maracanã              2.0   \n1           Sport          Sport     São Januário              0.0   \n2       Palmeiras        Vitória         Barradão              4.0   \n3     Atlético-MG              -     Caio Martins              0.0   \n4        Flamengo              -   Alfredo Jaconi              1.0   \n...           ...            ...              ...              ...   \n8435    palmeiras      palmeiras  Antônio Accioly              0.0   \n8436     flamengo       flamengo          Pituaçu              0.0   \n8437    juventude  internacional        Beira-Rio              1.0   \n8438       santos              -  Nabi Abi Chedid              2.0   \n8439        sport          sport    Independência              0.0   \n\n      Visitante Placar Estado Mandante Estado Visitante Estado Vencedor  \n0                  0.0              RJ               BA              RJ  \n1                  2.0              RJ               PE              PE  \n2                  1.0              ES               SP              ES  \n3                  0.0              RJ               MG               -  \n4                  1.0              RS               RJ               -  \n...                ...             ...              ...             ...  \n8435               3.0              GO               SP              SP  \n8436               5.0              BA               RJ              RJ  \n8437               0.0              RS               RS              RS  \n8438               2.0              SP               SP               -  \n8439               1.0              MG               PE              PE  \n\n[8440 rows x 14 columns]",
      "text/html": "<div>\n<style scoped>\n    .dataframe tbody tr th:only-of-type {\n        vertical-align: middle;\n    }\n\n    .dataframe tbody tr th {\n        vertical-align: top;\n    }\n\n    .dataframe thead th {\n        text-align: right;\n    }\n</style>\n<table border=\"1\" class=\"dataframe\">\n  <thead>\n    <tr style=\"text-align: right;\">\n      <th></th>\n      <th>ID</th>\n      <th>Rodada</th>\n      <th>Data</th>\n      <th>Horário</th>\n      <th>Dia</th>\n      <th>Mandante</th>\n      <th>Visitante</th>\n      <th>Vencedor</th>\n      <th>Arena</th>\n      <th>Mandante Placar</th>\n      <th>Visitante Placar</th>\n      <th>Estado Mandante</th>\n      <th>Estado Visitante</th>\n      <th>Estado Vencedor</th>\n    </tr>\n  </thead>\n  <tbody>\n    <tr>\n      <th>0</th>\n      <td>1</td>\n      <td>1</td>\n      <td>2000-07-29</td>\n      <td>16h00</td>\n      <td>Sábado</td>\n      <td>Fluminense</td>\n      <td>Bahia</td>\n      <td>Fluminense</td>\n      <td>Maracanã</td>\n      <td>2.0</td>\n      <td>0.0</td>\n      <td>RJ</td>\n      <td>BA</td>\n      <td>RJ</td>\n    </tr>\n    <tr>\n      <th>1</th>\n      <td>2</td>\n      <td>1</td>\n      <td>2000-07-29</td>\n      <td>16h00</td>\n      <td>Sábado</td>\n      <td>Vasco</td>\n      <td>Sport</td>\n      <td>Sport</td>\n      <td>São Januário</td>\n      <td>0.0</td>\n      <td>2.0</td>\n      <td>RJ</td>\n      <td>PE</td>\n      <td>PE</td>\n    </tr>\n    <tr>\n      <th>2</th>\n      <td>3</td>\n      <td>1</td>\n      <td>2000-07-29</td>\n      <td>16h00</td>\n      <td>Sábado</td>\n      <td>Vitória</td>\n      <td>Palmeiras</td>\n      <td>Vitória</td>\n      <td>Barradão</td>\n      <td>4.0</td>\n      <td>1.0</td>\n      <td>ES</td>\n      <td>SP</td>\n      <td>ES</td>\n    </tr>\n    <tr>\n      <th>3</th>\n      <td>4</td>\n      <td>1</td>\n      <td>2000-07-30</td>\n      <td>17h00</td>\n      <td>Domingo</td>\n      <td>Botafogo-RJ</td>\n      <td>Atlético-MG</td>\n      <td>-</td>\n      <td>Caio Martins</td>\n      <td>0.0</td>\n      <td>0.0</td>\n      <td>RJ</td>\n      <td>MG</td>\n      <td>-</td>\n    </tr>\n    <tr>\n      <th>4</th>\n      <td>5</td>\n      <td>1</td>\n      <td>2000-07-30</td>\n      <td>18h30</td>\n      <td>Domingo</td>\n      <td>Juventude</td>\n      <td>Flamengo</td>\n      <td>-</td>\n      <td>Alfredo Jaconi</td>\n      <td>1.0</td>\n      <td>1.0</td>\n      <td>RS</td>\n      <td>RJ</td>\n      <td>-</td>\n    </tr>\n    <tr>\n      <th>...</th>\n      <td>...</td>\n      <td>...</td>\n      <td>...</td>\n      <td>...</td>\n      <td>...</td>\n      <td>...</td>\n      <td>...</td>\n      <td>...</td>\n      <td>...</td>\n      <td>...</td>\n      <td>...</td>\n      <td>...</td>\n      <td>...</td>\n      <td>...</td>\n    </tr>\n    <tr>\n      <th>8435</th>\n      <td>8436</td>\n      <td>12</td>\n      <td>2021-07-18</td>\n      <td>16:00</td>\n      <td>Domingo</td>\n      <td>atlético-go</td>\n      <td>palmeiras</td>\n      <td>palmeiras</td>\n      <td>Antônio Accioly</td>\n      <td>0.0</td>\n      <td>3.0</td>\n      <td>GO</td>\n      <td>SP</td>\n      <td>SP</td>\n    </tr>\n    <tr>\n      <th>8436</th>\n      <td>8437</td>\n      <td>12</td>\n      <td>2021-07-18</td>\n      <td>18:15</td>\n      <td>Domingo</td>\n      <td>bahia</td>\n      <td>flamengo</td>\n      <td>flamengo</td>\n      <td>Pituaçu</td>\n      <td>0.0</td>\n      <td>5.0</td>\n      <td>BA</td>\n      <td>RJ</td>\n      <td>RJ</td>\n    </tr>\n    <tr>\n      <th>8437</th>\n      <td>8438</td>\n      <td>12</td>\n      <td>2021-07-18</td>\n      <td>20:30</td>\n      <td>Domingo</td>\n      <td>internacional</td>\n      <td>juventude</td>\n      <td>internacional</td>\n      <td>Beira-Rio</td>\n      <td>1.0</td>\n      <td>0.0</td>\n      <td>RS</td>\n      <td>RS</td>\n      <td>RS</td>\n    </tr>\n    <tr>\n      <th>8438</th>\n      <td>8439</td>\n      <td>12</td>\n      <td>2021-07-18</td>\n      <td>20:30</td>\n      <td>Domingo</td>\n      <td>bragantino</td>\n      <td>santos</td>\n      <td>-</td>\n      <td>Nabi Abi Chedid</td>\n      <td>2.0</td>\n      <td>2.0</td>\n      <td>SP</td>\n      <td>SP</td>\n      <td>-</td>\n    </tr>\n    <tr>\n      <th>8439</th>\n      <td>8440</td>\n      <td>12</td>\n      <td>2021-07-19</td>\n      <td>20:00</td>\n      <td>Segunda-Feira</td>\n      <td>américa-mg</td>\n      <td>sport</td>\n      <td>sport</td>\n      <td>Independência</td>\n      <td>0.0</td>\n      <td>1.0</td>\n      <td>MG</td>\n      <td>PE</td>\n      <td>PE</td>\n    </tr>\n  </tbody>\n</table>\n<p>8440 rows × 14 columns</p>\n</div>"
     },
     "execution_count": 1,
     "metadata": {},
     "output_type": "execute_result"
    }
   ]
  },
  {
   "cell_type": "markdown",
   "source": [
    "## Capturando informações gerais das colunas"
   ],
   "metadata": {
    "collapsed": false,
    "pycharm": {
     "name": "#%% md\n"
    }
   }
  },
  {
   "cell_type": "code",
   "source": [
    "df.info()"
   ],
   "metadata": {
    "collapsed": false,
    "pycharm": {
     "name": "#%%\n"
    }
   },
   "execution_count": 2,
   "outputs": [
    {
     "name": "stdout",
     "output_type": "stream",
     "text": [
      "<class 'pandas.core.frame.DataFrame'>\n",
      "RangeIndex: 8440 entries, 0 to 8439\n",
      "Data columns (total 14 columns):\n",
      " #   Column            Non-Null Count  Dtype  \n",
      "---  ------            --------------  -----  \n",
      " 0   ID                8440 non-null   int64  \n",
      " 1   Rodada            8440 non-null   object \n",
      " 2   Data              8436 non-null   object \n",
      " 3   Horário           8079 non-null   object \n",
      " 4   Dia               8436 non-null   object \n",
      " 5   Mandante          8440 non-null   object \n",
      " 6   Visitante         8440 non-null   object \n",
      " 7   Vencedor          8440 non-null   object \n",
      " 8   Arena             8436 non-null   object \n",
      " 9   Mandante Placar   8436 non-null   float64\n",
      " 10  Visitante Placar  8436 non-null   float64\n",
      " 11  Estado Mandante   8440 non-null   object \n",
      " 12  Estado Visitante  8440 non-null   object \n",
      " 13  Estado Vencedor   8440 non-null   object \n",
      "dtypes: float64(2), int64(1), object(11)\n",
      "memory usage: 923.2+ KB\n"
     ]
    }
   ]
  },
  {
   "cell_type": "markdown",
   "source": [
    "## Listando os 5 primeiros registros"
   ],
   "metadata": {
    "collapsed": false,
    "pycharm": {
     "name": "#%% md\n"
    }
   }
  },
  {
   "cell_type": "code",
   "execution_count": 3,
   "outputs": [
    {
     "data": {
      "text/plain": "   ID Rodada        Data Horário      Dia     Mandante    Visitante  \\\n0   1      1  2000-07-29   16h00   Sábado   Fluminense        Bahia   \n1   2      1  2000-07-29   16h00   Sábado        Vasco        Sport   \n2   3      1  2000-07-29   16h00   Sábado      Vitória    Palmeiras   \n3   4      1  2000-07-30   17h00  Domingo  Botafogo-RJ  Atlético-MG   \n4   5      1  2000-07-30   18h30  Domingo    Juventude     Flamengo   \n\n     Vencedor           Arena  Mandante Placar  Visitante Placar  \\\n0  Fluminense        Maracanã              2.0               0.0   \n1       Sport    São Januário              0.0               2.0   \n2     Vitória        Barradão              4.0               1.0   \n3           -    Caio Martins              0.0               0.0   \n4           -  Alfredo Jaconi              1.0               1.0   \n\n  Estado Mandante Estado Visitante Estado Vencedor  \n0              RJ               BA              RJ  \n1              RJ               PE              PE  \n2              ES               SP              ES  \n3              RJ               MG               -  \n4              RS               RJ               -  ",
      "text/html": "<div>\n<style scoped>\n    .dataframe tbody tr th:only-of-type {\n        vertical-align: middle;\n    }\n\n    .dataframe tbody tr th {\n        vertical-align: top;\n    }\n\n    .dataframe thead th {\n        text-align: right;\n    }\n</style>\n<table border=\"1\" class=\"dataframe\">\n  <thead>\n    <tr style=\"text-align: right;\">\n      <th></th>\n      <th>ID</th>\n      <th>Rodada</th>\n      <th>Data</th>\n      <th>Horário</th>\n      <th>Dia</th>\n      <th>Mandante</th>\n      <th>Visitante</th>\n      <th>Vencedor</th>\n      <th>Arena</th>\n      <th>Mandante Placar</th>\n      <th>Visitante Placar</th>\n      <th>Estado Mandante</th>\n      <th>Estado Visitante</th>\n      <th>Estado Vencedor</th>\n    </tr>\n  </thead>\n  <tbody>\n    <tr>\n      <th>0</th>\n      <td>1</td>\n      <td>1</td>\n      <td>2000-07-29</td>\n      <td>16h00</td>\n      <td>Sábado</td>\n      <td>Fluminense</td>\n      <td>Bahia</td>\n      <td>Fluminense</td>\n      <td>Maracanã</td>\n      <td>2.0</td>\n      <td>0.0</td>\n      <td>RJ</td>\n      <td>BA</td>\n      <td>RJ</td>\n    </tr>\n    <tr>\n      <th>1</th>\n      <td>2</td>\n      <td>1</td>\n      <td>2000-07-29</td>\n      <td>16h00</td>\n      <td>Sábado</td>\n      <td>Vasco</td>\n      <td>Sport</td>\n      <td>Sport</td>\n      <td>São Januário</td>\n      <td>0.0</td>\n      <td>2.0</td>\n      <td>RJ</td>\n      <td>PE</td>\n      <td>PE</td>\n    </tr>\n    <tr>\n      <th>2</th>\n      <td>3</td>\n      <td>1</td>\n      <td>2000-07-29</td>\n      <td>16h00</td>\n      <td>Sábado</td>\n      <td>Vitória</td>\n      <td>Palmeiras</td>\n      <td>Vitória</td>\n      <td>Barradão</td>\n      <td>4.0</td>\n      <td>1.0</td>\n      <td>ES</td>\n      <td>SP</td>\n      <td>ES</td>\n    </tr>\n    <tr>\n      <th>3</th>\n      <td>4</td>\n      <td>1</td>\n      <td>2000-07-30</td>\n      <td>17h00</td>\n      <td>Domingo</td>\n      <td>Botafogo-RJ</td>\n      <td>Atlético-MG</td>\n      <td>-</td>\n      <td>Caio Martins</td>\n      <td>0.0</td>\n      <td>0.0</td>\n      <td>RJ</td>\n      <td>MG</td>\n      <td>-</td>\n    </tr>\n    <tr>\n      <th>4</th>\n      <td>5</td>\n      <td>1</td>\n      <td>2000-07-30</td>\n      <td>18h30</td>\n      <td>Domingo</td>\n      <td>Juventude</td>\n      <td>Flamengo</td>\n      <td>-</td>\n      <td>Alfredo Jaconi</td>\n      <td>1.0</td>\n      <td>1.0</td>\n      <td>RS</td>\n      <td>RJ</td>\n      <td>-</td>\n    </tr>\n  </tbody>\n</table>\n</div>"
     },
     "execution_count": 3,
     "metadata": {},
     "output_type": "execute_result"
    }
   ],
   "source": [
    "df.head(5)"
   ],
   "metadata": {
    "collapsed": false,
    "pycharm": {
     "name": "#%%\n"
    }
   }
  },
  {
   "cell_type": "markdown",
   "source": [
    "## Tratando dados inválidos"
   ],
   "metadata": {
    "collapsed": false
   }
  },
  {
   "cell_type": "code",
   "execution_count": 4,
   "outputs": [],
   "source": [
    "from unicodedata import normalize\n",
    "\n",
    "def trataString(value):\n",
    "    return normalize('NFKD', str(value)).encode('ASCII', 'ignore').decode('ASCII').upper()\n",
    "\n",
    "df['Mandante'] = df['Mandante'].apply(trataString)\n",
    "df['Visitante'] = df['Visitante'].apply(trataString)\n",
    "df['Dia'] = df['Dia'].apply(trataString)\n",
    "df['Vencedor'] = df['Vencedor'].apply(trataString)\n",
    "df['Arena'] = df['Arena'].apply(trataString)"
   ],
   "metadata": {
    "collapsed": false,
    "pycharm": {
     "name": "#%%\n"
    }
   }
  },
  {
   "cell_type": "markdown",
   "source": [
    "## Implemente pelo menos um filtro\n",
    "\n",
    "## Ordenando o Dataset pelo maiores pontuadores independente de temporadas"
   ],
   "metadata": {
    "collapsed": false,
    "pycharm": {
     "name": "#%% md\n"
    }
   }
  },
  {
   "cell_type": "code",
   "execution_count": 5,
   "outputs": [
    {
     "data": {
      "text/plain": "              Times  Pontos\n0         SAO PAULO    1318\n1            SANTOS    1236\n2          FLAMENGO    1192\n3     INTERNACIONAL    1172\n4            GREMIO    1169\n5        FLUMINENSE    1156\n6          CRUZEIRO    1152\n7       CORINTHIANS    1151\n8       ATLETICO-MG    1117\n9      ATHLETICO-PR    1115\n10        PALMEIRAS    1095\n11      BOTAFOGO-RJ     898\n12            VASCO     888\n13            GOIAS     805\n14         CORITIBA     739\n15      FIGUEIRENSE     581\n16          VITORIA     572\n17      PONTE PRETA     558\n18            BAHIA     545\n19            SPORT     540\n20           PARANA     375\n21        JUVENTUDE     373\n22      SAO CAETANO     364\n23      CHAPECOENSE     277\n24        FORTALEZA     260\n25          GUARANI     247\n26            CEARA     239\n27             AVAI     236\n28       PORTUGUESA     226\n29      ATLETICO-GO     222\n30          NAUTICO     200\n31         CRICIUMA     188\n32         PAYSANDU     183\n33       AMERICA-MG     166\n34       SANTA CRUZ     102\n35             GAMA      80\n36       BRAGANTINO      77\n37          BARUERI      49\n38      BRASILIENSE      42\n39      SANTO ANDRE      41\n40         IPATINGA      35\n41              CSA      32\n42  GREMIO PRUDENTE      31\n43        JOINVILLE      31\n44      BOTAFOGO-SP      25\n45       AMERICA-RN      17\n46           CUIABA      14\n47         MALUTROM       1\n48             REMO       0",
      "text/html": "<div>\n<style scoped>\n    .dataframe tbody tr th:only-of-type {\n        vertical-align: middle;\n    }\n\n    .dataframe tbody tr th {\n        vertical-align: top;\n    }\n\n    .dataframe thead th {\n        text-align: right;\n    }\n</style>\n<table border=\"1\" class=\"dataframe\">\n  <thead>\n    <tr style=\"text-align: right;\">\n      <th></th>\n      <th>Times</th>\n      <th>Pontos</th>\n    </tr>\n  </thead>\n  <tbody>\n    <tr>\n      <th>0</th>\n      <td>SAO PAULO</td>\n      <td>1318</td>\n    </tr>\n    <tr>\n      <th>1</th>\n      <td>SANTOS</td>\n      <td>1236</td>\n    </tr>\n    <tr>\n      <th>2</th>\n      <td>FLAMENGO</td>\n      <td>1192</td>\n    </tr>\n    <tr>\n      <th>3</th>\n      <td>INTERNACIONAL</td>\n      <td>1172</td>\n    </tr>\n    <tr>\n      <th>4</th>\n      <td>GREMIO</td>\n      <td>1169</td>\n    </tr>\n    <tr>\n      <th>5</th>\n      <td>FLUMINENSE</td>\n      <td>1156</td>\n    </tr>\n    <tr>\n      <th>6</th>\n      <td>CRUZEIRO</td>\n      <td>1152</td>\n    </tr>\n    <tr>\n      <th>7</th>\n      <td>CORINTHIANS</td>\n      <td>1151</td>\n    </tr>\n    <tr>\n      <th>8</th>\n      <td>ATLETICO-MG</td>\n      <td>1117</td>\n    </tr>\n    <tr>\n      <th>9</th>\n      <td>ATHLETICO-PR</td>\n      <td>1115</td>\n    </tr>\n    <tr>\n      <th>10</th>\n      <td>PALMEIRAS</td>\n      <td>1095</td>\n    </tr>\n    <tr>\n      <th>11</th>\n      <td>BOTAFOGO-RJ</td>\n      <td>898</td>\n    </tr>\n    <tr>\n      <th>12</th>\n      <td>VASCO</td>\n      <td>888</td>\n    </tr>\n    <tr>\n      <th>13</th>\n      <td>GOIAS</td>\n      <td>805</td>\n    </tr>\n    <tr>\n      <th>14</th>\n      <td>CORITIBA</td>\n      <td>739</td>\n    </tr>\n    <tr>\n      <th>15</th>\n      <td>FIGUEIRENSE</td>\n      <td>581</td>\n    </tr>\n    <tr>\n      <th>16</th>\n      <td>VITORIA</td>\n      <td>572</td>\n    </tr>\n    <tr>\n      <th>17</th>\n      <td>PONTE PRETA</td>\n      <td>558</td>\n    </tr>\n    <tr>\n      <th>18</th>\n      <td>BAHIA</td>\n      <td>545</td>\n    </tr>\n    <tr>\n      <th>19</th>\n      <td>SPORT</td>\n      <td>540</td>\n    </tr>\n    <tr>\n      <th>20</th>\n      <td>PARANA</td>\n      <td>375</td>\n    </tr>\n    <tr>\n      <th>21</th>\n      <td>JUVENTUDE</td>\n      <td>373</td>\n    </tr>\n    <tr>\n      <th>22</th>\n      <td>SAO CAETANO</td>\n      <td>364</td>\n    </tr>\n    <tr>\n      <th>23</th>\n      <td>CHAPECOENSE</td>\n      <td>277</td>\n    </tr>\n    <tr>\n      <th>24</th>\n      <td>FORTALEZA</td>\n      <td>260</td>\n    </tr>\n    <tr>\n      <th>25</th>\n      <td>GUARANI</td>\n      <td>247</td>\n    </tr>\n    <tr>\n      <th>26</th>\n      <td>CEARA</td>\n      <td>239</td>\n    </tr>\n    <tr>\n      <th>27</th>\n      <td>AVAI</td>\n      <td>236</td>\n    </tr>\n    <tr>\n      <th>28</th>\n      <td>PORTUGUESA</td>\n      <td>226</td>\n    </tr>\n    <tr>\n      <th>29</th>\n      <td>ATLETICO-GO</td>\n      <td>222</td>\n    </tr>\n    <tr>\n      <th>30</th>\n      <td>NAUTICO</td>\n      <td>200</td>\n    </tr>\n    <tr>\n      <th>31</th>\n      <td>CRICIUMA</td>\n      <td>188</td>\n    </tr>\n    <tr>\n      <th>32</th>\n      <td>PAYSANDU</td>\n      <td>183</td>\n    </tr>\n    <tr>\n      <th>33</th>\n      <td>AMERICA-MG</td>\n      <td>166</td>\n    </tr>\n    <tr>\n      <th>34</th>\n      <td>SANTA CRUZ</td>\n      <td>102</td>\n    </tr>\n    <tr>\n      <th>35</th>\n      <td>GAMA</td>\n      <td>80</td>\n    </tr>\n    <tr>\n      <th>36</th>\n      <td>BRAGANTINO</td>\n      <td>77</td>\n    </tr>\n    <tr>\n      <th>37</th>\n      <td>BARUERI</td>\n      <td>49</td>\n    </tr>\n    <tr>\n      <th>38</th>\n      <td>BRASILIENSE</td>\n      <td>42</td>\n    </tr>\n    <tr>\n      <th>39</th>\n      <td>SANTO ANDRE</td>\n      <td>41</td>\n    </tr>\n    <tr>\n      <th>40</th>\n      <td>IPATINGA</td>\n      <td>35</td>\n    </tr>\n    <tr>\n      <th>41</th>\n      <td>CSA</td>\n      <td>32</td>\n    </tr>\n    <tr>\n      <th>42</th>\n      <td>GREMIO PRUDENTE</td>\n      <td>31</td>\n    </tr>\n    <tr>\n      <th>43</th>\n      <td>JOINVILLE</td>\n      <td>31</td>\n    </tr>\n    <tr>\n      <th>44</th>\n      <td>BOTAFOGO-SP</td>\n      <td>25</td>\n    </tr>\n    <tr>\n      <th>45</th>\n      <td>AMERICA-RN</td>\n      <td>17</td>\n    </tr>\n    <tr>\n      <th>46</th>\n      <td>CUIABA</td>\n      <td>14</td>\n    </tr>\n    <tr>\n      <th>47</th>\n      <td>MALUTROM</td>\n      <td>1</td>\n    </tr>\n    <tr>\n      <th>48</th>\n      <td>REMO</td>\n      <td>0</td>\n    </tr>\n  </tbody>\n</table>\n</div>"
     },
     "execution_count": 5,
     "metadata": {},
     "output_type": "execute_result"
    }
   ],
   "source": [
    "df['Pontos Mandante'] = 0\n",
    "df['Pontos Visitante'] = 0\n",
    "\n",
    "df.loc[ df['Vencedor'] == df['Mandante'], 'Pontos Mandante' ] = 3\n",
    "df.loc[ df['Vencedor'] == df['Visitante'], 'Pontos Visitante' ] = 3\n",
    "df.loc[ df['Vencedor'] == '-', 'Pontos Mandante' ] = 1\n",
    "df.loc[ df['Vencedor'] == '-', 'Pontos Visitante' ] = 1\n",
    "\n",
    "times = pd.Series(df['Mandante'].unique(), name='Times')\n",
    "tg = pd.DataFrame(times)\n",
    "tg['Pontos'] = 0\n",
    "\n",
    "mandante = df.groupby('Mandante')['Pontos Mandante'].sum()\n",
    "visitante = df.groupby('Visitante')['Pontos Visitante'].sum()\n",
    "nova = pd.DataFrame(mandante)\n",
    "nova_2 = pd.DataFrame(visitante)\n",
    "\n",
    "for index, i in nova.iterrows():\n",
    "    tg.loc[ tg['Times'] == index, 'Pontos' ] += i['Pontos Mandante']\n",
    "\n",
    "for index, i in nova_2.iterrows():\n",
    "    tg.loc[ tg['Times'] == index, 'Pontos' ] += i['Pontos Visitante']\n",
    "\n",
    "tg = tg.sort_values(by=\"Pontos\", ascending=False).reset_index()\n",
    "tg[['Times', 'Pontos']]"
   ],
   "metadata": {
    "collapsed": false,
    "pycharm": {
     "name": "#%%\n"
    }
   }
  },
  {
   "cell_type": "markdown",
   "source": [
    "## Ordenando o Dataset pelas maiores goleadas"
   ],
   "metadata": {
    "collapsed": false
   }
  },
  {
   "cell_type": "code",
   "execution_count": 6,
   "outputs": [
    {
     "data": {
      "text/plain": "         Mandante    Visitante     Vencedor  Diferenca Gols\n1600        BAHIA     CRUZEIRO     CRUZEIRO             7.0\n1122        GOIAS    JUVENTUDE        GOIAS             7.0\n1992    SAO PAULO     PAYSANDU    SAO PAULO             7.0\n1528  FIGUEIRENSE     PAYSANDU  FIGUEIRENSE             6.0\n1338     FLAMENGO        BAHIA     FLAMENGO             6.0\n...           ...          ...          ...             ...\n2740   FLUMINENSE  SAO CAETANO            -             0.0\n3750       SANTOS      NAUTICO            -             0.0\n1666    JUVENTUDE  ATLETICO-MG            -             0.0\n6932        VASCO       SANTOS            -             0.0\n5084        SPORT      NAUTICO            -             0.0\n\n[8436 rows x 4 columns]",
      "text/html": "<div>\n<style scoped>\n    .dataframe tbody tr th:only-of-type {\n        vertical-align: middle;\n    }\n\n    .dataframe tbody tr th {\n        vertical-align: top;\n    }\n\n    .dataframe thead th {\n        text-align: right;\n    }\n</style>\n<table border=\"1\" class=\"dataframe\">\n  <thead>\n    <tr style=\"text-align: right;\">\n      <th></th>\n      <th>Mandante</th>\n      <th>Visitante</th>\n      <th>Vencedor</th>\n      <th>Diferenca Gols</th>\n    </tr>\n  </thead>\n  <tbody>\n    <tr>\n      <th>1600</th>\n      <td>BAHIA</td>\n      <td>CRUZEIRO</td>\n      <td>CRUZEIRO</td>\n      <td>7.0</td>\n    </tr>\n    <tr>\n      <th>1122</th>\n      <td>GOIAS</td>\n      <td>JUVENTUDE</td>\n      <td>GOIAS</td>\n      <td>7.0</td>\n    </tr>\n    <tr>\n      <th>1992</th>\n      <td>SAO PAULO</td>\n      <td>PAYSANDU</td>\n      <td>SAO PAULO</td>\n      <td>7.0</td>\n    </tr>\n    <tr>\n      <th>1528</th>\n      <td>FIGUEIRENSE</td>\n      <td>PAYSANDU</td>\n      <td>FIGUEIRENSE</td>\n      <td>6.0</td>\n    </tr>\n    <tr>\n      <th>1338</th>\n      <td>FLAMENGO</td>\n      <td>BAHIA</td>\n      <td>FLAMENGO</td>\n      <td>6.0</td>\n    </tr>\n    <tr>\n      <th>...</th>\n      <td>...</td>\n      <td>...</td>\n      <td>...</td>\n      <td>...</td>\n    </tr>\n    <tr>\n      <th>2740</th>\n      <td>FLUMINENSE</td>\n      <td>SAO CAETANO</td>\n      <td>-</td>\n      <td>0.0</td>\n    </tr>\n    <tr>\n      <th>3750</th>\n      <td>SANTOS</td>\n      <td>NAUTICO</td>\n      <td>-</td>\n      <td>0.0</td>\n    </tr>\n    <tr>\n      <th>1666</th>\n      <td>JUVENTUDE</td>\n      <td>ATLETICO-MG</td>\n      <td>-</td>\n      <td>0.0</td>\n    </tr>\n    <tr>\n      <th>6932</th>\n      <td>VASCO</td>\n      <td>SANTOS</td>\n      <td>-</td>\n      <td>0.0</td>\n    </tr>\n    <tr>\n      <th>5084</th>\n      <td>SPORT</td>\n      <td>NAUTICO</td>\n      <td>-</td>\n      <td>0.0</td>\n    </tr>\n  </tbody>\n</table>\n<p>8436 rows × 4 columns</p>\n</div>"
     },
     "execution_count": 6,
     "metadata": {},
     "output_type": "execute_result"
    }
   ],
   "source": [
    "df['Diferenca Gols'] = abs(df['Mandante Placar'] - df['Visitante Placar'])\n",
    "\n",
    "# dropando valores nulos, visto que se não houve o jogo, muito provavelmente foi remarcado e está em outro registro\n",
    "df = df.dropna(subset=['Diferenca Gols'])\n",
    "\n",
    "df[['Mandante', 'Visitante', 'Vencedor', 'Diferenca Gols']].sort_values(by=['Diferenca Gols'], ascending=False)"
   ],
   "metadata": {
    "collapsed": false,
    "pycharm": {
     "name": "#%%\n"
    }
   }
  },
  {
   "cell_type": "markdown",
   "source": [
    "## Exibir as 5 maiores contagens de valores únicos de uma única coluna\n",
    "#### No caso: Quem são os maiores vencedores em casa"
   ],
   "metadata": {
    "collapsed": false,
    "pycharm": {
     "name": "#%% md\n"
    }
   }
  },
  {
   "cell_type": "code",
   "execution_count": 7,
   "outputs": [
    {
     "data": {
      "text/plain": "Mandante     \nSANTOS           233\nSAO PAULO        231\nGREMIO           223\nATHLETICO-PR     221\nINTERNACIONAL    217\ndtype: int64"
     },
     "execution_count": 7,
     "metadata": {},
     "output_type": "execute_result"
    }
   ],
   "source": [
    "df[ df['Mandante'] == df['Vencedor'] ][['Mandante']].value_counts().head()"
   ],
   "metadata": {
    "collapsed": false,
    "pycharm": {
     "name": "#%%\n"
    }
   }
  },
  {
   "cell_type": "markdown",
   "source": [
    "## Implemente pelo menos um filtro\n",
    "\n",
    "## Utilize, no mínimo, uma função agregada com agrupamento\n",
    "\n",
    "## Exiba, no mínimo, três plots. Se possível, use um para variáveis quantitativa e outro para variáveis de qualitativas"
   ],
   "metadata": {
    "collapsed": false,
    "pycharm": {
     "name": "#%% md\n"
    }
   }
  },
  {
   "cell_type": "code",
   "execution_count": 8,
   "outputs": [
    {
     "data": {
      "text/plain": "Estado Mandante\nAL      24.0\nBA     521.0\nCE     477.0\nDF     141.0\nES     615.0\nGO    1061.0\nMG    2438.0\nMT      12.0\nPA     229.0\nPE     880.0\nPR    2147.0\nRJ    3969.0\nRN      24.0\nRS    2426.0\nSC    1269.0\nSP    6011.0\ndtype: float64"
     },
     "execution_count": 8,
     "metadata": {},
     "output_type": "execute_result"
    }
   ],
   "source": [
    "df.groupby(by=['Estado Mandante'])['Mandante Placar'].sum() + df.groupby(by=['Estado Visitante'])['Visitante Placar'].sum()"
   ],
   "metadata": {
    "collapsed": false,
    "pycharm": {
     "name": "#%%\n"
    }
   }
  },
  {
   "cell_type": "code",
   "execution_count": 50,
   "outputs": [
    {
     "name": "stderr",
     "output_type": "stream",
     "text": [
      "C:\\Users\\Cliente\\AppData\\Local\\Temp/ipykernel_2292/568035084.py:4: SettingWithCopyWarning:\n",
      "\n",
      "\n",
      "A value is trying to be set on a copy of a slice from a DataFrame.\n",
      "Try using .loc[row_indexer,col_indexer] = value instead\n",
      "\n",
      "See the caveats in the documentation: https://pandas.pydata.org/pandas-docs/stable/user_guide/indexing.html#returning-a-view-versus-a-copy\n",
      "\n",
      "C:\\Users\\Cliente\\AppData\\Local\\Temp/ipykernel_2292/568035084.py:5: SettingWithCopyWarning:\n",
      "\n",
      "\n",
      "A value is trying to be set on a copy of a slice from a DataFrame.\n",
      "Try using .loc[row_indexer,col_indexer] = value instead\n",
      "\n",
      "See the caveats in the documentation: https://pandas.pydata.org/pandas-docs/stable/user_guide/indexing.html#returning-a-view-versus-a-copy\n",
      "\n",
      "e:\\pycharm 2021.2.1\\projects\\campeonato-brasileiro-ia\\venv\\lib\\site-packages\\pandas\\core\\frame.py:4906: SettingWithCopyWarning:\n",
      "\n",
      "\n",
      "A value is trying to be set on a copy of a slice from a DataFrame\n",
      "\n",
      "See the caveats in the documentation: https://pandas.pydata.org/pandas-docs/stable/user_guide/indexing.html#returning-a-view-versus-a-copy\n",
      "\n"
     ]
    },
    {
     "data": {
      "application/vnd.plotly.v1+json": {
       "config": {
        "plotlyServerURL": "https://plot.ly"
       },
       "data": [
        {
         "hovertemplate": "Ano=%{x}<br>Pontos=%{y}<extra></extra>",
         "legendgroup": "",
         "line": {
          "color": "#636efa",
          "dash": "solid"
         },
         "marker": {
          "symbol": "circle"
         },
         "mode": "lines",
         "name": "",
         "orientation": "v",
         "showlegend": false,
         "type": "scatter",
         "x": [
          2000,
          2001,
          2002,
          2003,
          2004,
          2005,
          2006,
          2007,
          2008,
          2009,
          2010,
          2011,
          2012,
          2013,
          2014,
          2015,
          2016,
          2017,
          2018,
          2019,
          2020,
          2021
         ],
         "xaxis": "x",
         "y": [
          33,
          26,
          29,
          66,
          54,
          55,
          52,
          61,
          64,
          67,
          44,
          61,
          50,
          49,
          52,
          49,
          71,
          56,
          72,
          90,
          49,
          40
         ],
         "yaxis": "y"
        }
       ],
       "layout": {
        "legend": {
         "tracegroupgap": 0
        },
        "margin": {
         "t": 60
        },
        "template": {
         "data": {
          "bar": [
           {
            "error_x": {
             "color": "#2a3f5f"
            },
            "error_y": {
             "color": "#2a3f5f"
            },
            "marker": {
             "line": {
              "color": "#E5ECF6",
              "width": 0.5
             },
             "pattern": {
              "fillmode": "overlay",
              "size": 10,
              "solidity": 0.2
             }
            },
            "type": "bar"
           }
          ],
          "barpolar": [
           {
            "marker": {
             "line": {
              "color": "#E5ECF6",
              "width": 0.5
             },
             "pattern": {
              "fillmode": "overlay",
              "size": 10,
              "solidity": 0.2
             }
            },
            "type": "barpolar"
           }
          ],
          "carpet": [
           {
            "aaxis": {
             "endlinecolor": "#2a3f5f",
             "gridcolor": "white",
             "linecolor": "white",
             "minorgridcolor": "white",
             "startlinecolor": "#2a3f5f"
            },
            "baxis": {
             "endlinecolor": "#2a3f5f",
             "gridcolor": "white",
             "linecolor": "white",
             "minorgridcolor": "white",
             "startlinecolor": "#2a3f5f"
            },
            "type": "carpet"
           }
          ],
          "choropleth": [
           {
            "colorbar": {
             "outlinewidth": 0,
             "ticks": ""
            },
            "type": "choropleth"
           }
          ],
          "contour": [
           {
            "colorbar": {
             "outlinewidth": 0,
             "ticks": ""
            },
            "colorscale": [
             [
              0.0,
              "#0d0887"
             ],
             [
              0.1111111111111111,
              "#46039f"
             ],
             [
              0.2222222222222222,
              "#7201a8"
             ],
             [
              0.3333333333333333,
              "#9c179e"
             ],
             [
              0.4444444444444444,
              "#bd3786"
             ],
             [
              0.5555555555555556,
              "#d8576b"
             ],
             [
              0.6666666666666666,
              "#ed7953"
             ],
             [
              0.7777777777777778,
              "#fb9f3a"
             ],
             [
              0.8888888888888888,
              "#fdca26"
             ],
             [
              1.0,
              "#f0f921"
             ]
            ],
            "type": "contour"
           }
          ],
          "contourcarpet": [
           {
            "colorbar": {
             "outlinewidth": 0,
             "ticks": ""
            },
            "type": "contourcarpet"
           }
          ],
          "heatmap": [
           {
            "colorbar": {
             "outlinewidth": 0,
             "ticks": ""
            },
            "colorscale": [
             [
              0.0,
              "#0d0887"
             ],
             [
              0.1111111111111111,
              "#46039f"
             ],
             [
              0.2222222222222222,
              "#7201a8"
             ],
             [
              0.3333333333333333,
              "#9c179e"
             ],
             [
              0.4444444444444444,
              "#bd3786"
             ],
             [
              0.5555555555555556,
              "#d8576b"
             ],
             [
              0.6666666666666666,
              "#ed7953"
             ],
             [
              0.7777777777777778,
              "#fb9f3a"
             ],
             [
              0.8888888888888888,
              "#fdca26"
             ],
             [
              1.0,
              "#f0f921"
             ]
            ],
            "type": "heatmap"
           }
          ],
          "heatmapgl": [
           {
            "colorbar": {
             "outlinewidth": 0,
             "ticks": ""
            },
            "colorscale": [
             [
              0.0,
              "#0d0887"
             ],
             [
              0.1111111111111111,
              "#46039f"
             ],
             [
              0.2222222222222222,
              "#7201a8"
             ],
             [
              0.3333333333333333,
              "#9c179e"
             ],
             [
              0.4444444444444444,
              "#bd3786"
             ],
             [
              0.5555555555555556,
              "#d8576b"
             ],
             [
              0.6666666666666666,
              "#ed7953"
             ],
             [
              0.7777777777777778,
              "#fb9f3a"
             ],
             [
              0.8888888888888888,
              "#fdca26"
             ],
             [
              1.0,
              "#f0f921"
             ]
            ],
            "type": "heatmapgl"
           }
          ],
          "histogram": [
           {
            "marker": {
             "pattern": {
              "fillmode": "overlay",
              "size": 10,
              "solidity": 0.2
             }
            },
            "type": "histogram"
           }
          ],
          "histogram2d": [
           {
            "colorbar": {
             "outlinewidth": 0,
             "ticks": ""
            },
            "colorscale": [
             [
              0.0,
              "#0d0887"
             ],
             [
              0.1111111111111111,
              "#46039f"
             ],
             [
              0.2222222222222222,
              "#7201a8"
             ],
             [
              0.3333333333333333,
              "#9c179e"
             ],
             [
              0.4444444444444444,
              "#bd3786"
             ],
             [
              0.5555555555555556,
              "#d8576b"
             ],
             [
              0.6666666666666666,
              "#ed7953"
             ],
             [
              0.7777777777777778,
              "#fb9f3a"
             ],
             [
              0.8888888888888888,
              "#fdca26"
             ],
             [
              1.0,
              "#f0f921"
             ]
            ],
            "type": "histogram2d"
           }
          ],
          "histogram2dcontour": [
           {
            "colorbar": {
             "outlinewidth": 0,
             "ticks": ""
            },
            "colorscale": [
             [
              0.0,
              "#0d0887"
             ],
             [
              0.1111111111111111,
              "#46039f"
             ],
             [
              0.2222222222222222,
              "#7201a8"
             ],
             [
              0.3333333333333333,
              "#9c179e"
             ],
             [
              0.4444444444444444,
              "#bd3786"
             ],
             [
              0.5555555555555556,
              "#d8576b"
             ],
             [
              0.6666666666666666,
              "#ed7953"
             ],
             [
              0.7777777777777778,
              "#fb9f3a"
             ],
             [
              0.8888888888888888,
              "#fdca26"
             ],
             [
              1.0,
              "#f0f921"
             ]
            ],
            "type": "histogram2dcontour"
           }
          ],
          "mesh3d": [
           {
            "colorbar": {
             "outlinewidth": 0,
             "ticks": ""
            },
            "type": "mesh3d"
           }
          ],
          "parcoords": [
           {
            "line": {
             "colorbar": {
              "outlinewidth": 0,
              "ticks": ""
             }
            },
            "type": "parcoords"
           }
          ],
          "pie": [
           {
            "automargin": true,
            "type": "pie"
           }
          ],
          "scatter": [
           {
            "marker": {
             "colorbar": {
              "outlinewidth": 0,
              "ticks": ""
             }
            },
            "type": "scatter"
           }
          ],
          "scatter3d": [
           {
            "line": {
             "colorbar": {
              "outlinewidth": 0,
              "ticks": ""
             }
            },
            "marker": {
             "colorbar": {
              "outlinewidth": 0,
              "ticks": ""
             }
            },
            "type": "scatter3d"
           }
          ],
          "scattercarpet": [
           {
            "marker": {
             "colorbar": {
              "outlinewidth": 0,
              "ticks": ""
             }
            },
            "type": "scattercarpet"
           }
          ],
          "scattergeo": [
           {
            "marker": {
             "colorbar": {
              "outlinewidth": 0,
              "ticks": ""
             }
            },
            "type": "scattergeo"
           }
          ],
          "scattergl": [
           {
            "marker": {
             "colorbar": {
              "outlinewidth": 0,
              "ticks": ""
             }
            },
            "type": "scattergl"
           }
          ],
          "scattermapbox": [
           {
            "marker": {
             "colorbar": {
              "outlinewidth": 0,
              "ticks": ""
             }
            },
            "type": "scattermapbox"
           }
          ],
          "scatterpolar": [
           {
            "marker": {
             "colorbar": {
              "outlinewidth": 0,
              "ticks": ""
             }
            },
            "type": "scatterpolar"
           }
          ],
          "scatterpolargl": [
           {
            "marker": {
             "colorbar": {
              "outlinewidth": 0,
              "ticks": ""
             }
            },
            "type": "scatterpolargl"
           }
          ],
          "scatterternary": [
           {
            "marker": {
             "colorbar": {
              "outlinewidth": 0,
              "ticks": ""
             }
            },
            "type": "scatterternary"
           }
          ],
          "surface": [
           {
            "colorbar": {
             "outlinewidth": 0,
             "ticks": ""
            },
            "colorscale": [
             [
              0.0,
              "#0d0887"
             ],
             [
              0.1111111111111111,
              "#46039f"
             ],
             [
              0.2222222222222222,
              "#7201a8"
             ],
             [
              0.3333333333333333,
              "#9c179e"
             ],
             [
              0.4444444444444444,
              "#bd3786"
             ],
             [
              0.5555555555555556,
              "#d8576b"
             ],
             [
              0.6666666666666666,
              "#ed7953"
             ],
             [
              0.7777777777777778,
              "#fb9f3a"
             ],
             [
              0.8888888888888888,
              "#fdca26"
             ],
             [
              1.0,
              "#f0f921"
             ]
            ],
            "type": "surface"
           }
          ],
          "table": [
           {
            "cells": {
             "fill": {
              "color": "#EBF0F8"
             },
             "line": {
              "color": "white"
             }
            },
            "header": {
             "fill": {
              "color": "#C8D4E3"
             },
             "line": {
              "color": "white"
             }
            },
            "type": "table"
           }
          ]
         },
         "layout": {
          "annotationdefaults": {
           "arrowcolor": "#2a3f5f",
           "arrowhead": 0,
           "arrowwidth": 1
          },
          "autotypenumbers": "strict",
          "coloraxis": {
           "colorbar": {
            "outlinewidth": 0,
            "ticks": ""
           }
          },
          "colorscale": {
           "diverging": [
            [
             0,
             "#8e0152"
            ],
            [
             0.1,
             "#c51b7d"
            ],
            [
             0.2,
             "#de77ae"
            ],
            [
             0.3,
             "#f1b6da"
            ],
            [
             0.4,
             "#fde0ef"
            ],
            [
             0.5,
             "#f7f7f7"
            ],
            [
             0.6,
             "#e6f5d0"
            ],
            [
             0.7,
             "#b8e186"
            ],
            [
             0.8,
             "#7fbc41"
            ],
            [
             0.9,
             "#4d9221"
            ],
            [
             1,
             "#276419"
            ]
           ],
           "sequential": [
            [
             0.0,
             "#0d0887"
            ],
            [
             0.1111111111111111,
             "#46039f"
            ],
            [
             0.2222222222222222,
             "#7201a8"
            ],
            [
             0.3333333333333333,
             "#9c179e"
            ],
            [
             0.4444444444444444,
             "#bd3786"
            ],
            [
             0.5555555555555556,
             "#d8576b"
            ],
            [
             0.6666666666666666,
             "#ed7953"
            ],
            [
             0.7777777777777778,
             "#fb9f3a"
            ],
            [
             0.8888888888888888,
             "#fdca26"
            ],
            [
             1.0,
             "#f0f921"
            ]
           ],
           "sequentialminus": [
            [
             0.0,
             "#0d0887"
            ],
            [
             0.1111111111111111,
             "#46039f"
            ],
            [
             0.2222222222222222,
             "#7201a8"
            ],
            [
             0.3333333333333333,
             "#9c179e"
            ],
            [
             0.4444444444444444,
             "#bd3786"
            ],
            [
             0.5555555555555556,
             "#d8576b"
            ],
            [
             0.6666666666666666,
             "#ed7953"
            ],
            [
             0.7777777777777778,
             "#fb9f3a"
            ],
            [
             0.8888888888888888,
             "#fdca26"
            ],
            [
             1.0,
             "#f0f921"
            ]
           ]
          },
          "colorway": [
           "#636efa",
           "#EF553B",
           "#00cc96",
           "#ab63fa",
           "#FFA15A",
           "#19d3f3",
           "#FF6692",
           "#B6E880",
           "#FF97FF",
           "#FECB52"
          ],
          "font": {
           "color": "#2a3f5f"
          },
          "geo": {
           "bgcolor": "white",
           "lakecolor": "white",
           "landcolor": "#E5ECF6",
           "showlakes": true,
           "showland": true,
           "subunitcolor": "white"
          },
          "hoverlabel": {
           "align": "left"
          },
          "hovermode": "closest",
          "mapbox": {
           "style": "light"
          },
          "paper_bgcolor": "white",
          "plot_bgcolor": "#E5ECF6",
          "polar": {
           "angularaxis": {
            "gridcolor": "white",
            "linecolor": "white",
            "ticks": ""
           },
           "bgcolor": "#E5ECF6",
           "radialaxis": {
            "gridcolor": "white",
            "linecolor": "white",
            "ticks": ""
           }
          },
          "scene": {
           "xaxis": {
            "backgroundcolor": "#E5ECF6",
            "gridcolor": "white",
            "gridwidth": 2,
            "linecolor": "white",
            "showbackground": true,
            "ticks": "",
            "zerolinecolor": "white"
           },
           "yaxis": {
            "backgroundcolor": "#E5ECF6",
            "gridcolor": "white",
            "gridwidth": 2,
            "linecolor": "white",
            "showbackground": true,
            "ticks": "",
            "zerolinecolor": "white"
           },
           "zaxis": {
            "backgroundcolor": "#E5ECF6",
            "gridcolor": "white",
            "gridwidth": 2,
            "linecolor": "white",
            "showbackground": true,
            "ticks": "",
            "zerolinecolor": "white"
           }
          },
          "shapedefaults": {
           "line": {
            "color": "#2a3f5f"
           }
          },
          "ternary": {
           "aaxis": {
            "gridcolor": "white",
            "linecolor": "white",
            "ticks": ""
           },
           "baxis": {
            "gridcolor": "white",
            "linecolor": "white",
            "ticks": ""
           },
           "bgcolor": "#E5ECF6",
           "caxis": {
            "gridcolor": "white",
            "linecolor": "white",
            "ticks": ""
           }
          },
          "title": {
           "x": 0.05
          },
          "xaxis": {
           "automargin": true,
           "gridcolor": "white",
           "linecolor": "white",
           "ticks": "",
           "title": {
            "standoff": 15
           },
           "zerolinecolor": "white",
           "zerolinewidth": 2
          },
          "yaxis": {
           "automargin": true,
           "gridcolor": "white",
           "linecolor": "white",
           "ticks": "",
           "title": {
            "standoff": 15
           },
           "zerolinecolor": "white",
           "zerolinewidth": 2
          }
         }
        },
        "xaxis": {
         "anchor": "y",
         "domain": [
          0.0,
          1.0
         ],
         "title": {
          "text": "Ano"
         }
        },
        "yaxis": {
         "anchor": "x",
         "domain": [
          0.0,
          1.0
         ],
         "title": {
          "text": "Pontos"
         }
        }
       }
      },
      "text/html": "<div>                            <div id=\"4f80aa30-4b6c-4305-8c0d-704e98fb37b5\" class=\"plotly-graph-div\" style=\"height:525px; width:100%;\"></div>            <script type=\"text/javascript\">                require([\"plotly\"], function(Plotly) {                    window.PLOTLYENV=window.PLOTLYENV || {};                                    if (document.getElementById(\"4f80aa30-4b6c-4305-8c0d-704e98fb37b5\")) {                    Plotly.newPlot(                        \"4f80aa30-4b6c-4305-8c0d-704e98fb37b5\",                        [{\"hovertemplate\":\"Ano=%{x}<br>Pontos=%{y}<extra></extra>\",\"legendgroup\":\"\",\"line\":{\"color\":\"#636efa\",\"dash\":\"solid\"},\"marker\":{\"symbol\":\"circle\"},\"mode\":\"lines\",\"name\":\"\",\"orientation\":\"v\",\"showlegend\":false,\"type\":\"scatter\",\"x\":[2000,2001,2002,2003,2004,2005,2006,2007,2008,2009,2010,2011,2012,2013,2014,2015,2016,2017,2018,2019,2020,2021],\"xaxis\":\"x\",\"y\":[33,26,29,66,54,55,52,61,64,67,44,61,50,49,52,49,71,56,72,90,49,40],\"yaxis\":\"y\"}],                        {\"legend\":{\"tracegroupgap\":0},\"margin\":{\"t\":60},\"template\":{\"data\":{\"bar\":[{\"error_x\":{\"color\":\"#2a3f5f\"},\"error_y\":{\"color\":\"#2a3f5f\"},\"marker\":{\"line\":{\"color\":\"#E5ECF6\",\"width\":0.5},\"pattern\":{\"fillmode\":\"overlay\",\"size\":10,\"solidity\":0.2}},\"type\":\"bar\"}],\"barpolar\":[{\"marker\":{\"line\":{\"color\":\"#E5ECF6\",\"width\":0.5},\"pattern\":{\"fillmode\":\"overlay\",\"size\":10,\"solidity\":0.2}},\"type\":\"barpolar\"}],\"carpet\":[{\"aaxis\":{\"endlinecolor\":\"#2a3f5f\",\"gridcolor\":\"white\",\"linecolor\":\"white\",\"minorgridcolor\":\"white\",\"startlinecolor\":\"#2a3f5f\"},\"baxis\":{\"endlinecolor\":\"#2a3f5f\",\"gridcolor\":\"white\",\"linecolor\":\"white\",\"minorgridcolor\":\"white\",\"startlinecolor\":\"#2a3f5f\"},\"type\":\"carpet\"}],\"choropleth\":[{\"colorbar\":{\"outlinewidth\":0,\"ticks\":\"\"},\"type\":\"choropleth\"}],\"contour\":[{\"colorbar\":{\"outlinewidth\":0,\"ticks\":\"\"},\"colorscale\":[[0.0,\"#0d0887\"],[0.1111111111111111,\"#46039f\"],[0.2222222222222222,\"#7201a8\"],[0.3333333333333333,\"#9c179e\"],[0.4444444444444444,\"#bd3786\"],[0.5555555555555556,\"#d8576b\"],[0.6666666666666666,\"#ed7953\"],[0.7777777777777778,\"#fb9f3a\"],[0.8888888888888888,\"#fdca26\"],[1.0,\"#f0f921\"]],\"type\":\"contour\"}],\"contourcarpet\":[{\"colorbar\":{\"outlinewidth\":0,\"ticks\":\"\"},\"type\":\"contourcarpet\"}],\"heatmap\":[{\"colorbar\":{\"outlinewidth\":0,\"ticks\":\"\"},\"colorscale\":[[0.0,\"#0d0887\"],[0.1111111111111111,\"#46039f\"],[0.2222222222222222,\"#7201a8\"],[0.3333333333333333,\"#9c179e\"],[0.4444444444444444,\"#bd3786\"],[0.5555555555555556,\"#d8576b\"],[0.6666666666666666,\"#ed7953\"],[0.7777777777777778,\"#fb9f3a\"],[0.8888888888888888,\"#fdca26\"],[1.0,\"#f0f921\"]],\"type\":\"heatmap\"}],\"heatmapgl\":[{\"colorbar\":{\"outlinewidth\":0,\"ticks\":\"\"},\"colorscale\":[[0.0,\"#0d0887\"],[0.1111111111111111,\"#46039f\"],[0.2222222222222222,\"#7201a8\"],[0.3333333333333333,\"#9c179e\"],[0.4444444444444444,\"#bd3786\"],[0.5555555555555556,\"#d8576b\"],[0.6666666666666666,\"#ed7953\"],[0.7777777777777778,\"#fb9f3a\"],[0.8888888888888888,\"#fdca26\"],[1.0,\"#f0f921\"]],\"type\":\"heatmapgl\"}],\"histogram\":[{\"marker\":{\"pattern\":{\"fillmode\":\"overlay\",\"size\":10,\"solidity\":0.2}},\"type\":\"histogram\"}],\"histogram2d\":[{\"colorbar\":{\"outlinewidth\":0,\"ticks\":\"\"},\"colorscale\":[[0.0,\"#0d0887\"],[0.1111111111111111,\"#46039f\"],[0.2222222222222222,\"#7201a8\"],[0.3333333333333333,\"#9c179e\"],[0.4444444444444444,\"#bd3786\"],[0.5555555555555556,\"#d8576b\"],[0.6666666666666666,\"#ed7953\"],[0.7777777777777778,\"#fb9f3a\"],[0.8888888888888888,\"#fdca26\"],[1.0,\"#f0f921\"]],\"type\":\"histogram2d\"}],\"histogram2dcontour\":[{\"colorbar\":{\"outlinewidth\":0,\"ticks\":\"\"},\"colorscale\":[[0.0,\"#0d0887\"],[0.1111111111111111,\"#46039f\"],[0.2222222222222222,\"#7201a8\"],[0.3333333333333333,\"#9c179e\"],[0.4444444444444444,\"#bd3786\"],[0.5555555555555556,\"#d8576b\"],[0.6666666666666666,\"#ed7953\"],[0.7777777777777778,\"#fb9f3a\"],[0.8888888888888888,\"#fdca26\"],[1.0,\"#f0f921\"]],\"type\":\"histogram2dcontour\"}],\"mesh3d\":[{\"colorbar\":{\"outlinewidth\":0,\"ticks\":\"\"},\"type\":\"mesh3d\"}],\"parcoords\":[{\"line\":{\"colorbar\":{\"outlinewidth\":0,\"ticks\":\"\"}},\"type\":\"parcoords\"}],\"pie\":[{\"automargin\":true,\"type\":\"pie\"}],\"scatter\":[{\"marker\":{\"colorbar\":{\"outlinewidth\":0,\"ticks\":\"\"}},\"type\":\"scatter\"}],\"scatter3d\":[{\"line\":{\"colorbar\":{\"outlinewidth\":0,\"ticks\":\"\"}},\"marker\":{\"colorbar\":{\"outlinewidth\":0,\"ticks\":\"\"}},\"type\":\"scatter3d\"}],\"scattercarpet\":[{\"marker\":{\"colorbar\":{\"outlinewidth\":0,\"ticks\":\"\"}},\"type\":\"scattercarpet\"}],\"scattergeo\":[{\"marker\":{\"colorbar\":{\"outlinewidth\":0,\"ticks\":\"\"}},\"type\":\"scattergeo\"}],\"scattergl\":[{\"marker\":{\"colorbar\":{\"outlinewidth\":0,\"ticks\":\"\"}},\"type\":\"scattergl\"}],\"scattermapbox\":[{\"marker\":{\"colorbar\":{\"outlinewidth\":0,\"ticks\":\"\"}},\"type\":\"scattermapbox\"}],\"scatterpolar\":[{\"marker\":{\"colorbar\":{\"outlinewidth\":0,\"ticks\":\"\"}},\"type\":\"scatterpolar\"}],\"scatterpolargl\":[{\"marker\":{\"colorbar\":{\"outlinewidth\":0,\"ticks\":\"\"}},\"type\":\"scatterpolargl\"}],\"scatterternary\":[{\"marker\":{\"colorbar\":{\"outlinewidth\":0,\"ticks\":\"\"}},\"type\":\"scatterternary\"}],\"surface\":[{\"colorbar\":{\"outlinewidth\":0,\"ticks\":\"\"},\"colorscale\":[[0.0,\"#0d0887\"],[0.1111111111111111,\"#46039f\"],[0.2222222222222222,\"#7201a8\"],[0.3333333333333333,\"#9c179e\"],[0.4444444444444444,\"#bd3786\"],[0.5555555555555556,\"#d8576b\"],[0.6666666666666666,\"#ed7953\"],[0.7777777777777778,\"#fb9f3a\"],[0.8888888888888888,\"#fdca26\"],[1.0,\"#f0f921\"]],\"type\":\"surface\"}],\"table\":[{\"cells\":{\"fill\":{\"color\":\"#EBF0F8\"},\"line\":{\"color\":\"white\"}},\"header\":{\"fill\":{\"color\":\"#C8D4E3\"},\"line\":{\"color\":\"white\"}},\"type\":\"table\"}]},\"layout\":{\"annotationdefaults\":{\"arrowcolor\":\"#2a3f5f\",\"arrowhead\":0,\"arrowwidth\":1},\"autotypenumbers\":\"strict\",\"coloraxis\":{\"colorbar\":{\"outlinewidth\":0,\"ticks\":\"\"}},\"colorscale\":{\"diverging\":[[0,\"#8e0152\"],[0.1,\"#c51b7d\"],[0.2,\"#de77ae\"],[0.3,\"#f1b6da\"],[0.4,\"#fde0ef\"],[0.5,\"#f7f7f7\"],[0.6,\"#e6f5d0\"],[0.7,\"#b8e186\"],[0.8,\"#7fbc41\"],[0.9,\"#4d9221\"],[1,\"#276419\"]],\"sequential\":[[0.0,\"#0d0887\"],[0.1111111111111111,\"#46039f\"],[0.2222222222222222,\"#7201a8\"],[0.3333333333333333,\"#9c179e\"],[0.4444444444444444,\"#bd3786\"],[0.5555555555555556,\"#d8576b\"],[0.6666666666666666,\"#ed7953\"],[0.7777777777777778,\"#fb9f3a\"],[0.8888888888888888,\"#fdca26\"],[1.0,\"#f0f921\"]],\"sequentialminus\":[[0.0,\"#0d0887\"],[0.1111111111111111,\"#46039f\"],[0.2222222222222222,\"#7201a8\"],[0.3333333333333333,\"#9c179e\"],[0.4444444444444444,\"#bd3786\"],[0.5555555555555556,\"#d8576b\"],[0.6666666666666666,\"#ed7953\"],[0.7777777777777778,\"#fb9f3a\"],[0.8888888888888888,\"#fdca26\"],[1.0,\"#f0f921\"]]},\"colorway\":[\"#636efa\",\"#EF553B\",\"#00cc96\",\"#ab63fa\",\"#FFA15A\",\"#19d3f3\",\"#FF6692\",\"#B6E880\",\"#FF97FF\",\"#FECB52\"],\"font\":{\"color\":\"#2a3f5f\"},\"geo\":{\"bgcolor\":\"white\",\"lakecolor\":\"white\",\"landcolor\":\"#E5ECF6\",\"showlakes\":true,\"showland\":true,\"subunitcolor\":\"white\"},\"hoverlabel\":{\"align\":\"left\"},\"hovermode\":\"closest\",\"mapbox\":{\"style\":\"light\"},\"paper_bgcolor\":\"white\",\"plot_bgcolor\":\"#E5ECF6\",\"polar\":{\"angularaxis\":{\"gridcolor\":\"white\",\"linecolor\":\"white\",\"ticks\":\"\"},\"bgcolor\":\"#E5ECF6\",\"radialaxis\":{\"gridcolor\":\"white\",\"linecolor\":\"white\",\"ticks\":\"\"}},\"scene\":{\"xaxis\":{\"backgroundcolor\":\"#E5ECF6\",\"gridcolor\":\"white\",\"gridwidth\":2,\"linecolor\":\"white\",\"showbackground\":true,\"ticks\":\"\",\"zerolinecolor\":\"white\"},\"yaxis\":{\"backgroundcolor\":\"#E5ECF6\",\"gridcolor\":\"white\",\"gridwidth\":2,\"linecolor\":\"white\",\"showbackground\":true,\"ticks\":\"\",\"zerolinecolor\":\"white\"},\"zaxis\":{\"backgroundcolor\":\"#E5ECF6\",\"gridcolor\":\"white\",\"gridwidth\":2,\"linecolor\":\"white\",\"showbackground\":true,\"ticks\":\"\",\"zerolinecolor\":\"white\"}},\"shapedefaults\":{\"line\":{\"color\":\"#2a3f5f\"}},\"ternary\":{\"aaxis\":{\"gridcolor\":\"white\",\"linecolor\":\"white\",\"ticks\":\"\"},\"baxis\":{\"gridcolor\":\"white\",\"linecolor\":\"white\",\"ticks\":\"\"},\"bgcolor\":\"#E5ECF6\",\"caxis\":{\"gridcolor\":\"white\",\"linecolor\":\"white\",\"ticks\":\"\"}},\"title\":{\"x\":0.05},\"xaxis\":{\"automargin\":true,\"gridcolor\":\"white\",\"linecolor\":\"white\",\"ticks\":\"\",\"title\":{\"standoff\":15},\"zerolinecolor\":\"white\",\"zerolinewidth\":2},\"yaxis\":{\"automargin\":true,\"gridcolor\":\"white\",\"linecolor\":\"white\",\"ticks\":\"\",\"title\":{\"standoff\":15},\"zerolinecolor\":\"white\",\"zerolinewidth\":2}}},\"xaxis\":{\"anchor\":\"y\",\"domain\":[0.0,1.0],\"title\":{\"text\":\"Ano\"}},\"yaxis\":{\"anchor\":\"x\",\"domain\":[0.0,1.0],\"title\":{\"text\":\"Pontos\"}}},                        {\"responsive\": true}                    ).then(function(){\n                            \nvar gd = document.getElementById('4f80aa30-4b6c-4305-8c0d-704e98fb37b5');\nvar x = new MutationObserver(function (mutations, observer) {{\n        var display = window.getComputedStyle(gd).display;\n        if (!display || display === 'none') {{\n            console.log([gd, 'removed!']);\n            Plotly.purge(gd);\n            observer.disconnect();\n        }}\n}});\n\n// Listen for the removal of the full notebook cells\nvar notebookContainer = gd.closest('#notebook-container');\nif (notebookContainer) {{\n    x.observe(notebookContainer, {childList: true});\n}}\n\n// Listen for the clearing of the current output cell\nvar outputEl = gd.closest('.output');\nif (outputEl) {{\n    x.observe(outputEl, {childList: true});\n}}\n\n                        })                };                });            </script>        </div>"
     },
     "metadata": {},
     "output_type": "display_data"
    },
    {
     "data": {
      "application/vnd.plotly.v1+json": {
       "config": {
        "plotlyServerURL": "https://plot.ly"
       },
       "data": [
        {
         "alignmentgroup": "True",
         "hovertemplate": "Time=%{x}<br>Pontos=%{y}<extra></extra>",
         "legendgroup": "",
         "marker": {
          "color": "#636efa",
          "pattern": {
           "shape": ""
          }
         },
         "name": "",
         "offsetgroup": "",
         "orientation": "v",
         "showlegend": false,
         "textposition": "auto",
         "type": "bar",
         "x": [
          "AVAI",
          "CSA",
          "CHAPECOENSE",
          "CRUZEIRO",
          "CEARA",
          "BOTAFOGO-RJ",
          "FLUMINENSE",
          "ATLETICO-MG",
          "BAHIA",
          "VASCO",
          "GOIAS",
          "FORTALEZA",
          "CORINTHIANS",
          "INTERNACIONAL",
          "SAO PAULO",
          "ATHLETICO-PR",
          "GREMIO",
          "SANTOS",
          "PALMEIRAS",
          "FLAMENGO"
         ],
         "xaxis": "x",
         "y": [
          20,
          32,
          32,
          36,
          39,
          43,
          46,
          48,
          49,
          49,
          52,
          53,
          56,
          57,
          63,
          64,
          65,
          74,
          74,
          90
         ],
         "yaxis": "y"
        }
       ],
       "layout": {
        "barmode": "relative",
        "legend": {
         "tracegroupgap": 0
        },
        "margin": {
         "t": 60
        },
        "template": {
         "data": {
          "bar": [
           {
            "error_x": {
             "color": "#2a3f5f"
            },
            "error_y": {
             "color": "#2a3f5f"
            },
            "marker": {
             "line": {
              "color": "#E5ECF6",
              "width": 0.5
             },
             "pattern": {
              "fillmode": "overlay",
              "size": 10,
              "solidity": 0.2
             }
            },
            "type": "bar"
           }
          ],
          "barpolar": [
           {
            "marker": {
             "line": {
              "color": "#E5ECF6",
              "width": 0.5
             },
             "pattern": {
              "fillmode": "overlay",
              "size": 10,
              "solidity": 0.2
             }
            },
            "type": "barpolar"
           }
          ],
          "carpet": [
           {
            "aaxis": {
             "endlinecolor": "#2a3f5f",
             "gridcolor": "white",
             "linecolor": "white",
             "minorgridcolor": "white",
             "startlinecolor": "#2a3f5f"
            },
            "baxis": {
             "endlinecolor": "#2a3f5f",
             "gridcolor": "white",
             "linecolor": "white",
             "minorgridcolor": "white",
             "startlinecolor": "#2a3f5f"
            },
            "type": "carpet"
           }
          ],
          "choropleth": [
           {
            "colorbar": {
             "outlinewidth": 0,
             "ticks": ""
            },
            "type": "choropleth"
           }
          ],
          "contour": [
           {
            "colorbar": {
             "outlinewidth": 0,
             "ticks": ""
            },
            "colorscale": [
             [
              0.0,
              "#0d0887"
             ],
             [
              0.1111111111111111,
              "#46039f"
             ],
             [
              0.2222222222222222,
              "#7201a8"
             ],
             [
              0.3333333333333333,
              "#9c179e"
             ],
             [
              0.4444444444444444,
              "#bd3786"
             ],
             [
              0.5555555555555556,
              "#d8576b"
             ],
             [
              0.6666666666666666,
              "#ed7953"
             ],
             [
              0.7777777777777778,
              "#fb9f3a"
             ],
             [
              0.8888888888888888,
              "#fdca26"
             ],
             [
              1.0,
              "#f0f921"
             ]
            ],
            "type": "contour"
           }
          ],
          "contourcarpet": [
           {
            "colorbar": {
             "outlinewidth": 0,
             "ticks": ""
            },
            "type": "contourcarpet"
           }
          ],
          "heatmap": [
           {
            "colorbar": {
             "outlinewidth": 0,
             "ticks": ""
            },
            "colorscale": [
             [
              0.0,
              "#0d0887"
             ],
             [
              0.1111111111111111,
              "#46039f"
             ],
             [
              0.2222222222222222,
              "#7201a8"
             ],
             [
              0.3333333333333333,
              "#9c179e"
             ],
             [
              0.4444444444444444,
              "#bd3786"
             ],
             [
              0.5555555555555556,
              "#d8576b"
             ],
             [
              0.6666666666666666,
              "#ed7953"
             ],
             [
              0.7777777777777778,
              "#fb9f3a"
             ],
             [
              0.8888888888888888,
              "#fdca26"
             ],
             [
              1.0,
              "#f0f921"
             ]
            ],
            "type": "heatmap"
           }
          ],
          "heatmapgl": [
           {
            "colorbar": {
             "outlinewidth": 0,
             "ticks": ""
            },
            "colorscale": [
             [
              0.0,
              "#0d0887"
             ],
             [
              0.1111111111111111,
              "#46039f"
             ],
             [
              0.2222222222222222,
              "#7201a8"
             ],
             [
              0.3333333333333333,
              "#9c179e"
             ],
             [
              0.4444444444444444,
              "#bd3786"
             ],
             [
              0.5555555555555556,
              "#d8576b"
             ],
             [
              0.6666666666666666,
              "#ed7953"
             ],
             [
              0.7777777777777778,
              "#fb9f3a"
             ],
             [
              0.8888888888888888,
              "#fdca26"
             ],
             [
              1.0,
              "#f0f921"
             ]
            ],
            "type": "heatmapgl"
           }
          ],
          "histogram": [
           {
            "marker": {
             "pattern": {
              "fillmode": "overlay",
              "size": 10,
              "solidity": 0.2
             }
            },
            "type": "histogram"
           }
          ],
          "histogram2d": [
           {
            "colorbar": {
             "outlinewidth": 0,
             "ticks": ""
            },
            "colorscale": [
             [
              0.0,
              "#0d0887"
             ],
             [
              0.1111111111111111,
              "#46039f"
             ],
             [
              0.2222222222222222,
              "#7201a8"
             ],
             [
              0.3333333333333333,
              "#9c179e"
             ],
             [
              0.4444444444444444,
              "#bd3786"
             ],
             [
              0.5555555555555556,
              "#d8576b"
             ],
             [
              0.6666666666666666,
              "#ed7953"
             ],
             [
              0.7777777777777778,
              "#fb9f3a"
             ],
             [
              0.8888888888888888,
              "#fdca26"
             ],
             [
              1.0,
              "#f0f921"
             ]
            ],
            "type": "histogram2d"
           }
          ],
          "histogram2dcontour": [
           {
            "colorbar": {
             "outlinewidth": 0,
             "ticks": ""
            },
            "colorscale": [
             [
              0.0,
              "#0d0887"
             ],
             [
              0.1111111111111111,
              "#46039f"
             ],
             [
              0.2222222222222222,
              "#7201a8"
             ],
             [
              0.3333333333333333,
              "#9c179e"
             ],
             [
              0.4444444444444444,
              "#bd3786"
             ],
             [
              0.5555555555555556,
              "#d8576b"
             ],
             [
              0.6666666666666666,
              "#ed7953"
             ],
             [
              0.7777777777777778,
              "#fb9f3a"
             ],
             [
              0.8888888888888888,
              "#fdca26"
             ],
             [
              1.0,
              "#f0f921"
             ]
            ],
            "type": "histogram2dcontour"
           }
          ],
          "mesh3d": [
           {
            "colorbar": {
             "outlinewidth": 0,
             "ticks": ""
            },
            "type": "mesh3d"
           }
          ],
          "parcoords": [
           {
            "line": {
             "colorbar": {
              "outlinewidth": 0,
              "ticks": ""
             }
            },
            "type": "parcoords"
           }
          ],
          "pie": [
           {
            "automargin": true,
            "type": "pie"
           }
          ],
          "scatter": [
           {
            "marker": {
             "colorbar": {
              "outlinewidth": 0,
              "ticks": ""
             }
            },
            "type": "scatter"
           }
          ],
          "scatter3d": [
           {
            "line": {
             "colorbar": {
              "outlinewidth": 0,
              "ticks": ""
             }
            },
            "marker": {
             "colorbar": {
              "outlinewidth": 0,
              "ticks": ""
             }
            },
            "type": "scatter3d"
           }
          ],
          "scattercarpet": [
           {
            "marker": {
             "colorbar": {
              "outlinewidth": 0,
              "ticks": ""
             }
            },
            "type": "scattercarpet"
           }
          ],
          "scattergeo": [
           {
            "marker": {
             "colorbar": {
              "outlinewidth": 0,
              "ticks": ""
             }
            },
            "type": "scattergeo"
           }
          ],
          "scattergl": [
           {
            "marker": {
             "colorbar": {
              "outlinewidth": 0,
              "ticks": ""
             }
            },
            "type": "scattergl"
           }
          ],
          "scattermapbox": [
           {
            "marker": {
             "colorbar": {
              "outlinewidth": 0,
              "ticks": ""
             }
            },
            "type": "scattermapbox"
           }
          ],
          "scatterpolar": [
           {
            "marker": {
             "colorbar": {
              "outlinewidth": 0,
              "ticks": ""
             }
            },
            "type": "scatterpolar"
           }
          ],
          "scatterpolargl": [
           {
            "marker": {
             "colorbar": {
              "outlinewidth": 0,
              "ticks": ""
             }
            },
            "type": "scatterpolargl"
           }
          ],
          "scatterternary": [
           {
            "marker": {
             "colorbar": {
              "outlinewidth": 0,
              "ticks": ""
             }
            },
            "type": "scatterternary"
           }
          ],
          "surface": [
           {
            "colorbar": {
             "outlinewidth": 0,
             "ticks": ""
            },
            "colorscale": [
             [
              0.0,
              "#0d0887"
             ],
             [
              0.1111111111111111,
              "#46039f"
             ],
             [
              0.2222222222222222,
              "#7201a8"
             ],
             [
              0.3333333333333333,
              "#9c179e"
             ],
             [
              0.4444444444444444,
              "#bd3786"
             ],
             [
              0.5555555555555556,
              "#d8576b"
             ],
             [
              0.6666666666666666,
              "#ed7953"
             ],
             [
              0.7777777777777778,
              "#fb9f3a"
             ],
             [
              0.8888888888888888,
              "#fdca26"
             ],
             [
              1.0,
              "#f0f921"
             ]
            ],
            "type": "surface"
           }
          ],
          "table": [
           {
            "cells": {
             "fill": {
              "color": "#EBF0F8"
             },
             "line": {
              "color": "white"
             }
            },
            "header": {
             "fill": {
              "color": "#C8D4E3"
             },
             "line": {
              "color": "white"
             }
            },
            "type": "table"
           }
          ]
         },
         "layout": {
          "annotationdefaults": {
           "arrowcolor": "#2a3f5f",
           "arrowhead": 0,
           "arrowwidth": 1
          },
          "autotypenumbers": "strict",
          "coloraxis": {
           "colorbar": {
            "outlinewidth": 0,
            "ticks": ""
           }
          },
          "colorscale": {
           "diverging": [
            [
             0,
             "#8e0152"
            ],
            [
             0.1,
             "#c51b7d"
            ],
            [
             0.2,
             "#de77ae"
            ],
            [
             0.3,
             "#f1b6da"
            ],
            [
             0.4,
             "#fde0ef"
            ],
            [
             0.5,
             "#f7f7f7"
            ],
            [
             0.6,
             "#e6f5d0"
            ],
            [
             0.7,
             "#b8e186"
            ],
            [
             0.8,
             "#7fbc41"
            ],
            [
             0.9,
             "#4d9221"
            ],
            [
             1,
             "#276419"
            ]
           ],
           "sequential": [
            [
             0.0,
             "#0d0887"
            ],
            [
             0.1111111111111111,
             "#46039f"
            ],
            [
             0.2222222222222222,
             "#7201a8"
            ],
            [
             0.3333333333333333,
             "#9c179e"
            ],
            [
             0.4444444444444444,
             "#bd3786"
            ],
            [
             0.5555555555555556,
             "#d8576b"
            ],
            [
             0.6666666666666666,
             "#ed7953"
            ],
            [
             0.7777777777777778,
             "#fb9f3a"
            ],
            [
             0.8888888888888888,
             "#fdca26"
            ],
            [
             1.0,
             "#f0f921"
            ]
           ],
           "sequentialminus": [
            [
             0.0,
             "#0d0887"
            ],
            [
             0.1111111111111111,
             "#46039f"
            ],
            [
             0.2222222222222222,
             "#7201a8"
            ],
            [
             0.3333333333333333,
             "#9c179e"
            ],
            [
             0.4444444444444444,
             "#bd3786"
            ],
            [
             0.5555555555555556,
             "#d8576b"
            ],
            [
             0.6666666666666666,
             "#ed7953"
            ],
            [
             0.7777777777777778,
             "#fb9f3a"
            ],
            [
             0.8888888888888888,
             "#fdca26"
            ],
            [
             1.0,
             "#f0f921"
            ]
           ]
          },
          "colorway": [
           "#636efa",
           "#EF553B",
           "#00cc96",
           "#ab63fa",
           "#FFA15A",
           "#19d3f3",
           "#FF6692",
           "#B6E880",
           "#FF97FF",
           "#FECB52"
          ],
          "font": {
           "color": "#2a3f5f"
          },
          "geo": {
           "bgcolor": "white",
           "lakecolor": "white",
           "landcolor": "#E5ECF6",
           "showlakes": true,
           "showland": true,
           "subunitcolor": "white"
          },
          "hoverlabel": {
           "align": "left"
          },
          "hovermode": "closest",
          "mapbox": {
           "style": "light"
          },
          "paper_bgcolor": "white",
          "plot_bgcolor": "#E5ECF6",
          "polar": {
           "angularaxis": {
            "gridcolor": "white",
            "linecolor": "white",
            "ticks": ""
           },
           "bgcolor": "#E5ECF6",
           "radialaxis": {
            "gridcolor": "white",
            "linecolor": "white",
            "ticks": ""
           }
          },
          "scene": {
           "xaxis": {
            "backgroundcolor": "#E5ECF6",
            "gridcolor": "white",
            "gridwidth": 2,
            "linecolor": "white",
            "showbackground": true,
            "ticks": "",
            "zerolinecolor": "white"
           },
           "yaxis": {
            "backgroundcolor": "#E5ECF6",
            "gridcolor": "white",
            "gridwidth": 2,
            "linecolor": "white",
            "showbackground": true,
            "ticks": "",
            "zerolinecolor": "white"
           },
           "zaxis": {
            "backgroundcolor": "#E5ECF6",
            "gridcolor": "white",
            "gridwidth": 2,
            "linecolor": "white",
            "showbackground": true,
            "ticks": "",
            "zerolinecolor": "white"
           }
          },
          "shapedefaults": {
           "line": {
            "color": "#2a3f5f"
           }
          },
          "ternary": {
           "aaxis": {
            "gridcolor": "white",
            "linecolor": "white",
            "ticks": ""
           },
           "baxis": {
            "gridcolor": "white",
            "linecolor": "white",
            "ticks": ""
           },
           "bgcolor": "#E5ECF6",
           "caxis": {
            "gridcolor": "white",
            "linecolor": "white",
            "ticks": ""
           }
          },
          "title": {
           "x": 0.05
          },
          "xaxis": {
           "automargin": true,
           "gridcolor": "white",
           "linecolor": "white",
           "ticks": "",
           "title": {
            "standoff": 15
           },
           "zerolinecolor": "white",
           "zerolinewidth": 2
          },
          "yaxis": {
           "automargin": true,
           "gridcolor": "white",
           "linecolor": "white",
           "ticks": "",
           "title": {
            "standoff": 15
           },
           "zerolinecolor": "white",
           "zerolinewidth": 2
          }
         }
        },
        "xaxis": {
         "anchor": "y",
         "domain": [
          0.0,
          1.0
         ],
         "title": {
          "text": "Time"
         }
        },
        "yaxis": {
         "anchor": "x",
         "domain": [
          0.0,
          1.0
         ],
         "title": {
          "text": "Pontos"
         }
        }
       }
      },
      "text/html": "<div>                            <div id=\"9a11910a-3164-4bad-84e8-5b5c9753beda\" class=\"plotly-graph-div\" style=\"height:525px; width:100%;\"></div>            <script type=\"text/javascript\">                require([\"plotly\"], function(Plotly) {                    window.PLOTLYENV=window.PLOTLYENV || {};                                    if (document.getElementById(\"9a11910a-3164-4bad-84e8-5b5c9753beda\")) {                    Plotly.newPlot(                        \"9a11910a-3164-4bad-84e8-5b5c9753beda\",                        [{\"alignmentgroup\":\"True\",\"hovertemplate\":\"Time=%{x}<br>Pontos=%{y}<extra></extra>\",\"legendgroup\":\"\",\"marker\":{\"color\":\"#636efa\",\"pattern\":{\"shape\":\"\"}},\"name\":\"\",\"offsetgroup\":\"\",\"orientation\":\"v\",\"showlegend\":false,\"textposition\":\"auto\",\"type\":\"bar\",\"x\":[\"AVAI\",\"CSA\",\"CHAPECOENSE\",\"CRUZEIRO\",\"CEARA\",\"BOTAFOGO-RJ\",\"FLUMINENSE\",\"ATLETICO-MG\",\"BAHIA\",\"VASCO\",\"GOIAS\",\"FORTALEZA\",\"CORINTHIANS\",\"INTERNACIONAL\",\"SAO PAULO\",\"ATHLETICO-PR\",\"GREMIO\",\"SANTOS\",\"PALMEIRAS\",\"FLAMENGO\"],\"xaxis\":\"x\",\"y\":[20,32,32,36,39,43,46,48,49,49,52,53,56,57,63,64,65,74,74,90],\"yaxis\":\"y\"}],                        {\"barmode\":\"relative\",\"legend\":{\"tracegroupgap\":0},\"margin\":{\"t\":60},\"template\":{\"data\":{\"bar\":[{\"error_x\":{\"color\":\"#2a3f5f\"},\"error_y\":{\"color\":\"#2a3f5f\"},\"marker\":{\"line\":{\"color\":\"#E5ECF6\",\"width\":0.5},\"pattern\":{\"fillmode\":\"overlay\",\"size\":10,\"solidity\":0.2}},\"type\":\"bar\"}],\"barpolar\":[{\"marker\":{\"line\":{\"color\":\"#E5ECF6\",\"width\":0.5},\"pattern\":{\"fillmode\":\"overlay\",\"size\":10,\"solidity\":0.2}},\"type\":\"barpolar\"}],\"carpet\":[{\"aaxis\":{\"endlinecolor\":\"#2a3f5f\",\"gridcolor\":\"white\",\"linecolor\":\"white\",\"minorgridcolor\":\"white\",\"startlinecolor\":\"#2a3f5f\"},\"baxis\":{\"endlinecolor\":\"#2a3f5f\",\"gridcolor\":\"white\",\"linecolor\":\"white\",\"minorgridcolor\":\"white\",\"startlinecolor\":\"#2a3f5f\"},\"type\":\"carpet\"}],\"choropleth\":[{\"colorbar\":{\"outlinewidth\":0,\"ticks\":\"\"},\"type\":\"choropleth\"}],\"contour\":[{\"colorbar\":{\"outlinewidth\":0,\"ticks\":\"\"},\"colorscale\":[[0.0,\"#0d0887\"],[0.1111111111111111,\"#46039f\"],[0.2222222222222222,\"#7201a8\"],[0.3333333333333333,\"#9c179e\"],[0.4444444444444444,\"#bd3786\"],[0.5555555555555556,\"#d8576b\"],[0.6666666666666666,\"#ed7953\"],[0.7777777777777778,\"#fb9f3a\"],[0.8888888888888888,\"#fdca26\"],[1.0,\"#f0f921\"]],\"type\":\"contour\"}],\"contourcarpet\":[{\"colorbar\":{\"outlinewidth\":0,\"ticks\":\"\"},\"type\":\"contourcarpet\"}],\"heatmap\":[{\"colorbar\":{\"outlinewidth\":0,\"ticks\":\"\"},\"colorscale\":[[0.0,\"#0d0887\"],[0.1111111111111111,\"#46039f\"],[0.2222222222222222,\"#7201a8\"],[0.3333333333333333,\"#9c179e\"],[0.4444444444444444,\"#bd3786\"],[0.5555555555555556,\"#d8576b\"],[0.6666666666666666,\"#ed7953\"],[0.7777777777777778,\"#fb9f3a\"],[0.8888888888888888,\"#fdca26\"],[1.0,\"#f0f921\"]],\"type\":\"heatmap\"}],\"heatmapgl\":[{\"colorbar\":{\"outlinewidth\":0,\"ticks\":\"\"},\"colorscale\":[[0.0,\"#0d0887\"],[0.1111111111111111,\"#46039f\"],[0.2222222222222222,\"#7201a8\"],[0.3333333333333333,\"#9c179e\"],[0.4444444444444444,\"#bd3786\"],[0.5555555555555556,\"#d8576b\"],[0.6666666666666666,\"#ed7953\"],[0.7777777777777778,\"#fb9f3a\"],[0.8888888888888888,\"#fdca26\"],[1.0,\"#f0f921\"]],\"type\":\"heatmapgl\"}],\"histogram\":[{\"marker\":{\"pattern\":{\"fillmode\":\"overlay\",\"size\":10,\"solidity\":0.2}},\"type\":\"histogram\"}],\"histogram2d\":[{\"colorbar\":{\"outlinewidth\":0,\"ticks\":\"\"},\"colorscale\":[[0.0,\"#0d0887\"],[0.1111111111111111,\"#46039f\"],[0.2222222222222222,\"#7201a8\"],[0.3333333333333333,\"#9c179e\"],[0.4444444444444444,\"#bd3786\"],[0.5555555555555556,\"#d8576b\"],[0.6666666666666666,\"#ed7953\"],[0.7777777777777778,\"#fb9f3a\"],[0.8888888888888888,\"#fdca26\"],[1.0,\"#f0f921\"]],\"type\":\"histogram2d\"}],\"histogram2dcontour\":[{\"colorbar\":{\"outlinewidth\":0,\"ticks\":\"\"},\"colorscale\":[[0.0,\"#0d0887\"],[0.1111111111111111,\"#46039f\"],[0.2222222222222222,\"#7201a8\"],[0.3333333333333333,\"#9c179e\"],[0.4444444444444444,\"#bd3786\"],[0.5555555555555556,\"#d8576b\"],[0.6666666666666666,\"#ed7953\"],[0.7777777777777778,\"#fb9f3a\"],[0.8888888888888888,\"#fdca26\"],[1.0,\"#f0f921\"]],\"type\":\"histogram2dcontour\"}],\"mesh3d\":[{\"colorbar\":{\"outlinewidth\":0,\"ticks\":\"\"},\"type\":\"mesh3d\"}],\"parcoords\":[{\"line\":{\"colorbar\":{\"outlinewidth\":0,\"ticks\":\"\"}},\"type\":\"parcoords\"}],\"pie\":[{\"automargin\":true,\"type\":\"pie\"}],\"scatter\":[{\"marker\":{\"colorbar\":{\"outlinewidth\":0,\"ticks\":\"\"}},\"type\":\"scatter\"}],\"scatter3d\":[{\"line\":{\"colorbar\":{\"outlinewidth\":0,\"ticks\":\"\"}},\"marker\":{\"colorbar\":{\"outlinewidth\":0,\"ticks\":\"\"}},\"type\":\"scatter3d\"}],\"scattercarpet\":[{\"marker\":{\"colorbar\":{\"outlinewidth\":0,\"ticks\":\"\"}},\"type\":\"scattercarpet\"}],\"scattergeo\":[{\"marker\":{\"colorbar\":{\"outlinewidth\":0,\"ticks\":\"\"}},\"type\":\"scattergeo\"}],\"scattergl\":[{\"marker\":{\"colorbar\":{\"outlinewidth\":0,\"ticks\":\"\"}},\"type\":\"scattergl\"}],\"scattermapbox\":[{\"marker\":{\"colorbar\":{\"outlinewidth\":0,\"ticks\":\"\"}},\"type\":\"scattermapbox\"}],\"scatterpolar\":[{\"marker\":{\"colorbar\":{\"outlinewidth\":0,\"ticks\":\"\"}},\"type\":\"scatterpolar\"}],\"scatterpolargl\":[{\"marker\":{\"colorbar\":{\"outlinewidth\":0,\"ticks\":\"\"}},\"type\":\"scatterpolargl\"}],\"scatterternary\":[{\"marker\":{\"colorbar\":{\"outlinewidth\":0,\"ticks\":\"\"}},\"type\":\"scatterternary\"}],\"surface\":[{\"colorbar\":{\"outlinewidth\":0,\"ticks\":\"\"},\"colorscale\":[[0.0,\"#0d0887\"],[0.1111111111111111,\"#46039f\"],[0.2222222222222222,\"#7201a8\"],[0.3333333333333333,\"#9c179e\"],[0.4444444444444444,\"#bd3786\"],[0.5555555555555556,\"#d8576b\"],[0.6666666666666666,\"#ed7953\"],[0.7777777777777778,\"#fb9f3a\"],[0.8888888888888888,\"#fdca26\"],[1.0,\"#f0f921\"]],\"type\":\"surface\"}],\"table\":[{\"cells\":{\"fill\":{\"color\":\"#EBF0F8\"},\"line\":{\"color\":\"white\"}},\"header\":{\"fill\":{\"color\":\"#C8D4E3\"},\"line\":{\"color\":\"white\"}},\"type\":\"table\"}]},\"layout\":{\"annotationdefaults\":{\"arrowcolor\":\"#2a3f5f\",\"arrowhead\":0,\"arrowwidth\":1},\"autotypenumbers\":\"strict\",\"coloraxis\":{\"colorbar\":{\"outlinewidth\":0,\"ticks\":\"\"}},\"colorscale\":{\"diverging\":[[0,\"#8e0152\"],[0.1,\"#c51b7d\"],[0.2,\"#de77ae\"],[0.3,\"#f1b6da\"],[0.4,\"#fde0ef\"],[0.5,\"#f7f7f7\"],[0.6,\"#e6f5d0\"],[0.7,\"#b8e186\"],[0.8,\"#7fbc41\"],[0.9,\"#4d9221\"],[1,\"#276419\"]],\"sequential\":[[0.0,\"#0d0887\"],[0.1111111111111111,\"#46039f\"],[0.2222222222222222,\"#7201a8\"],[0.3333333333333333,\"#9c179e\"],[0.4444444444444444,\"#bd3786\"],[0.5555555555555556,\"#d8576b\"],[0.6666666666666666,\"#ed7953\"],[0.7777777777777778,\"#fb9f3a\"],[0.8888888888888888,\"#fdca26\"],[1.0,\"#f0f921\"]],\"sequentialminus\":[[0.0,\"#0d0887\"],[0.1111111111111111,\"#46039f\"],[0.2222222222222222,\"#7201a8\"],[0.3333333333333333,\"#9c179e\"],[0.4444444444444444,\"#bd3786\"],[0.5555555555555556,\"#d8576b\"],[0.6666666666666666,\"#ed7953\"],[0.7777777777777778,\"#fb9f3a\"],[0.8888888888888888,\"#fdca26\"],[1.0,\"#f0f921\"]]},\"colorway\":[\"#636efa\",\"#EF553B\",\"#00cc96\",\"#ab63fa\",\"#FFA15A\",\"#19d3f3\",\"#FF6692\",\"#B6E880\",\"#FF97FF\",\"#FECB52\"],\"font\":{\"color\":\"#2a3f5f\"},\"geo\":{\"bgcolor\":\"white\",\"lakecolor\":\"white\",\"landcolor\":\"#E5ECF6\",\"showlakes\":true,\"showland\":true,\"subunitcolor\":\"white\"},\"hoverlabel\":{\"align\":\"left\"},\"hovermode\":\"closest\",\"mapbox\":{\"style\":\"light\"},\"paper_bgcolor\":\"white\",\"plot_bgcolor\":\"#E5ECF6\",\"polar\":{\"angularaxis\":{\"gridcolor\":\"white\",\"linecolor\":\"white\",\"ticks\":\"\"},\"bgcolor\":\"#E5ECF6\",\"radialaxis\":{\"gridcolor\":\"white\",\"linecolor\":\"white\",\"ticks\":\"\"}},\"scene\":{\"xaxis\":{\"backgroundcolor\":\"#E5ECF6\",\"gridcolor\":\"white\",\"gridwidth\":2,\"linecolor\":\"white\",\"showbackground\":true,\"ticks\":\"\",\"zerolinecolor\":\"white\"},\"yaxis\":{\"backgroundcolor\":\"#E5ECF6\",\"gridcolor\":\"white\",\"gridwidth\":2,\"linecolor\":\"white\",\"showbackground\":true,\"ticks\":\"\",\"zerolinecolor\":\"white\"},\"zaxis\":{\"backgroundcolor\":\"#E5ECF6\",\"gridcolor\":\"white\",\"gridwidth\":2,\"linecolor\":\"white\",\"showbackground\":true,\"ticks\":\"\",\"zerolinecolor\":\"white\"}},\"shapedefaults\":{\"line\":{\"color\":\"#2a3f5f\"}},\"ternary\":{\"aaxis\":{\"gridcolor\":\"white\",\"linecolor\":\"white\",\"ticks\":\"\"},\"baxis\":{\"gridcolor\":\"white\",\"linecolor\":\"white\",\"ticks\":\"\"},\"bgcolor\":\"#E5ECF6\",\"caxis\":{\"gridcolor\":\"white\",\"linecolor\":\"white\",\"ticks\":\"\"}},\"title\":{\"x\":0.05},\"xaxis\":{\"automargin\":true,\"gridcolor\":\"white\",\"linecolor\":\"white\",\"ticks\":\"\",\"title\":{\"standoff\":15},\"zerolinecolor\":\"white\",\"zerolinewidth\":2},\"yaxis\":{\"automargin\":true,\"gridcolor\":\"white\",\"linecolor\":\"white\",\"ticks\":\"\",\"title\":{\"standoff\":15},\"zerolinecolor\":\"white\",\"zerolinewidth\":2}}},\"xaxis\":{\"anchor\":\"y\",\"domain\":[0.0,1.0],\"title\":{\"text\":\"Time\"}},\"yaxis\":{\"anchor\":\"x\",\"domain\":[0.0,1.0],\"title\":{\"text\":\"Pontos\"}}},                        {\"responsive\": true}                    ).then(function(){\n                            \nvar gd = document.getElementById('9a11910a-3164-4bad-84e8-5b5c9753beda');\nvar x = new MutationObserver(function (mutations, observer) {{\n        var display = window.getComputedStyle(gd).display;\n        if (!display || display === 'none') {{\n            console.log([gd, 'removed!']);\n            Plotly.purge(gd);\n            observer.disconnect();\n        }}\n}});\n\n// Listen for the removal of the full notebook cells\nvar notebookContainer = gd.closest('#notebook-container');\nif (notebookContainer) {{\n    x.observe(notebookContainer, {childList: true});\n}}\n\n// Listen for the clearing of the current output cell\nvar outputEl = gd.closest('.output');\nif (outputEl) {{\n    x.observe(outputEl, {childList: true});\n}}\n\n                        })                };                });            </script>        </div>"
     },
     "metadata": {},
     "output_type": "display_data"
    },
    {
     "data": {
      "application/vnd.plotly.v1+json": {
       "config": {
        "plotlyServerURL": "https://plot.ly"
       },
       "data": [
        {
         "alignmentgroup": "True",
         "hovertemplate": "Time=%{x}<br>Pontos=%{y}<extra></extra>",
         "legendgroup": "",
         "marker": {
          "color": "#636efa",
          "pattern": {
           "shape": ""
          }
         },
         "name": "",
         "offsetgroup": "",
         "orientation": "v",
         "showlegend": false,
         "textposition": "auto",
         "type": "bar",
         "x": [
          "SAO PAULO",
          "SANTOS",
          "FLAMENGO",
          "INTERNACIONAL",
          "GREMIO",
          "FLUMINENSE",
          "CRUZEIRO",
          "CORINTHIANS",
          "ATLETICO-MG",
          "ATHLETICO-PR"
         ],
         "xaxis": "x",
         "y": [
          59.90909090909091,
          56.18181818181818,
          54.09090909090909,
          53.27272727272727,
          53.04545454545455,
          52.54545454545455,
          52.36363636363637,
          52.31818181818182,
          50.77272727272727,
          50.63636363636363
         ],
         "yaxis": "y"
        }
       ],
       "layout": {
        "barmode": "relative",
        "legend": {
         "tracegroupgap": 0
        },
        "margin": {
         "t": 60
        },
        "template": {
         "data": {
          "bar": [
           {
            "error_x": {
             "color": "#2a3f5f"
            },
            "error_y": {
             "color": "#2a3f5f"
            },
            "marker": {
             "line": {
              "color": "#E5ECF6",
              "width": 0.5
             },
             "pattern": {
              "fillmode": "overlay",
              "size": 10,
              "solidity": 0.2
             }
            },
            "type": "bar"
           }
          ],
          "barpolar": [
           {
            "marker": {
             "line": {
              "color": "#E5ECF6",
              "width": 0.5
             },
             "pattern": {
              "fillmode": "overlay",
              "size": 10,
              "solidity": 0.2
             }
            },
            "type": "barpolar"
           }
          ],
          "carpet": [
           {
            "aaxis": {
             "endlinecolor": "#2a3f5f",
             "gridcolor": "white",
             "linecolor": "white",
             "minorgridcolor": "white",
             "startlinecolor": "#2a3f5f"
            },
            "baxis": {
             "endlinecolor": "#2a3f5f",
             "gridcolor": "white",
             "linecolor": "white",
             "minorgridcolor": "white",
             "startlinecolor": "#2a3f5f"
            },
            "type": "carpet"
           }
          ],
          "choropleth": [
           {
            "colorbar": {
             "outlinewidth": 0,
             "ticks": ""
            },
            "type": "choropleth"
           }
          ],
          "contour": [
           {
            "colorbar": {
             "outlinewidth": 0,
             "ticks": ""
            },
            "colorscale": [
             [
              0.0,
              "#0d0887"
             ],
             [
              0.1111111111111111,
              "#46039f"
             ],
             [
              0.2222222222222222,
              "#7201a8"
             ],
             [
              0.3333333333333333,
              "#9c179e"
             ],
             [
              0.4444444444444444,
              "#bd3786"
             ],
             [
              0.5555555555555556,
              "#d8576b"
             ],
             [
              0.6666666666666666,
              "#ed7953"
             ],
             [
              0.7777777777777778,
              "#fb9f3a"
             ],
             [
              0.8888888888888888,
              "#fdca26"
             ],
             [
              1.0,
              "#f0f921"
             ]
            ],
            "type": "contour"
           }
          ],
          "contourcarpet": [
           {
            "colorbar": {
             "outlinewidth": 0,
             "ticks": ""
            },
            "type": "contourcarpet"
           }
          ],
          "heatmap": [
           {
            "colorbar": {
             "outlinewidth": 0,
             "ticks": ""
            },
            "colorscale": [
             [
              0.0,
              "#0d0887"
             ],
             [
              0.1111111111111111,
              "#46039f"
             ],
             [
              0.2222222222222222,
              "#7201a8"
             ],
             [
              0.3333333333333333,
              "#9c179e"
             ],
             [
              0.4444444444444444,
              "#bd3786"
             ],
             [
              0.5555555555555556,
              "#d8576b"
             ],
             [
              0.6666666666666666,
              "#ed7953"
             ],
             [
              0.7777777777777778,
              "#fb9f3a"
             ],
             [
              0.8888888888888888,
              "#fdca26"
             ],
             [
              1.0,
              "#f0f921"
             ]
            ],
            "type": "heatmap"
           }
          ],
          "heatmapgl": [
           {
            "colorbar": {
             "outlinewidth": 0,
             "ticks": ""
            },
            "colorscale": [
             [
              0.0,
              "#0d0887"
             ],
             [
              0.1111111111111111,
              "#46039f"
             ],
             [
              0.2222222222222222,
              "#7201a8"
             ],
             [
              0.3333333333333333,
              "#9c179e"
             ],
             [
              0.4444444444444444,
              "#bd3786"
             ],
             [
              0.5555555555555556,
              "#d8576b"
             ],
             [
              0.6666666666666666,
              "#ed7953"
             ],
             [
              0.7777777777777778,
              "#fb9f3a"
             ],
             [
              0.8888888888888888,
              "#fdca26"
             ],
             [
              1.0,
              "#f0f921"
             ]
            ],
            "type": "heatmapgl"
           }
          ],
          "histogram": [
           {
            "marker": {
             "pattern": {
              "fillmode": "overlay",
              "size": 10,
              "solidity": 0.2
             }
            },
            "type": "histogram"
           }
          ],
          "histogram2d": [
           {
            "colorbar": {
             "outlinewidth": 0,
             "ticks": ""
            },
            "colorscale": [
             [
              0.0,
              "#0d0887"
             ],
             [
              0.1111111111111111,
              "#46039f"
             ],
             [
              0.2222222222222222,
              "#7201a8"
             ],
             [
              0.3333333333333333,
              "#9c179e"
             ],
             [
              0.4444444444444444,
              "#bd3786"
             ],
             [
              0.5555555555555556,
              "#d8576b"
             ],
             [
              0.6666666666666666,
              "#ed7953"
             ],
             [
              0.7777777777777778,
              "#fb9f3a"
             ],
             [
              0.8888888888888888,
              "#fdca26"
             ],
             [
              1.0,
              "#f0f921"
             ]
            ],
            "type": "histogram2d"
           }
          ],
          "histogram2dcontour": [
           {
            "colorbar": {
             "outlinewidth": 0,
             "ticks": ""
            },
            "colorscale": [
             [
              0.0,
              "#0d0887"
             ],
             [
              0.1111111111111111,
              "#46039f"
             ],
             [
              0.2222222222222222,
              "#7201a8"
             ],
             [
              0.3333333333333333,
              "#9c179e"
             ],
             [
              0.4444444444444444,
              "#bd3786"
             ],
             [
              0.5555555555555556,
              "#d8576b"
             ],
             [
              0.6666666666666666,
              "#ed7953"
             ],
             [
              0.7777777777777778,
              "#fb9f3a"
             ],
             [
              0.8888888888888888,
              "#fdca26"
             ],
             [
              1.0,
              "#f0f921"
             ]
            ],
            "type": "histogram2dcontour"
           }
          ],
          "mesh3d": [
           {
            "colorbar": {
             "outlinewidth": 0,
             "ticks": ""
            },
            "type": "mesh3d"
           }
          ],
          "parcoords": [
           {
            "line": {
             "colorbar": {
              "outlinewidth": 0,
              "ticks": ""
             }
            },
            "type": "parcoords"
           }
          ],
          "pie": [
           {
            "automargin": true,
            "type": "pie"
           }
          ],
          "scatter": [
           {
            "marker": {
             "colorbar": {
              "outlinewidth": 0,
              "ticks": ""
             }
            },
            "type": "scatter"
           }
          ],
          "scatter3d": [
           {
            "line": {
             "colorbar": {
              "outlinewidth": 0,
              "ticks": ""
             }
            },
            "marker": {
             "colorbar": {
              "outlinewidth": 0,
              "ticks": ""
             }
            },
            "type": "scatter3d"
           }
          ],
          "scattercarpet": [
           {
            "marker": {
             "colorbar": {
              "outlinewidth": 0,
              "ticks": ""
             }
            },
            "type": "scattercarpet"
           }
          ],
          "scattergeo": [
           {
            "marker": {
             "colorbar": {
              "outlinewidth": 0,
              "ticks": ""
             }
            },
            "type": "scattergeo"
           }
          ],
          "scattergl": [
           {
            "marker": {
             "colorbar": {
              "outlinewidth": 0,
              "ticks": ""
             }
            },
            "type": "scattergl"
           }
          ],
          "scattermapbox": [
           {
            "marker": {
             "colorbar": {
              "outlinewidth": 0,
              "ticks": ""
             }
            },
            "type": "scattermapbox"
           }
          ],
          "scatterpolar": [
           {
            "marker": {
             "colorbar": {
              "outlinewidth": 0,
              "ticks": ""
             }
            },
            "type": "scatterpolar"
           }
          ],
          "scatterpolargl": [
           {
            "marker": {
             "colorbar": {
              "outlinewidth": 0,
              "ticks": ""
             }
            },
            "type": "scatterpolargl"
           }
          ],
          "scatterternary": [
           {
            "marker": {
             "colorbar": {
              "outlinewidth": 0,
              "ticks": ""
             }
            },
            "type": "scatterternary"
           }
          ],
          "surface": [
           {
            "colorbar": {
             "outlinewidth": 0,
             "ticks": ""
            },
            "colorscale": [
             [
              0.0,
              "#0d0887"
             ],
             [
              0.1111111111111111,
              "#46039f"
             ],
             [
              0.2222222222222222,
              "#7201a8"
             ],
             [
              0.3333333333333333,
              "#9c179e"
             ],
             [
              0.4444444444444444,
              "#bd3786"
             ],
             [
              0.5555555555555556,
              "#d8576b"
             ],
             [
              0.6666666666666666,
              "#ed7953"
             ],
             [
              0.7777777777777778,
              "#fb9f3a"
             ],
             [
              0.8888888888888888,
              "#fdca26"
             ],
             [
              1.0,
              "#f0f921"
             ]
            ],
            "type": "surface"
           }
          ],
          "table": [
           {
            "cells": {
             "fill": {
              "color": "#EBF0F8"
             },
             "line": {
              "color": "white"
             }
            },
            "header": {
             "fill": {
              "color": "#C8D4E3"
             },
             "line": {
              "color": "white"
             }
            },
            "type": "table"
           }
          ]
         },
         "layout": {
          "annotationdefaults": {
           "arrowcolor": "#2a3f5f",
           "arrowhead": 0,
           "arrowwidth": 1
          },
          "autotypenumbers": "strict",
          "coloraxis": {
           "colorbar": {
            "outlinewidth": 0,
            "ticks": ""
           }
          },
          "colorscale": {
           "diverging": [
            [
             0,
             "#8e0152"
            ],
            [
             0.1,
             "#c51b7d"
            ],
            [
             0.2,
             "#de77ae"
            ],
            [
             0.3,
             "#f1b6da"
            ],
            [
             0.4,
             "#fde0ef"
            ],
            [
             0.5,
             "#f7f7f7"
            ],
            [
             0.6,
             "#e6f5d0"
            ],
            [
             0.7,
             "#b8e186"
            ],
            [
             0.8,
             "#7fbc41"
            ],
            [
             0.9,
             "#4d9221"
            ],
            [
             1,
             "#276419"
            ]
           ],
           "sequential": [
            [
             0.0,
             "#0d0887"
            ],
            [
             0.1111111111111111,
             "#46039f"
            ],
            [
             0.2222222222222222,
             "#7201a8"
            ],
            [
             0.3333333333333333,
             "#9c179e"
            ],
            [
             0.4444444444444444,
             "#bd3786"
            ],
            [
             0.5555555555555556,
             "#d8576b"
            ],
            [
             0.6666666666666666,
             "#ed7953"
            ],
            [
             0.7777777777777778,
             "#fb9f3a"
            ],
            [
             0.8888888888888888,
             "#fdca26"
            ],
            [
             1.0,
             "#f0f921"
            ]
           ],
           "sequentialminus": [
            [
             0.0,
             "#0d0887"
            ],
            [
             0.1111111111111111,
             "#46039f"
            ],
            [
             0.2222222222222222,
             "#7201a8"
            ],
            [
             0.3333333333333333,
             "#9c179e"
            ],
            [
             0.4444444444444444,
             "#bd3786"
            ],
            [
             0.5555555555555556,
             "#d8576b"
            ],
            [
             0.6666666666666666,
             "#ed7953"
            ],
            [
             0.7777777777777778,
             "#fb9f3a"
            ],
            [
             0.8888888888888888,
             "#fdca26"
            ],
            [
             1.0,
             "#f0f921"
            ]
           ]
          },
          "colorway": [
           "#636efa",
           "#EF553B",
           "#00cc96",
           "#ab63fa",
           "#FFA15A",
           "#19d3f3",
           "#FF6692",
           "#B6E880",
           "#FF97FF",
           "#FECB52"
          ],
          "font": {
           "color": "#2a3f5f"
          },
          "geo": {
           "bgcolor": "white",
           "lakecolor": "white",
           "landcolor": "#E5ECF6",
           "showlakes": true,
           "showland": true,
           "subunitcolor": "white"
          },
          "hoverlabel": {
           "align": "left"
          },
          "hovermode": "closest",
          "mapbox": {
           "style": "light"
          },
          "paper_bgcolor": "white",
          "plot_bgcolor": "#E5ECF6",
          "polar": {
           "angularaxis": {
            "gridcolor": "white",
            "linecolor": "white",
            "ticks": ""
           },
           "bgcolor": "#E5ECF6",
           "radialaxis": {
            "gridcolor": "white",
            "linecolor": "white",
            "ticks": ""
           }
          },
          "scene": {
           "xaxis": {
            "backgroundcolor": "#E5ECF6",
            "gridcolor": "white",
            "gridwidth": 2,
            "linecolor": "white",
            "showbackground": true,
            "ticks": "",
            "zerolinecolor": "white"
           },
           "yaxis": {
            "backgroundcolor": "#E5ECF6",
            "gridcolor": "white",
            "gridwidth": 2,
            "linecolor": "white",
            "showbackground": true,
            "ticks": "",
            "zerolinecolor": "white"
           },
           "zaxis": {
            "backgroundcolor": "#E5ECF6",
            "gridcolor": "white",
            "gridwidth": 2,
            "linecolor": "white",
            "showbackground": true,
            "ticks": "",
            "zerolinecolor": "white"
           }
          },
          "shapedefaults": {
           "line": {
            "color": "#2a3f5f"
           }
          },
          "ternary": {
           "aaxis": {
            "gridcolor": "white",
            "linecolor": "white",
            "ticks": ""
           },
           "baxis": {
            "gridcolor": "white",
            "linecolor": "white",
            "ticks": ""
           },
           "bgcolor": "#E5ECF6",
           "caxis": {
            "gridcolor": "white",
            "linecolor": "white",
            "ticks": ""
           }
          },
          "title": {
           "x": 0.05
          },
          "xaxis": {
           "automargin": true,
           "gridcolor": "white",
           "linecolor": "white",
           "ticks": "",
           "title": {
            "standoff": 15
           },
           "zerolinecolor": "white",
           "zerolinewidth": 2
          },
          "yaxis": {
           "automargin": true,
           "gridcolor": "white",
           "linecolor": "white",
           "ticks": "",
           "title": {
            "standoff": 15
           },
           "zerolinecolor": "white",
           "zerolinewidth": 2
          }
         }
        },
        "xaxis": {
         "anchor": "y",
         "domain": [
          0.0,
          1.0
         ],
         "title": {
          "text": "Time"
         }
        },
        "yaxis": {
         "anchor": "x",
         "domain": [
          0.0,
          1.0
         ],
         "title": {
          "text": "Pontos"
         }
        }
       }
      },
      "text/html": "<div>                            <div id=\"68f95c22-a07f-4fc4-bf0f-e2f6d76b352d\" class=\"plotly-graph-div\" style=\"height:525px; width:100%;\"></div>            <script type=\"text/javascript\">                require([\"plotly\"], function(Plotly) {                    window.PLOTLYENV=window.PLOTLYENV || {};                                    if (document.getElementById(\"68f95c22-a07f-4fc4-bf0f-e2f6d76b352d\")) {                    Plotly.newPlot(                        \"68f95c22-a07f-4fc4-bf0f-e2f6d76b352d\",                        [{\"alignmentgroup\":\"True\",\"hovertemplate\":\"Time=%{x}<br>Pontos=%{y}<extra></extra>\",\"legendgroup\":\"\",\"marker\":{\"color\":\"#636efa\",\"pattern\":{\"shape\":\"\"}},\"name\":\"\",\"offsetgroup\":\"\",\"orientation\":\"v\",\"showlegend\":false,\"textposition\":\"auto\",\"type\":\"bar\",\"x\":[\"SAO PAULO\",\"SANTOS\",\"FLAMENGO\",\"INTERNACIONAL\",\"GREMIO\",\"FLUMINENSE\",\"CRUZEIRO\",\"CORINTHIANS\",\"ATLETICO-MG\",\"ATHLETICO-PR\"],\"xaxis\":\"x\",\"y\":[59.90909090909091,56.18181818181818,54.09090909090909,53.27272727272727,53.04545454545455,52.54545454545455,52.36363636363637,52.31818181818182,50.77272727272727,50.63636363636363],\"yaxis\":\"y\"}],                        {\"barmode\":\"relative\",\"legend\":{\"tracegroupgap\":0},\"margin\":{\"t\":60},\"template\":{\"data\":{\"bar\":[{\"error_x\":{\"color\":\"#2a3f5f\"},\"error_y\":{\"color\":\"#2a3f5f\"},\"marker\":{\"line\":{\"color\":\"#E5ECF6\",\"width\":0.5},\"pattern\":{\"fillmode\":\"overlay\",\"size\":10,\"solidity\":0.2}},\"type\":\"bar\"}],\"barpolar\":[{\"marker\":{\"line\":{\"color\":\"#E5ECF6\",\"width\":0.5},\"pattern\":{\"fillmode\":\"overlay\",\"size\":10,\"solidity\":0.2}},\"type\":\"barpolar\"}],\"carpet\":[{\"aaxis\":{\"endlinecolor\":\"#2a3f5f\",\"gridcolor\":\"white\",\"linecolor\":\"white\",\"minorgridcolor\":\"white\",\"startlinecolor\":\"#2a3f5f\"},\"baxis\":{\"endlinecolor\":\"#2a3f5f\",\"gridcolor\":\"white\",\"linecolor\":\"white\",\"minorgridcolor\":\"white\",\"startlinecolor\":\"#2a3f5f\"},\"type\":\"carpet\"}],\"choropleth\":[{\"colorbar\":{\"outlinewidth\":0,\"ticks\":\"\"},\"type\":\"choropleth\"}],\"contour\":[{\"colorbar\":{\"outlinewidth\":0,\"ticks\":\"\"},\"colorscale\":[[0.0,\"#0d0887\"],[0.1111111111111111,\"#46039f\"],[0.2222222222222222,\"#7201a8\"],[0.3333333333333333,\"#9c179e\"],[0.4444444444444444,\"#bd3786\"],[0.5555555555555556,\"#d8576b\"],[0.6666666666666666,\"#ed7953\"],[0.7777777777777778,\"#fb9f3a\"],[0.8888888888888888,\"#fdca26\"],[1.0,\"#f0f921\"]],\"type\":\"contour\"}],\"contourcarpet\":[{\"colorbar\":{\"outlinewidth\":0,\"ticks\":\"\"},\"type\":\"contourcarpet\"}],\"heatmap\":[{\"colorbar\":{\"outlinewidth\":0,\"ticks\":\"\"},\"colorscale\":[[0.0,\"#0d0887\"],[0.1111111111111111,\"#46039f\"],[0.2222222222222222,\"#7201a8\"],[0.3333333333333333,\"#9c179e\"],[0.4444444444444444,\"#bd3786\"],[0.5555555555555556,\"#d8576b\"],[0.6666666666666666,\"#ed7953\"],[0.7777777777777778,\"#fb9f3a\"],[0.8888888888888888,\"#fdca26\"],[1.0,\"#f0f921\"]],\"type\":\"heatmap\"}],\"heatmapgl\":[{\"colorbar\":{\"outlinewidth\":0,\"ticks\":\"\"},\"colorscale\":[[0.0,\"#0d0887\"],[0.1111111111111111,\"#46039f\"],[0.2222222222222222,\"#7201a8\"],[0.3333333333333333,\"#9c179e\"],[0.4444444444444444,\"#bd3786\"],[0.5555555555555556,\"#d8576b\"],[0.6666666666666666,\"#ed7953\"],[0.7777777777777778,\"#fb9f3a\"],[0.8888888888888888,\"#fdca26\"],[1.0,\"#f0f921\"]],\"type\":\"heatmapgl\"}],\"histogram\":[{\"marker\":{\"pattern\":{\"fillmode\":\"overlay\",\"size\":10,\"solidity\":0.2}},\"type\":\"histogram\"}],\"histogram2d\":[{\"colorbar\":{\"outlinewidth\":0,\"ticks\":\"\"},\"colorscale\":[[0.0,\"#0d0887\"],[0.1111111111111111,\"#46039f\"],[0.2222222222222222,\"#7201a8\"],[0.3333333333333333,\"#9c179e\"],[0.4444444444444444,\"#bd3786\"],[0.5555555555555556,\"#d8576b\"],[0.6666666666666666,\"#ed7953\"],[0.7777777777777778,\"#fb9f3a\"],[0.8888888888888888,\"#fdca26\"],[1.0,\"#f0f921\"]],\"type\":\"histogram2d\"}],\"histogram2dcontour\":[{\"colorbar\":{\"outlinewidth\":0,\"ticks\":\"\"},\"colorscale\":[[0.0,\"#0d0887\"],[0.1111111111111111,\"#46039f\"],[0.2222222222222222,\"#7201a8\"],[0.3333333333333333,\"#9c179e\"],[0.4444444444444444,\"#bd3786\"],[0.5555555555555556,\"#d8576b\"],[0.6666666666666666,\"#ed7953\"],[0.7777777777777778,\"#fb9f3a\"],[0.8888888888888888,\"#fdca26\"],[1.0,\"#f0f921\"]],\"type\":\"histogram2dcontour\"}],\"mesh3d\":[{\"colorbar\":{\"outlinewidth\":0,\"ticks\":\"\"},\"type\":\"mesh3d\"}],\"parcoords\":[{\"line\":{\"colorbar\":{\"outlinewidth\":0,\"ticks\":\"\"}},\"type\":\"parcoords\"}],\"pie\":[{\"automargin\":true,\"type\":\"pie\"}],\"scatter\":[{\"marker\":{\"colorbar\":{\"outlinewidth\":0,\"ticks\":\"\"}},\"type\":\"scatter\"}],\"scatter3d\":[{\"line\":{\"colorbar\":{\"outlinewidth\":0,\"ticks\":\"\"}},\"marker\":{\"colorbar\":{\"outlinewidth\":0,\"ticks\":\"\"}},\"type\":\"scatter3d\"}],\"scattercarpet\":[{\"marker\":{\"colorbar\":{\"outlinewidth\":0,\"ticks\":\"\"}},\"type\":\"scattercarpet\"}],\"scattergeo\":[{\"marker\":{\"colorbar\":{\"outlinewidth\":0,\"ticks\":\"\"}},\"type\":\"scattergeo\"}],\"scattergl\":[{\"marker\":{\"colorbar\":{\"outlinewidth\":0,\"ticks\":\"\"}},\"type\":\"scattergl\"}],\"scattermapbox\":[{\"marker\":{\"colorbar\":{\"outlinewidth\":0,\"ticks\":\"\"}},\"type\":\"scattermapbox\"}],\"scatterpolar\":[{\"marker\":{\"colorbar\":{\"outlinewidth\":0,\"ticks\":\"\"}},\"type\":\"scatterpolar\"}],\"scatterpolargl\":[{\"marker\":{\"colorbar\":{\"outlinewidth\":0,\"ticks\":\"\"}},\"type\":\"scatterpolargl\"}],\"scatterternary\":[{\"marker\":{\"colorbar\":{\"outlinewidth\":0,\"ticks\":\"\"}},\"type\":\"scatterternary\"}],\"surface\":[{\"colorbar\":{\"outlinewidth\":0,\"ticks\":\"\"},\"colorscale\":[[0.0,\"#0d0887\"],[0.1111111111111111,\"#46039f\"],[0.2222222222222222,\"#7201a8\"],[0.3333333333333333,\"#9c179e\"],[0.4444444444444444,\"#bd3786\"],[0.5555555555555556,\"#d8576b\"],[0.6666666666666666,\"#ed7953\"],[0.7777777777777778,\"#fb9f3a\"],[0.8888888888888888,\"#fdca26\"],[1.0,\"#f0f921\"]],\"type\":\"surface\"}],\"table\":[{\"cells\":{\"fill\":{\"color\":\"#EBF0F8\"},\"line\":{\"color\":\"white\"}},\"header\":{\"fill\":{\"color\":\"#C8D4E3\"},\"line\":{\"color\":\"white\"}},\"type\":\"table\"}]},\"layout\":{\"annotationdefaults\":{\"arrowcolor\":\"#2a3f5f\",\"arrowhead\":0,\"arrowwidth\":1},\"autotypenumbers\":\"strict\",\"coloraxis\":{\"colorbar\":{\"outlinewidth\":0,\"ticks\":\"\"}},\"colorscale\":{\"diverging\":[[0,\"#8e0152\"],[0.1,\"#c51b7d\"],[0.2,\"#de77ae\"],[0.3,\"#f1b6da\"],[0.4,\"#fde0ef\"],[0.5,\"#f7f7f7\"],[0.6,\"#e6f5d0\"],[0.7,\"#b8e186\"],[0.8,\"#7fbc41\"],[0.9,\"#4d9221\"],[1,\"#276419\"]],\"sequential\":[[0.0,\"#0d0887\"],[0.1111111111111111,\"#46039f\"],[0.2222222222222222,\"#7201a8\"],[0.3333333333333333,\"#9c179e\"],[0.4444444444444444,\"#bd3786\"],[0.5555555555555556,\"#d8576b\"],[0.6666666666666666,\"#ed7953\"],[0.7777777777777778,\"#fb9f3a\"],[0.8888888888888888,\"#fdca26\"],[1.0,\"#f0f921\"]],\"sequentialminus\":[[0.0,\"#0d0887\"],[0.1111111111111111,\"#46039f\"],[0.2222222222222222,\"#7201a8\"],[0.3333333333333333,\"#9c179e\"],[0.4444444444444444,\"#bd3786\"],[0.5555555555555556,\"#d8576b\"],[0.6666666666666666,\"#ed7953\"],[0.7777777777777778,\"#fb9f3a\"],[0.8888888888888888,\"#fdca26\"],[1.0,\"#f0f921\"]]},\"colorway\":[\"#636efa\",\"#EF553B\",\"#00cc96\",\"#ab63fa\",\"#FFA15A\",\"#19d3f3\",\"#FF6692\",\"#B6E880\",\"#FF97FF\",\"#FECB52\"],\"font\":{\"color\":\"#2a3f5f\"},\"geo\":{\"bgcolor\":\"white\",\"lakecolor\":\"white\",\"landcolor\":\"#E5ECF6\",\"showlakes\":true,\"showland\":true,\"subunitcolor\":\"white\"},\"hoverlabel\":{\"align\":\"left\"},\"hovermode\":\"closest\",\"mapbox\":{\"style\":\"light\"},\"paper_bgcolor\":\"white\",\"plot_bgcolor\":\"#E5ECF6\",\"polar\":{\"angularaxis\":{\"gridcolor\":\"white\",\"linecolor\":\"white\",\"ticks\":\"\"},\"bgcolor\":\"#E5ECF6\",\"radialaxis\":{\"gridcolor\":\"white\",\"linecolor\":\"white\",\"ticks\":\"\"}},\"scene\":{\"xaxis\":{\"backgroundcolor\":\"#E5ECF6\",\"gridcolor\":\"white\",\"gridwidth\":2,\"linecolor\":\"white\",\"showbackground\":true,\"ticks\":\"\",\"zerolinecolor\":\"white\"},\"yaxis\":{\"backgroundcolor\":\"#E5ECF6\",\"gridcolor\":\"white\",\"gridwidth\":2,\"linecolor\":\"white\",\"showbackground\":true,\"ticks\":\"\",\"zerolinecolor\":\"white\"},\"zaxis\":{\"backgroundcolor\":\"#E5ECF6\",\"gridcolor\":\"white\",\"gridwidth\":2,\"linecolor\":\"white\",\"showbackground\":true,\"ticks\":\"\",\"zerolinecolor\":\"white\"}},\"shapedefaults\":{\"line\":{\"color\":\"#2a3f5f\"}},\"ternary\":{\"aaxis\":{\"gridcolor\":\"white\",\"linecolor\":\"white\",\"ticks\":\"\"},\"baxis\":{\"gridcolor\":\"white\",\"linecolor\":\"white\",\"ticks\":\"\"},\"bgcolor\":\"#E5ECF6\",\"caxis\":{\"gridcolor\":\"white\",\"linecolor\":\"white\",\"ticks\":\"\"}},\"title\":{\"x\":0.05},\"xaxis\":{\"automargin\":true,\"gridcolor\":\"white\",\"linecolor\":\"white\",\"ticks\":\"\",\"title\":{\"standoff\":15},\"zerolinecolor\":\"white\",\"zerolinewidth\":2},\"yaxis\":{\"automargin\":true,\"gridcolor\":\"white\",\"linecolor\":\"white\",\"ticks\":\"\",\"title\":{\"standoff\":15},\"zerolinecolor\":\"white\",\"zerolinewidth\":2}}},\"xaxis\":{\"anchor\":\"y\",\"domain\":[0.0,1.0],\"title\":{\"text\":\"Time\"}},\"yaxis\":{\"anchor\":\"x\",\"domain\":[0.0,1.0],\"title\":{\"text\":\"Pontos\"}}},                        {\"responsive\": true}                    ).then(function(){\n                            \nvar gd = document.getElementById('68f95c22-a07f-4fc4-bf0f-e2f6d76b352d');\nvar x = new MutationObserver(function (mutations, observer) {{\n        var display = window.getComputedStyle(gd).display;\n        if (!display || display === 'none') {{\n            console.log([gd, 'removed!']);\n            Plotly.purge(gd);\n            observer.disconnect();\n        }}\n}});\n\n// Listen for the removal of the full notebook cells\nvar notebookContainer = gd.closest('#notebook-container');\nif (notebookContainer) {{\n    x.observe(notebookContainer, {childList: true});\n}}\n\n// Listen for the clearing of the current output cell\nvar outputEl = gd.closest('.output');\nif (outputEl) {{\n    x.observe(outputEl, {childList: true});\n}}\n\n                        })                };                });            </script>        </div>"
     },
     "metadata": {},
     "output_type": "display_data"
    },
    {
     "data": {
      "text/plain": "        ID Rodada        Data Horário            Dia       Mandante  \\\n0        1      1  2000-07-29   16h00         SABADO     FLUMINENSE   \n1        2      1  2000-07-29   16h00         SABADO          VASCO   \n2        3      1  2000-07-29   16h00         SABADO        VITORIA   \n3        4      1  2000-07-30   17h00        DOMINGO    BOTAFOGO-RJ   \n4        5      1  2000-07-30   18h30        DOMINGO      JUVENTUDE   \n...    ...    ...         ...     ...            ...            ...   \n8435  8436     12  2021-07-18   16:00        DOMINGO    ATLETICO-GO   \n8436  8437     12  2021-07-18   18:15        DOMINGO          BAHIA   \n8437  8438     12  2021-07-18   20:30        DOMINGO  INTERNACIONAL   \n8438  8439     12  2021-07-18   20:30        DOMINGO     BRAGANTINO   \n8439  8440     12  2021-07-19   20:00  SEGUNDA-FEIRA     AMERICA-MG   \n\n        Visitante       Vencedor            Arena  Mandante Placar  \\\n0           BAHIA     FLUMINENSE         MARACANA              2.0   \n1           SPORT          SPORT     SAO JANUARIO              0.0   \n2       PALMEIRAS        VITORIA         BARRADAO              4.0   \n3     ATLETICO-MG              -     CAIO MARTINS              0.0   \n4        FLAMENGO              -   ALFREDO JACONI              1.0   \n...           ...            ...              ...              ...   \n8435    PALMEIRAS      PALMEIRAS  ANTONIO ACCIOLY              0.0   \n8436     FLAMENGO       FLAMENGO          PITUACU              0.0   \n8437    JUVENTUDE  INTERNACIONAL        BEIRA-RIO              1.0   \n8438       SANTOS              -  NABI ABI CHEDID              2.0   \n8439        SPORT          SPORT    INDEPENDENCIA              0.0   \n\n      Visitante Placar Estado Mandante Estado Visitante Estado Vencedor  \\\n0                  0.0              RJ               BA              RJ   \n1                  2.0              RJ               PE              PE   \n2                  1.0              ES               SP              ES   \n3                  0.0              RJ               MG               -   \n4                  1.0              RS               RJ               -   \n...                ...             ...              ...             ...   \n8435               3.0              GO               SP              SP   \n8436               5.0              BA               RJ              RJ   \n8437               0.0              RS               RS              RS   \n8438               2.0              SP               SP               -   \n8439               1.0              MG               PE              PE   \n\n      Pontos Mandante  Pontos Visitante  Diferenca Gols   Ano  \n0                   3                 0             2.0  2000  \n1                   0                 3             2.0  2000  \n2                   3                 0             3.0  2000  \n3                   1                 1             0.0  2000  \n4                   1                 1             0.0  2000  \n...               ...               ...             ...   ...  \n8435                0                 3             3.0  2021  \n8436                0                 3             5.0  2021  \n8437                3                 0             1.0  2021  \n8438                1                 1             0.0  2021  \n8439                0                 3             1.0  2021  \n\n[8436 rows x 18 columns]",
      "text/html": "<div>\n<style scoped>\n    .dataframe tbody tr th:only-of-type {\n        vertical-align: middle;\n    }\n\n    .dataframe tbody tr th {\n        vertical-align: top;\n    }\n\n    .dataframe thead th {\n        text-align: right;\n    }\n</style>\n<table border=\"1\" class=\"dataframe\">\n  <thead>\n    <tr style=\"text-align: right;\">\n      <th></th>\n      <th>ID</th>\n      <th>Rodada</th>\n      <th>Data</th>\n      <th>Horário</th>\n      <th>Dia</th>\n      <th>Mandante</th>\n      <th>Visitante</th>\n      <th>Vencedor</th>\n      <th>Arena</th>\n      <th>Mandante Placar</th>\n      <th>Visitante Placar</th>\n      <th>Estado Mandante</th>\n      <th>Estado Visitante</th>\n      <th>Estado Vencedor</th>\n      <th>Pontos Mandante</th>\n      <th>Pontos Visitante</th>\n      <th>Diferenca Gols</th>\n      <th>Ano</th>\n    </tr>\n  </thead>\n  <tbody>\n    <tr>\n      <th>0</th>\n      <td>1</td>\n      <td>1</td>\n      <td>2000-07-29</td>\n      <td>16h00</td>\n      <td>SABADO</td>\n      <td>FLUMINENSE</td>\n      <td>BAHIA</td>\n      <td>FLUMINENSE</td>\n      <td>MARACANA</td>\n      <td>2.0</td>\n      <td>0.0</td>\n      <td>RJ</td>\n      <td>BA</td>\n      <td>RJ</td>\n      <td>3</td>\n      <td>0</td>\n      <td>2.0</td>\n      <td>2000</td>\n    </tr>\n    <tr>\n      <th>1</th>\n      <td>2</td>\n      <td>1</td>\n      <td>2000-07-29</td>\n      <td>16h00</td>\n      <td>SABADO</td>\n      <td>VASCO</td>\n      <td>SPORT</td>\n      <td>SPORT</td>\n      <td>SAO JANUARIO</td>\n      <td>0.0</td>\n      <td>2.0</td>\n      <td>RJ</td>\n      <td>PE</td>\n      <td>PE</td>\n      <td>0</td>\n      <td>3</td>\n      <td>2.0</td>\n      <td>2000</td>\n    </tr>\n    <tr>\n      <th>2</th>\n      <td>3</td>\n      <td>1</td>\n      <td>2000-07-29</td>\n      <td>16h00</td>\n      <td>SABADO</td>\n      <td>VITORIA</td>\n      <td>PALMEIRAS</td>\n      <td>VITORIA</td>\n      <td>BARRADAO</td>\n      <td>4.0</td>\n      <td>1.0</td>\n      <td>ES</td>\n      <td>SP</td>\n      <td>ES</td>\n      <td>3</td>\n      <td>0</td>\n      <td>3.0</td>\n      <td>2000</td>\n    </tr>\n    <tr>\n      <th>3</th>\n      <td>4</td>\n      <td>1</td>\n      <td>2000-07-30</td>\n      <td>17h00</td>\n      <td>DOMINGO</td>\n      <td>BOTAFOGO-RJ</td>\n      <td>ATLETICO-MG</td>\n      <td>-</td>\n      <td>CAIO MARTINS</td>\n      <td>0.0</td>\n      <td>0.0</td>\n      <td>RJ</td>\n      <td>MG</td>\n      <td>-</td>\n      <td>1</td>\n      <td>1</td>\n      <td>0.0</td>\n      <td>2000</td>\n    </tr>\n    <tr>\n      <th>4</th>\n      <td>5</td>\n      <td>1</td>\n      <td>2000-07-30</td>\n      <td>18h30</td>\n      <td>DOMINGO</td>\n      <td>JUVENTUDE</td>\n      <td>FLAMENGO</td>\n      <td>-</td>\n      <td>ALFREDO JACONI</td>\n      <td>1.0</td>\n      <td>1.0</td>\n      <td>RS</td>\n      <td>RJ</td>\n      <td>-</td>\n      <td>1</td>\n      <td>1</td>\n      <td>0.0</td>\n      <td>2000</td>\n    </tr>\n    <tr>\n      <th>...</th>\n      <td>...</td>\n      <td>...</td>\n      <td>...</td>\n      <td>...</td>\n      <td>...</td>\n      <td>...</td>\n      <td>...</td>\n      <td>...</td>\n      <td>...</td>\n      <td>...</td>\n      <td>...</td>\n      <td>...</td>\n      <td>...</td>\n      <td>...</td>\n      <td>...</td>\n      <td>...</td>\n      <td>...</td>\n      <td>...</td>\n    </tr>\n    <tr>\n      <th>8435</th>\n      <td>8436</td>\n      <td>12</td>\n      <td>2021-07-18</td>\n      <td>16:00</td>\n      <td>DOMINGO</td>\n      <td>ATLETICO-GO</td>\n      <td>PALMEIRAS</td>\n      <td>PALMEIRAS</td>\n      <td>ANTONIO ACCIOLY</td>\n      <td>0.0</td>\n      <td>3.0</td>\n      <td>GO</td>\n      <td>SP</td>\n      <td>SP</td>\n      <td>0</td>\n      <td>3</td>\n      <td>3.0</td>\n      <td>2021</td>\n    </tr>\n    <tr>\n      <th>8436</th>\n      <td>8437</td>\n      <td>12</td>\n      <td>2021-07-18</td>\n      <td>18:15</td>\n      <td>DOMINGO</td>\n      <td>BAHIA</td>\n      <td>FLAMENGO</td>\n      <td>FLAMENGO</td>\n      <td>PITUACU</td>\n      <td>0.0</td>\n      <td>5.0</td>\n      <td>BA</td>\n      <td>RJ</td>\n      <td>RJ</td>\n      <td>0</td>\n      <td>3</td>\n      <td>5.0</td>\n      <td>2021</td>\n    </tr>\n    <tr>\n      <th>8437</th>\n      <td>8438</td>\n      <td>12</td>\n      <td>2021-07-18</td>\n      <td>20:30</td>\n      <td>DOMINGO</td>\n      <td>INTERNACIONAL</td>\n      <td>JUVENTUDE</td>\n      <td>INTERNACIONAL</td>\n      <td>BEIRA-RIO</td>\n      <td>1.0</td>\n      <td>0.0</td>\n      <td>RS</td>\n      <td>RS</td>\n      <td>RS</td>\n      <td>3</td>\n      <td>0</td>\n      <td>1.0</td>\n      <td>2021</td>\n    </tr>\n    <tr>\n      <th>8438</th>\n      <td>8439</td>\n      <td>12</td>\n      <td>2021-07-18</td>\n      <td>20:30</td>\n      <td>DOMINGO</td>\n      <td>BRAGANTINO</td>\n      <td>SANTOS</td>\n      <td>-</td>\n      <td>NABI ABI CHEDID</td>\n      <td>2.0</td>\n      <td>2.0</td>\n      <td>SP</td>\n      <td>SP</td>\n      <td>-</td>\n      <td>1</td>\n      <td>1</td>\n      <td>0.0</td>\n      <td>2021</td>\n    </tr>\n    <tr>\n      <th>8439</th>\n      <td>8440</td>\n      <td>12</td>\n      <td>2021-07-19</td>\n      <td>20:00</td>\n      <td>SEGUNDA-FEIRA</td>\n      <td>AMERICA-MG</td>\n      <td>SPORT</td>\n      <td>SPORT</td>\n      <td>INDEPENDENCIA</td>\n      <td>0.0</td>\n      <td>1.0</td>\n      <td>MG</td>\n      <td>PE</td>\n      <td>PE</td>\n      <td>0</td>\n      <td>3</td>\n      <td>1.0</td>\n      <td>2021</td>\n    </tr>\n  </tbody>\n</table>\n<p>8436 rows × 18 columns</p>\n</div>"
     },
     "execution_count": 50,
     "metadata": {},
     "output_type": "execute_result"
    }
   ],
   "source": [
    "import datetime\n",
    "import plotly.express as px\n",
    "\n",
    "df['Data2'] = pd.to_datetime(df['Data'])\n",
    "df['Ano'] = df['Data2'].dt.year\n",
    "df.drop(columns='Data2', inplace=True)\n",
    "\n",
    "times = pd.Series(df['Mandante'].unique(), name='Times')\n",
    "ano = pd.Series(df['Ano'].unique(), name='Ano')\n",
    "tg = pd.DataFrame(columns=['Time', 'Ano'])\n",
    "\n",
    "count = 0\n",
    "for i in times.to_frame().iterrows():\n",
    "    for y in ano.to_frame().iterrows():\n",
    "        count += 1\n",
    "        tg.loc[-1, 'Time'] = i[1][0]\n",
    "        tg.loc[-1, 'Ano'] = y[1][0]\n",
    "        tg.index += count\n",
    "\n",
    "\n",
    "tg['Pontos'] = 0\n",
    "tg = tg.reset_index()\n",
    "\n",
    "mandante = df.groupby(['Mandante', 'Ano'])['Pontos Mandante'].sum()\n",
    "visitante = df.groupby(['Visitante', 'Ano'])['Pontos Visitante'].sum()\n",
    "nova = pd.DataFrame(mandante)\n",
    "nova_2 = pd.DataFrame(visitante)\n",
    "\n",
    "for index, i in nova.iterrows():\n",
    "    op_1 = tg['Time'] == index[0]\n",
    "    op_2 = tg['Ano'] == index[1]\n",
    "    tg.loc[op_1 & op_2, 'Pontos' ] += i['Pontos Mandante']\n",
    "\n",
    "for index, i in nova_2.iterrows():\n",
    "    op_1 = tg['Time'] == index[0]\n",
    "    op_2 = tg['Ano'] == index[1]\n",
    "    tg.loc[op_1 & op_2, 'Pontos' ] += i['Pontos Visitante']\n",
    "\n",
    "grafic_3 = tg.groupby('Time')[['Time', 'Pontos']].mean().sort_values('Pontos', ascending=False).head(10)\n",
    "\n",
    "time_filtro = 'FLAMENGO'\n",
    "ano_filtro = tg['Ano'] == 2019\n",
    "pontos_filtro = tg['Pontos'] != 0\n",
    "\n",
    "# Grafico do time nas temporadas\n",
    "grafic_1 = tg[ tg['Time'] == time_filtro ]\n",
    "\n",
    "# grafico da tabela do temporada\n",
    "grafic_2 = tg[ ano_filtro & pontos_filtro ]\n",
    "\n",
    "grafic_1 = grafic_1.sort_values(by=\"Ano\").reset_index()\n",
    "grafic_2 = grafic_2.sort_values(by=\"Pontos\")\n",
    "\n",
    "grafico = px.line(grafic_1, x='Ano', y='Pontos')\n",
    "grafico.show()\n",
    "\n",
    "grafico = px.bar(grafic_2, x='Time', y='Pontos')\n",
    "grafico.show()\n",
    "\n",
    "grafico = px.bar(grafic_3, x=grafic_3.index, y='Pontos')\n",
    "grafico.show()"
   ],
   "metadata": {
    "collapsed": false,
    "pycharm": {
     "name": "#%%\n"
    }
   }
  },
  {
   "cell_type": "markdown",
   "source": [
    "## Prevendo quem ganhará uma partida\n",
    "\n",
    "#### A partir do time Visitante e do time Mandante o usuário precisará indicar o dia da semana para prever o resultado da partida"
   ],
   "metadata": {
    "collapsed": false
   }
  },
  {
   "cell_type": "code",
   "execution_count": 293,
   "outputs": [
    {
     "name": "stdout",
     "output_type": "stream",
     "text": [
      "['Previsão: FLAMENGO' 'Previsão: FLAMENGO' 'Previsão: -' 'Previsão: -'\n",
      " 'Previsão: FLAMENGO' 'Previsão: FLAMENGO' 'Previsão: FLAMENGO']\n",
      "Precisão: 0.5\n"
     ]
    },
    {
     "name": "stderr",
     "output_type": "stream",
     "text": [
      "C:\\Users\\Cliente\\AppData\\Local\\Temp/ipykernel_2292/271389167.py:38: SettingWithCopyWarning:\n",
      "\n",
      "\n",
      "A value is trying to be set on a copy of a slice from a DataFrame.\n",
      "Try using .loc[row_indexer,col_indexer] = value instead\n",
      "\n",
      "See the caveats in the documentation: https://pandas.pydata.org/pandas-docs/stable/user_guide/indexing.html#returning-a-view-versus-a-copy\n",
      "\n",
      "e:\\pycharm 2021.2.1\\projects\\campeonato-brasileiro-ia\\venv\\lib\\site-packages\\sklearn\\base.py:445: UserWarning:\n",
      "\n",
      "X does not have valid feature names, but DecisionTreeClassifier was fitted with feature names\n",
      "\n"
     ]
    }
   ],
   "source": [
    "# Imports\n",
    "from sklearn.model_selection import train_test_split\n",
    "from sklearn import tree\n",
    "import matplotlib.pyplot as plt\n",
    "from sklearn import metrics\n",
    "\n",
    "# função para coverter os dias para numeros e aceita na biblioteca\n",
    "def dia_to_number(v):\n",
    "    if v == 'DOMINGO':\n",
    "        return 1\n",
    "    elif v == 'SEGUNDA-FEIRA':\n",
    "        return 2\n",
    "    elif v == 'TERÇA-FEIRA':\n",
    "        return 3\n",
    "    elif v == 'QUARTA-FEIRA':\n",
    "        return 4\n",
    "    elif v == 'QUINTA-FEIRA':\n",
    "        return 5\n",
    "    elif v == 'SEXTA-FEIRA':\n",
    "        return 6\n",
    "    elif v == 'SABADO':\n",
    "        return 7\n",
    "\n",
    "# Definição de mandante e visitante\n",
    "mandante = 'FLAMENGO'\n",
    "visitante = 'SANTOS'\n",
    "\n",
    "# condoções para filtrar o dataset\n",
    "condition_1 = mandante == df['Mandante']\n",
    "condition_2 = visitante == df['Visitante']\n",
    "\n",
    "# filtrando o dataset\n",
    "filtered = df[ condition_1 & condition_2 ]\n",
    "\n",
    "# aplicamos as conversões, inclusive da função criada anteriormente\n",
    "# Mandante  -> 1\n",
    "# Visitante -> 0\n",
    "filtered['Dia'] = filtered['Dia'].apply(dia_to_number)\n",
    "\n",
    "# Separa as entradas e saídas\n",
    "x = filtered[['Dia']]\n",
    "y = filtered['Vencedor']\n",
    "\n",
    "# Excutamos o treino via biblioteca\n",
    "X_treino, X_teste, y_treino, y_teste = train_test_split(x, y, test_size=0.2)\n",
    "\n",
    "# Montamos a classificação\n",
    "arvore = tree.DecisionTreeClassifier()\n",
    "classificador = arvore.fit(X_treino, y_treino)\n",
    "\n",
    "caracteristicas = list(x.columns)\n",
    "\n",
    "# Passamos o dia da semana do jogo\n",
    "example_domingo = [1]\n",
    "example_segunda = [2]\n",
    "example_terca = [3]\n",
    "example_quarta = [4]\n",
    "example_quinta = [5]\n",
    "example_sexta = [6]\n",
    "example_sabado = [7]\n",
    "\n",
    "entrada = [example_domingo, example_segunda, example_terca,\n",
    "            example_quarta, example_quinta, example_sexta, example_sabado]\n",
    "previsao = classificador.predict(entrada)\n",
    "\n",
    "y_previsao = classificador.predict(X_teste)\n",
    "\n",
    "print(\"Previsão: \" + previsao )\n",
    "print(\"Precisão:\", metrics.accuracy_score(y_teste, y_previsao))"
   ],
   "metadata": {
    "collapsed": false,
    "pycharm": {
     "name": "#%%\n"
    }
   }
  },
  {
   "cell_type": "code",
   "execution_count": 291,
   "outputs": [
    {
     "data": {
      "text/plain": "<Figure size 2000x1400 with 1 Axes>",
      "image/png": "[encoded data removed]"
     },
     "metadata": {
      "needs_background": "light"
     },
     "output_type": "display_data"
    }
   ],
   "source": [
    "plt.figure(figsize=(10, 7), dpi=200)\n",
    "tree.plot_tree(classificador, fontsize=14, filled=True,\n",
    " feature_names=caracteristicas,class_names=[\"Visitante\", \"Mandante\", \"Empate\"], max_depth=3)\n",
    "plt.show()"
   ],
   "metadata": {
    "collapsed": false,
    "pycharm": {
     "name": "#%%\n"
    }
   }
  }
 ],
 "metadata": {
  "kernelspec": {
   "display_name": "Python 3",
   "language": "python",
   "name": "python3"
  },
  "language_info": {
   "codemirror_mode": {
    "name": "ipython",
    "version": 2
   },
   "file_extension": ".py",
   "mimetype": "text/x-python",
   "name": "python",
   "nbconvert_exporter": "python",
   "pygments_lexer": "ipython2",
   "version": "2.7.6"
  }
 },
 "nbformat": 4,
 "nbformat_minor": 0
}