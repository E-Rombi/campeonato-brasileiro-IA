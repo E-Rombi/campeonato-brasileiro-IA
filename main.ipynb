{
 "cells": [
  {
   "cell_type": "markdown",
   "source": [
    "## Importando Dataset - Campeonato Brasileiro"
   ],
   "metadata": {
    "collapsed": false
   }
  },
  {
   "cell_type": "code",
   "metadata": {
    "collapsed": true,
    "pycharm": {
     "name": "#%%\n"
    }
   },
   "source": [
    "import pandas as pd\n",
    "import numpy as np\n",
    "\n",
    "csv_path = '.\\dataset\\campeonato-brasileiro-full.csv'\n",
    "\n",
    "df = pd.read_csv(csv_path, delimiter=';')"
   ],
   "execution_count": 71,
   "outputs": []
  },
  {
   "cell_type": "markdown",
   "source": [
    "## Capturando informações gerais das colunas"
   ],
   "metadata": {
    "collapsed": false,
    "pycharm": {
     "name": "#%% md\n"
    }
   }
  },
  {
   "cell_type": "code",
   "source": [
    "df.info()"
   ],
   "metadata": {
    "collapsed": false,
    "pycharm": {
     "name": "#%%\n"
    }
   },
   "execution_count": 72,
   "outputs": [
    {
     "name": "stdout",
     "output_type": "stream",
     "text": [
      "<class 'pandas.core.frame.DataFrame'>\n",
      "RangeIndex: 8440 entries, 0 to 8439\n",
      "Data columns (total 14 columns):\n",
      " #   Column            Non-Null Count  Dtype  \n",
      "---  ------            --------------  -----  \n",
      " 0   ID                8440 non-null   int64  \n",
      " 1   Rodada            8440 non-null   object \n",
      " 2   Data              8436 non-null   object \n",
      " 3   Horário           8079 non-null   object \n",
      " 4   Dia               8436 non-null   object \n",
      " 5   Mandante          8440 non-null   object \n",
      " 6   Visitante         8440 non-null   object \n",
      " 7   Vencedor          8440 non-null   object \n",
      " 8   Arena             8436 non-null   object \n",
      " 9   Mandante Placar   8436 non-null   float64\n",
      " 10  Visitante Placar  8436 non-null   float64\n",
      " 11  Estado Mandante   8440 non-null   object \n",
      " 12  Estado Visitante  8440 non-null   object \n",
      " 13  Estado Vencedor   8440 non-null   object \n",
      "dtypes: float64(2), int64(1), object(11)\n",
      "memory usage: 923.2+ KB\n"
     ]
    }
   ]
  },
  {
   "cell_type": "markdown",
   "source": [
    "## Listando os 5 primeiros registros"
   ],
   "metadata": {
    "collapsed": false,
    "pycharm": {
     "name": "#%% md\n"
    }
   }
  },
  {
   "cell_type": "code",
   "execution_count": 73,
   "outputs": [
    {
     "data": {
      "text/plain": "   ID Rodada        Data Horário      Dia     Mandante    Visitante  \\\n0   1      1  2000-07-29   16h00   Sábado   Fluminense        Bahia   \n1   2      1  2000-07-29   16h00   Sábado        Vasco        Sport   \n2   3      1  2000-07-29   16h00   Sábado      Vitória    Palmeiras   \n3   4      1  2000-07-30   17h00  Domingo  Botafogo-RJ  Atlético-MG   \n4   5      1  2000-07-30   18h30  Domingo    Juventude     Flamengo   \n\n     Vencedor           Arena  Mandante Placar  Visitante Placar  \\\n0  Fluminense        Maracanã              2.0               0.0   \n1       Sport    São Januário              0.0               2.0   \n2     Vitória        Barradão              4.0               1.0   \n3           -    Caio Martins              0.0               0.0   \n4           -  Alfredo Jaconi              1.0               1.0   \n\n  Estado Mandante Estado Visitante Estado Vencedor  \n0              RJ               BA              RJ  \n1              RJ               PE              PE  \n2              ES               SP              ES  \n3              RJ               MG               -  \n4              RS               RJ               -  ",
      "text/html": "<div>\n<style scoped>\n    .dataframe tbody tr th:only-of-type {\n        vertical-align: middle;\n    }\n\n    .dataframe tbody tr th {\n        vertical-align: top;\n    }\n\n    .dataframe thead th {\n        text-align: right;\n    }\n</style>\n<table border=\"1\" class=\"dataframe\">\n  <thead>\n    <tr style=\"text-align: right;\">\n      <th></th>\n      <th>ID</th>\n      <th>Rodada</th>\n      <th>Data</th>\n      <th>Horário</th>\n      <th>Dia</th>\n      <th>Mandante</th>\n      <th>Visitante</th>\n      <th>Vencedor</th>\n      <th>Arena</th>\n      <th>Mandante Placar</th>\n      <th>Visitante Placar</th>\n      <th>Estado Mandante</th>\n      <th>Estado Visitante</th>\n      <th>Estado Vencedor</th>\n    </tr>\n  </thead>\n  <tbody>\n    <tr>\n      <th>0</th>\n      <td>1</td>\n      <td>1</td>\n      <td>2000-07-29</td>\n      <td>16h00</td>\n      <td>Sábado</td>\n      <td>Fluminense</td>\n      <td>Bahia</td>\n      <td>Fluminense</td>\n      <td>Maracanã</td>\n      <td>2.0</td>\n      <td>0.0</td>\n      <td>RJ</td>\n      <td>BA</td>\n      <td>RJ</td>\n    </tr>\n    <tr>\n      <th>1</th>\n      <td>2</td>\n      <td>1</td>\n      <td>2000-07-29</td>\n      <td>16h00</td>\n      <td>Sábado</td>\n      <td>Vasco</td>\n      <td>Sport</td>\n      <td>Sport</td>\n      <td>São Januário</td>\n      <td>0.0</td>\n      <td>2.0</td>\n      <td>RJ</td>\n      <td>PE</td>\n      <td>PE</td>\n    </tr>\n    <tr>\n      <th>2</th>\n      <td>3</td>\n      <td>1</td>\n      <td>2000-07-29</td>\n      <td>16h00</td>\n      <td>Sábado</td>\n      <td>Vitória</td>\n      <td>Palmeiras</td>\n      <td>Vitória</td>\n      <td>Barradão</td>\n      <td>4.0</td>\n      <td>1.0</td>\n      <td>ES</td>\n      <td>SP</td>\n      <td>ES</td>\n    </tr>\n    <tr>\n      <th>3</th>\n      <td>4</td>\n      <td>1</td>\n      <td>2000-07-30</td>\n      <td>17h00</td>\n      <td>Domingo</td>\n      <td>Botafogo-RJ</td>\n      <td>Atlético-MG</td>\n      <td>-</td>\n      <td>Caio Martins</td>\n      <td>0.0</td>\n      <td>0.0</td>\n      <td>RJ</td>\n      <td>MG</td>\n      <td>-</td>\n    </tr>\n    <tr>\n      <th>4</th>\n      <td>5</td>\n      <td>1</td>\n      <td>2000-07-30</td>\n      <td>18h30</td>\n      <td>Domingo</td>\n      <td>Juventude</td>\n      <td>Flamengo</td>\n      <td>-</td>\n      <td>Alfredo Jaconi</td>\n      <td>1.0</td>\n      <td>1.0</td>\n      <td>RS</td>\n      <td>RJ</td>\n      <td>-</td>\n    </tr>\n  </tbody>\n</table>\n</div>"
     },
     "execution_count": 73,
     "metadata": {},
     "output_type": "execute_result"
    }
   ],
   "source": [
    "df.head(5)"
   ],
   "metadata": {
    "collapsed": false,
    "pycharm": {
     "name": "#%%\n"
    }
   }
  },
  {
   "cell_type": "markdown",
   "source": [
    "## Tratando dados inválidos"
   ],
   "metadata": {
    "collapsed": false
   }
  },
  {
   "cell_type": "code",
   "execution_count": 74,
   "outputs": [],
   "source": [
    "from unicodedata import normalize\n",
    "\n",
    "def trataString(value):\n",
    "    return normalize('NFKD', str(value)).encode('ASCII', 'ignore').decode('ASCII').upper()\n",
    "\n",
    "df['Mandante'] = df['Mandante'].apply(trataString)\n",
    "df['Visitante'] = df['Visitante'].apply(trataString)\n",
    "df['Dia'] = df['Dia'].apply(trataString)\n",
    "df['Vencedor'] = df['Vencedor'].apply(trataString)\n",
    "df['Arena'] = df['Arena'].apply(trataString)\n"
   ],
   "metadata": {
    "collapsed": false,
    "pycharm": {
     "name": "#%%\n"
    }
   }
  },
  {
   "cell_type": "markdown",
   "source": [
    "## Ordenando o Dataset pelo Mandante da partida"
   ],
   "metadata": {
    "collapsed": false,
    "pycharm": {
     "name": "#%% md\n"
    }
   }
  },
  {
   "cell_type": "code",
   "execution_count": 87,
   "outputs": [],
   "source": [
    "df['Pontos Mandante'] = 0\n",
    "df['Pontos Visitante'] = 0\n",
    "\n",
    "df.loc[ df['Vencedor'] == df['Mandante'], 'Pontos Mandante' ] = 3\n",
    "df.loc[ df['Vencedor'] == df['Visitante'], 'Pontos Visitante' ] = 3\n",
    "df.loc[ df['Vencedor'] == '-', 'Pontos Mandante' ] = 1\n",
    "df.loc[ df['Vencedor'] == '-', 'Pontos Visitante' ] = 1\n",
    "\n",
    "\n",
    "times = pd.Series(df['Mandante'].unique(), name='Times')\n",
    "tg = pd.DataFrame(times)\n",
    "tg['Pontos'] = 0\n",
    "\n",
    "test = df.groupby('Mandante')['Pontos Mandante'].sum()\n",
    "\n",
    "for i in test.index:\n",
    "    i"
   ],
   "metadata": {
    "collapsed": false,
    "pycharm": {
     "name": "#%%\n"
    }
   }
  },
  {
   "cell_type": "markdown",
   "source": [
    "## Ordenando o Dataset pelas maiores goleadas"
   ],
   "metadata": {
    "collapsed": false
   }
  },
  {
   "cell_type": "code",
   "execution_count": 76,
   "outputs": [
    {
     "data": {
      "text/plain": "        ID Rodada        Data Horário           Dia     Mandante    Visitante  \\\n1600  1601     46  2003-12-14   16h00       DOMINGO        BAHIA     CRUZEIRO   \n1122  1123      6  2003-04-27   16h00       DOMINGO        GOIAS    JUVENTUDE   \n1992  1993     33  2004-09-28   20h30   TERCA-FEIRA    SAO PAULO     PAYSANDU   \n1528  1529     40  2003-11-02   16h00       DOMINGO  FIGUEIRENSE     PAYSANDU   \n1338  1339     24  2003-08-07   20h30  QUINTA-FEIRA     FLAMENGO        BAHIA   \n...    ...    ...         ...     ...           ...          ...          ...   \n2740  2741     13  2006-07-22   18h10        SABADO   FLUMINENSE  SAO CAETANO   \n3750  3751     38  2008-12-07   17h00       DOMINGO       SANTOS      NAUTICO   \n1666  1667      6  2004-05-16   16h00       DOMINGO    JUVENTUDE  ATLETICO-MG   \n6932  6933     14  2017-07-16   16:00       DOMINGO        VASCO       SANTOS   \n5084  5085     19  2012-08-26   18h30       DOMINGO        SPORT      NAUTICO   \n\n         Vencedor              Arena  Mandante Placar  Visitante Placar  \\\n1600     CRUZEIRO         FONTE NOVA              0.0               7.0   \n1122        GOIAS      SERRA DOURADA              7.0               0.0   \n1992    SAO PAULO            MORUMBI              7.0               0.0   \n1528  FIGUEIRENSE  ORLANDO SCARPELLI              6.0               0.0   \n1338     FLAMENGO           MARACANA              6.0               0.0   \n...           ...                ...              ...               ...   \n2740            -           MARACANA              2.0               2.0   \n3750            -       VILA BELMIRO              0.0               0.0   \n1666            -     ALFREDO JACONI              1.0               1.0   \n6932            -           ENGENHAO              0.0               0.0   \n5084            -     ILHA DO RETIRO              0.0               0.0   \n\n     Estado Mandante Estado Visitante Estado Vencedor  Pontos Mandante  \\\n1600              BA               MG              MG                0   \n1122              GO               RS              GO                3   \n1992              SP               PA              SP                3   \n1528              SC               PA              SC                3   \n1338              RJ               BA              RJ                3   \n...              ...              ...             ...              ...   \n2740              RJ               SP               -                1   \n3750              SP               PE               -                1   \n1666              RS               MG               -                1   \n6932              RJ               SP               -                1   \n5084              PE               PE               -                1   \n\n      Pontos Visitante  Diferenca Gols  \n1600                 3             7.0  \n1122                 0             7.0  \n1992                 0             7.0  \n1528                 0             6.0  \n1338                 0             6.0  \n...                ...             ...  \n2740                 1             0.0  \n3750                 1             0.0  \n1666                 1             0.0  \n6932                 1             0.0  \n5084                 1             0.0  \n\n[8436 rows x 17 columns]",
      "text/html": "<div>\n<style scoped>\n    .dataframe tbody tr th:only-of-type {\n        vertical-align: middle;\n    }\n\n    .dataframe tbody tr th {\n        vertical-align: top;\n    }\n\n    .dataframe thead th {\n        text-align: right;\n    }\n</style>\n<table border=\"1\" class=\"dataframe\">\n  <thead>\n    <tr style=\"text-align: right;\">\n      <th></th>\n      <th>ID</th>\n      <th>Rodada</th>\n      <th>Data</th>\n      <th>Horário</th>\n      <th>Dia</th>\n      <th>Mandante</th>\n      <th>Visitante</th>\n      <th>Vencedor</th>\n      <th>Arena</th>\n      <th>Mandante Placar</th>\n      <th>Visitante Placar</th>\n      <th>Estado Mandante</th>\n      <th>Estado Visitante</th>\n      <th>Estado Vencedor</th>\n      <th>Pontos Mandante</th>\n      <th>Pontos Visitante</th>\n      <th>Diferenca Gols</th>\n    </tr>\n  </thead>\n  <tbody>\n    <tr>\n      <th>1600</th>\n      <td>1601</td>\n      <td>46</td>\n      <td>2003-12-14</td>\n      <td>16h00</td>\n      <td>DOMINGO</td>\n      <td>BAHIA</td>\n      <td>CRUZEIRO</td>\n      <td>CRUZEIRO</td>\n      <td>FONTE NOVA</td>\n      <td>0.0</td>\n      <td>7.0</td>\n      <td>BA</td>\n      <td>MG</td>\n      <td>MG</td>\n      <td>0</td>\n      <td>3</td>\n      <td>7.0</td>\n    </tr>\n    <tr>\n      <th>1122</th>\n      <td>1123</td>\n      <td>6</td>\n      <td>2003-04-27</td>\n      <td>16h00</td>\n      <td>DOMINGO</td>\n      <td>GOIAS</td>\n      <td>JUVENTUDE</td>\n      <td>GOIAS</td>\n      <td>SERRA DOURADA</td>\n      <td>7.0</td>\n      <td>0.0</td>\n      <td>GO</td>\n      <td>RS</td>\n      <td>GO</td>\n      <td>3</td>\n      <td>0</td>\n      <td>7.0</td>\n    </tr>\n    <tr>\n      <th>1992</th>\n      <td>1993</td>\n      <td>33</td>\n      <td>2004-09-28</td>\n      <td>20h30</td>\n      <td>TERCA-FEIRA</td>\n      <td>SAO PAULO</td>\n      <td>PAYSANDU</td>\n      <td>SAO PAULO</td>\n      <td>MORUMBI</td>\n      <td>7.0</td>\n      <td>0.0</td>\n      <td>SP</td>\n      <td>PA</td>\n      <td>SP</td>\n      <td>3</td>\n      <td>0</td>\n      <td>7.0</td>\n    </tr>\n    <tr>\n      <th>1528</th>\n      <td>1529</td>\n      <td>40</td>\n      <td>2003-11-02</td>\n      <td>16h00</td>\n      <td>DOMINGO</td>\n      <td>FIGUEIRENSE</td>\n      <td>PAYSANDU</td>\n      <td>FIGUEIRENSE</td>\n      <td>ORLANDO SCARPELLI</td>\n      <td>6.0</td>\n      <td>0.0</td>\n      <td>SC</td>\n      <td>PA</td>\n      <td>SC</td>\n      <td>3</td>\n      <td>0</td>\n      <td>6.0</td>\n    </tr>\n    <tr>\n      <th>1338</th>\n      <td>1339</td>\n      <td>24</td>\n      <td>2003-08-07</td>\n      <td>20h30</td>\n      <td>QUINTA-FEIRA</td>\n      <td>FLAMENGO</td>\n      <td>BAHIA</td>\n      <td>FLAMENGO</td>\n      <td>MARACANA</td>\n      <td>6.0</td>\n      <td>0.0</td>\n      <td>RJ</td>\n      <td>BA</td>\n      <td>RJ</td>\n      <td>3</td>\n      <td>0</td>\n      <td>6.0</td>\n    </tr>\n    <tr>\n      <th>...</th>\n      <td>...</td>\n      <td>...</td>\n      <td>...</td>\n      <td>...</td>\n      <td>...</td>\n      <td>...</td>\n      <td>...</td>\n      <td>...</td>\n      <td>...</td>\n      <td>...</td>\n      <td>...</td>\n      <td>...</td>\n      <td>...</td>\n      <td>...</td>\n      <td>...</td>\n      <td>...</td>\n      <td>...</td>\n    </tr>\n    <tr>\n      <th>2740</th>\n      <td>2741</td>\n      <td>13</td>\n      <td>2006-07-22</td>\n      <td>18h10</td>\n      <td>SABADO</td>\n      <td>FLUMINENSE</td>\n      <td>SAO CAETANO</td>\n      <td>-</td>\n      <td>MARACANA</td>\n      <td>2.0</td>\n      <td>2.0</td>\n      <td>RJ</td>\n      <td>SP</td>\n      <td>-</td>\n      <td>1</td>\n      <td>1</td>\n      <td>0.0</td>\n    </tr>\n    <tr>\n      <th>3750</th>\n      <td>3751</td>\n      <td>38</td>\n      <td>2008-12-07</td>\n      <td>17h00</td>\n      <td>DOMINGO</td>\n      <td>SANTOS</td>\n      <td>NAUTICO</td>\n      <td>-</td>\n      <td>VILA BELMIRO</td>\n      <td>0.0</td>\n      <td>0.0</td>\n      <td>SP</td>\n      <td>PE</td>\n      <td>-</td>\n      <td>1</td>\n      <td>1</td>\n      <td>0.0</td>\n    </tr>\n    <tr>\n      <th>1666</th>\n      <td>1667</td>\n      <td>6</td>\n      <td>2004-05-16</td>\n      <td>16h00</td>\n      <td>DOMINGO</td>\n      <td>JUVENTUDE</td>\n      <td>ATLETICO-MG</td>\n      <td>-</td>\n      <td>ALFREDO JACONI</td>\n      <td>1.0</td>\n      <td>1.0</td>\n      <td>RS</td>\n      <td>MG</td>\n      <td>-</td>\n      <td>1</td>\n      <td>1</td>\n      <td>0.0</td>\n    </tr>\n    <tr>\n      <th>6932</th>\n      <td>6933</td>\n      <td>14</td>\n      <td>2017-07-16</td>\n      <td>16:00</td>\n      <td>DOMINGO</td>\n      <td>VASCO</td>\n      <td>SANTOS</td>\n      <td>-</td>\n      <td>ENGENHAO</td>\n      <td>0.0</td>\n      <td>0.0</td>\n      <td>RJ</td>\n      <td>SP</td>\n      <td>-</td>\n      <td>1</td>\n      <td>1</td>\n      <td>0.0</td>\n    </tr>\n    <tr>\n      <th>5084</th>\n      <td>5085</td>\n      <td>19</td>\n      <td>2012-08-26</td>\n      <td>18h30</td>\n      <td>DOMINGO</td>\n      <td>SPORT</td>\n      <td>NAUTICO</td>\n      <td>-</td>\n      <td>ILHA DO RETIRO</td>\n      <td>0.0</td>\n      <td>0.0</td>\n      <td>PE</td>\n      <td>PE</td>\n      <td>-</td>\n      <td>1</td>\n      <td>1</td>\n      <td>0.0</td>\n    </tr>\n  </tbody>\n</table>\n<p>8436 rows × 17 columns</p>\n</div>"
     },
     "execution_count": 76,
     "metadata": {},
     "output_type": "execute_result"
    }
   ],
   "source": [
    "df['Diferenca Gols'] = abs(df['Mandante Placar'] - df['Visitante Placar'])\n",
    "\n",
    "# dropando valores nulos, visto que se não houve o jogo, provavelmente foi remarcado e está em outro registro\n",
    "df = df.dropna(subset=['Diferenca Gols'])\n",
    "\n",
    "df.sort_values(by=['Diferenca Gols'], ascending=False)"
   ],
   "metadata": {
    "collapsed": false,
    "pycharm": {
     "name": "#%%\n"
    }
   }
  },
  {
   "cell_type": "markdown",
   "source": [
    "## Exibir as 5 maiores contagens de valores únicos de uma única coluna\n",
    "#### No caso: Quem são os melhores Mandantes ?"
   ],
   "metadata": {
    "collapsed": false,
    "pycharm": {
     "name": "#%% md\n"
    }
   }
  },
  {
   "cell_type": "code",
   "execution_count": 77,
   "outputs": [
    {
     "data": {
      "text/plain": "Mandante     \nSANTOS           233\nSAO PAULO        231\nGREMIO           223\nATHLETICO-PR     221\nINTERNACIONAL    217\ndtype: int64"
     },
     "execution_count": 77,
     "metadata": {},
     "output_type": "execute_result"
    }
   ],
   "source": [
    "df[ df['Mandante'] == df['Vencedor'] ][['Mandante']].value_counts().head()"
   ],
   "metadata": {
    "collapsed": false,
    "pycharm": {
     "name": "#%%\n"
    }
   }
  },
  {
   "cell_type": "markdown",
   "source": [
    "## Exiba, no mínimo, três plots. Se possível, use um para variáveis quantitativa e outro para variáveis de qualitativas"
   ],
   "metadata": {
    "collapsed": false,
    "pycharm": {
     "name": "#%% md\n"
    }
   }
  },
  {
   "cell_type": "code",
   "execution_count": 78,
   "outputs": [],
   "source": [
    "# Implementar"
   ],
   "metadata": {
    "collapsed": false,
    "pycharm": {
     "name": "#%%\n"
    }
   }
  },
  {
   "cell_type": "markdown",
   "source": [
    "## Implemente pelo menos um filtro"
   ],
   "metadata": {
    "collapsed": false,
    "pycharm": {
     "name": "#%% md\n"
    }
   }
  },
  {
   "cell_type": "code",
   "execution_count": 79,
   "outputs": [],
   "source": [
    "# Implementar"
   ],
   "metadata": {
    "collapsed": false,
    "pycharm": {
     "name": "#%%\n"
    }
   }
  },
  {
   "cell_type": "markdown",
   "source": [
    "## Utilize, no mínimo, uma função agregada com agrupamento"
   ],
   "metadata": {
    "collapsed": false,
    "pycharm": {
     "name": "#%% md\n"
    }
   }
  },
  {
   "cell_type": "code",
   "execution_count": 80,
   "outputs": [
    {
     "data": {
      "text/plain": "Estado Mandante\nAL      24.0\nBA     521.0\nCE     477.0\nDF     141.0\nES     615.0\nGO    1061.0\nMG    2438.0\nMT      12.0\nPA     229.0\nPE     880.0\nPR    2147.0\nRJ    3969.0\nRN      24.0\nRS    2426.0\nSC    1269.0\nSP    6011.0\ndtype: float64"
     },
     "execution_count": 80,
     "metadata": {},
     "output_type": "execute_result"
    }
   ],
   "source": [
    "df.groupby(by=['Estado Mandante'])['Mandante Placar'].sum() + df.groupby(by=['Estado Visitante'])['Visitante Placar'].sum()"
   ],
   "metadata": {
    "collapsed": false,
    "pycharm": {
     "name": "#%%\n"
    }
   }
  },
  {
   "cell_type": "code",
   "execution_count": 81,
   "outputs": [
    {
     "data": {
      "text/plain": "        ID Rodada        Data Horário            Dia       Mandante  \\\n0        1      1  2000-07-29   16h00         SABADO     FLUMINENSE   \n1        2      1  2000-07-29   16h00         SABADO          VASCO   \n2        3      1  2000-07-29   16h00         SABADO        VITORIA   \n3        4      1  2000-07-30   17h00        DOMINGO    BOTAFOGO-RJ   \n4        5      1  2000-07-30   18h30        DOMINGO      JUVENTUDE   \n...    ...    ...         ...     ...            ...            ...   \n8435  8436     12  2021-07-18   16:00        DOMINGO    ATLETICO-GO   \n8436  8437     12  2021-07-18   18:15        DOMINGO          BAHIA   \n8437  8438     12  2021-07-18   20:30        DOMINGO  INTERNACIONAL   \n8438  8439     12  2021-07-18   20:30        DOMINGO     BRAGANTINO   \n8439  8440     12  2021-07-19   20:00  SEGUNDA-FEIRA     AMERICA-MG   \n\n        Visitante       Vencedor            Arena  Mandante Placar  \\\n0           BAHIA     FLUMINENSE         MARACANA              2.0   \n1           SPORT          SPORT     SAO JANUARIO              0.0   \n2       PALMEIRAS        VITORIA         BARRADAO              4.0   \n3     ATLETICO-MG              -     CAIO MARTINS              0.0   \n4        FLAMENGO              -   ALFREDO JACONI              1.0   \n...           ...            ...              ...              ...   \n8435    PALMEIRAS      PALMEIRAS  ANTONIO ACCIOLY              0.0   \n8436     FLAMENGO       FLAMENGO          PITUACU              0.0   \n8437    JUVENTUDE  INTERNACIONAL        BEIRA-RIO              1.0   \n8438       SANTOS              -  NABI ABI CHEDID              2.0   \n8439        SPORT          SPORT    INDEPENDENCIA              0.0   \n\n      Visitante Placar Estado Mandante Estado Visitante Estado Vencedor  \\\n0                  0.0              RJ               BA              RJ   \n1                  2.0              RJ               PE              PE   \n2                  1.0              ES               SP              ES   \n3                  0.0              RJ               MG               -   \n4                  1.0              RS               RJ               -   \n...                ...             ...              ...             ...   \n8435               3.0              GO               SP              SP   \n8436               5.0              BA               RJ              RJ   \n8437               0.0              RS               RS              RS   \n8438               2.0              SP               SP               -   \n8439               1.0              MG               PE              PE   \n\n      Pontos Mandante  Pontos Visitante  Diferenca Gols  \n0                   3                 0             2.0  \n1                   0                 3             2.0  \n2                   3                 0             3.0  \n3                   1                 1             0.0  \n4                   1                 1             0.0  \n...               ...               ...             ...  \n8435                0                 3             3.0  \n8436                0                 3             5.0  \n8437                3                 0             1.0  \n8438                1                 1             0.0  \n8439                0                 3             1.0  \n\n[8436 rows x 17 columns]",
      "text/html": "<div>\n<style scoped>\n    .dataframe tbody tr th:only-of-type {\n        vertical-align: middle;\n    }\n\n    .dataframe tbody tr th {\n        vertical-align: top;\n    }\n\n    .dataframe thead th {\n        text-align: right;\n    }\n</style>\n<table border=\"1\" class=\"dataframe\">\n  <thead>\n    <tr style=\"text-align: right;\">\n      <th></th>\n      <th>ID</th>\n      <th>Rodada</th>\n      <th>Data</th>\n      <th>Horário</th>\n      <th>Dia</th>\n      <th>Mandante</th>\n      <th>Visitante</th>\n      <th>Vencedor</th>\n      <th>Arena</th>\n      <th>Mandante Placar</th>\n      <th>Visitante Placar</th>\n      <th>Estado Mandante</th>\n      <th>Estado Visitante</th>\n      <th>Estado Vencedor</th>\n      <th>Pontos Mandante</th>\n      <th>Pontos Visitante</th>\n      <th>Diferenca Gols</th>\n    </tr>\n  </thead>\n  <tbody>\n    <tr>\n      <th>0</th>\n      <td>1</td>\n      <td>1</td>\n      <td>2000-07-29</td>\n      <td>16h00</td>\n      <td>SABADO</td>\n      <td>FLUMINENSE</td>\n      <td>BAHIA</td>\n      <td>FLUMINENSE</td>\n      <td>MARACANA</td>\n      <td>2.0</td>\n      <td>0.0</td>\n      <td>RJ</td>\n      <td>BA</td>\n      <td>RJ</td>\n      <td>3</td>\n      <td>0</td>\n      <td>2.0</td>\n    </tr>\n    <tr>\n      <th>1</th>\n      <td>2</td>\n      <td>1</td>\n      <td>2000-07-29</td>\n      <td>16h00</td>\n      <td>SABADO</td>\n      <td>VASCO</td>\n      <td>SPORT</td>\n      <td>SPORT</td>\n      <td>SAO JANUARIO</td>\n      <td>0.0</td>\n      <td>2.0</td>\n      <td>RJ</td>\n      <td>PE</td>\n      <td>PE</td>\n      <td>0</td>\n      <td>3</td>\n      <td>2.0</td>\n    </tr>\n    <tr>\n      <th>2</th>\n      <td>3</td>\n      <td>1</td>\n      <td>2000-07-29</td>\n      <td>16h00</td>\n      <td>SABADO</td>\n      <td>VITORIA</td>\n      <td>PALMEIRAS</td>\n      <td>VITORIA</td>\n      <td>BARRADAO</td>\n      <td>4.0</td>\n      <td>1.0</td>\n      <td>ES</td>\n      <td>SP</td>\n      <td>ES</td>\n      <td>3</td>\n      <td>0</td>\n      <td>3.0</td>\n    </tr>\n    <tr>\n      <th>3</th>\n      <td>4</td>\n      <td>1</td>\n      <td>2000-07-30</td>\n      <td>17h00</td>\n      <td>DOMINGO</td>\n      <td>BOTAFOGO-RJ</td>\n      <td>ATLETICO-MG</td>\n      <td>-</td>\n      <td>CAIO MARTINS</td>\n      <td>0.0</td>\n      <td>0.0</td>\n      <td>RJ</td>\n      <td>MG</td>\n      <td>-</td>\n      <td>1</td>\n      <td>1</td>\n      <td>0.0</td>\n    </tr>\n    <tr>\n      <th>4</th>\n      <td>5</td>\n      <td>1</td>\n      <td>2000-07-30</td>\n      <td>18h30</td>\n      <td>DOMINGO</td>\n      <td>JUVENTUDE</td>\n      <td>FLAMENGO</td>\n      <td>-</td>\n      <td>ALFREDO JACONI</td>\n      <td>1.0</td>\n      <td>1.0</td>\n      <td>RS</td>\n      <td>RJ</td>\n      <td>-</td>\n      <td>1</td>\n      <td>1</td>\n      <td>0.0</td>\n    </tr>\n    <tr>\n      <th>...</th>\n      <td>...</td>\n      <td>...</td>\n      <td>...</td>\n      <td>...</td>\n      <td>...</td>\n      <td>...</td>\n      <td>...</td>\n      <td>...</td>\n      <td>...</td>\n      <td>...</td>\n      <td>...</td>\n      <td>...</td>\n      <td>...</td>\n      <td>...</td>\n      <td>...</td>\n      <td>...</td>\n      <td>...</td>\n    </tr>\n    <tr>\n      <th>8435</th>\n      <td>8436</td>\n      <td>12</td>\n      <td>2021-07-18</td>\n      <td>16:00</td>\n      <td>DOMINGO</td>\n      <td>ATLETICO-GO</td>\n      <td>PALMEIRAS</td>\n      <td>PALMEIRAS</td>\n      <td>ANTONIO ACCIOLY</td>\n      <td>0.0</td>\n      <td>3.0</td>\n      <td>GO</td>\n      <td>SP</td>\n      <td>SP</td>\n      <td>0</td>\n      <td>3</td>\n      <td>3.0</td>\n    </tr>\n    <tr>\n      <th>8436</th>\n      <td>8437</td>\n      <td>12</td>\n      <td>2021-07-18</td>\n      <td>18:15</td>\n      <td>DOMINGO</td>\n      <td>BAHIA</td>\n      <td>FLAMENGO</td>\n      <td>FLAMENGO</td>\n      <td>PITUACU</td>\n      <td>0.0</td>\n      <td>5.0</td>\n      <td>BA</td>\n      <td>RJ</td>\n      <td>RJ</td>\n      <td>0</td>\n      <td>3</td>\n      <td>5.0</td>\n    </tr>\n    <tr>\n      <th>8437</th>\n      <td>8438</td>\n      <td>12</td>\n      <td>2021-07-18</td>\n      <td>20:30</td>\n      <td>DOMINGO</td>\n      <td>INTERNACIONAL</td>\n      <td>JUVENTUDE</td>\n      <td>INTERNACIONAL</td>\n      <td>BEIRA-RIO</td>\n      <td>1.0</td>\n      <td>0.0</td>\n      <td>RS</td>\n      <td>RS</td>\n      <td>RS</td>\n      <td>3</td>\n      <td>0</td>\n      <td>1.0</td>\n    </tr>\n    <tr>\n      <th>8438</th>\n      <td>8439</td>\n      <td>12</td>\n      <td>2021-07-18</td>\n      <td>20:30</td>\n      <td>DOMINGO</td>\n      <td>BRAGANTINO</td>\n      <td>SANTOS</td>\n      <td>-</td>\n      <td>NABI ABI CHEDID</td>\n      <td>2.0</td>\n      <td>2.0</td>\n      <td>SP</td>\n      <td>SP</td>\n      <td>-</td>\n      <td>1</td>\n      <td>1</td>\n      <td>0.0</td>\n    </tr>\n    <tr>\n      <th>8439</th>\n      <td>8440</td>\n      <td>12</td>\n      <td>2021-07-19</td>\n      <td>20:00</td>\n      <td>SEGUNDA-FEIRA</td>\n      <td>AMERICA-MG</td>\n      <td>SPORT</td>\n      <td>SPORT</td>\n      <td>INDEPENDENCIA</td>\n      <td>0.0</td>\n      <td>1.0</td>\n      <td>MG</td>\n      <td>PE</td>\n      <td>PE</td>\n      <td>0</td>\n      <td>3</td>\n      <td>1.0</td>\n    </tr>\n  </tbody>\n</table>\n<p>8436 rows × 17 columns</p>\n</div>"
     },
     "execution_count": 81,
     "metadata": {},
     "output_type": "execute_result"
    }
   ],
   "source": [
    "df"
   ],
   "metadata": {
    "collapsed": false,
    "pycharm": {
     "name": "#%%\n"
    }
   }
  },
  {
   "cell_type": "code",
   "execution_count": 82,
   "outputs": [
    {
     "data": {
      "text/plain": "array(['FLUMINENSE', 'VASCO', 'VITORIA', 'BOTAFOGO-RJ', 'JUVENTUDE',\n       'GUARANI', 'CRUZEIRO', 'AMERICA-MG', 'GOIAS', 'CORITIBA', 'BAHIA',\n       'FLAMENGO', 'GAMA', 'INTERNACIONAL', 'PONTE PRETA', 'SANTOS',\n       'PALMEIRAS', 'ATHLETICO-PR', 'CORINTHIANS', 'ATLETICO-MG',\n       'PORTUGUESA', 'GREMIO', 'SAO PAULO', 'SANTA CRUZ', 'SPORT',\n       'PARANA', 'REMO', 'SAO CAETANO', 'MALUTROM', 'BOTAFOGO-SP',\n       'FIGUEIRENSE', 'PAYSANDU', 'FORTALEZA', 'CRICIUMA', 'BRASILIENSE',\n       'AMERICA-RN', 'NAUTICO', 'IPATINGA', 'AVAI', 'SANTO ANDRE',\n       'BARUERI', 'ATLETICO-GO', 'CEARA', 'GREMIO PRUDENTE',\n       'CHAPECOENSE', 'JOINVILLE', 'CSA', 'BRAGANTINO', 'CUIABA'],\n      dtype=object)"
     },
     "execution_count": 82,
     "metadata": {},
     "output_type": "execute_result"
    }
   ],
   "source": [
    "df['Mandante'].unique()"
   ],
   "metadata": {
    "collapsed": false,
    "pycharm": {
     "name": "#%%\n"
    }
   }
  }
 ],
 "metadata": {
  "kernelspec": {
   "display_name": "Python 3",
   "language": "python",
   "name": "python3"
  },
  "language_info": {
   "codemirror_mode": {
    "name": "ipython",
    "version": 2
   },
   "file_extension": ".py",
   "mimetype": "text/x-python",
   "name": "python",
   "nbconvert_exporter": "python",
   "pygments_lexer": "ipython2",
   "version": "2.7.6"
  }
 },
 "nbformat": 4,
 "nbformat_minor": 0
}