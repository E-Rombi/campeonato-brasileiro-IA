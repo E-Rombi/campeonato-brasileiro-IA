{
 "cells": [
  {
   "cell_type": "markdown",
   "source": [
    "## Importando Dataset - Campeonato Brasileiro"
   ],
   "metadata": {
    "collapsed": false
   }
  },
  {
   "cell_type": "code",
   "metadata": {
    "collapsed": true,
    "pycharm": {
     "name": "#%%\n"
    }
   },
   "source": [
    "import pandas as pd\n",
    "\n",
    "csv_path = '.\\dataset\\campeonato-brasileiro-full.csv'\n",
    "\n",
    "df = pd.read_csv(csv_path, delimiter=';')"
   ],
   "execution_count": 2,
   "outputs": []
  },
  {
   "cell_type": "markdown",
   "source": [
    "## Capturando informações gerais das colunas"
   ],
   "metadata": {
    "collapsed": false,
    "pycharm": {
     "name": "#%% md\n"
    }
   }
  },
  {
   "cell_type": "code",
   "source": [
    "df.info()"
   ],
   "metadata": {
    "collapsed": false,
    "pycharm": {
     "name": "#%%\n"
    }
   },
   "execution_count": 3,
   "outputs": [
    {
     "name": "stdout",
     "output_type": "stream",
     "text": [
      "<class 'pandas.core.frame.DataFrame'>\n",
      "RangeIndex: 8440 entries, 0 to 8439\n",
      "Data columns (total 14 columns):\n",
      " #   Column            Non-Null Count  Dtype  \n",
      "---  ------            --------------  -----  \n",
      " 0   ID                8440 non-null   int64  \n",
      " 1   Rodada            8440 non-null   object \n",
      " 2   Data              8436 non-null   object \n",
      " 3   Horário           8079 non-null   object \n",
      " 4   Dia               8436 non-null   object \n",
      " 5   Mandante          8440 non-null   object \n",
      " 6   Visitante         8440 non-null   object \n",
      " 7   Vencedor          8440 non-null   object \n",
      " 8   Arena             8436 non-null   object \n",
      " 9   Mandante Placar   8436 non-null   float64\n",
      " 10  Visitante Placar  8436 non-null   float64\n",
      " 11  Estado Mandante   8440 non-null   object \n",
      " 12  Estado Visitante  8440 non-null   object \n",
      " 13  Estado Vencedor   8440 non-null   object \n",
      "dtypes: float64(2), int64(1), object(11)\n",
      "memory usage: 923.2+ KB\n"
     ]
    }
   ]
  },
  {
   "cell_type": "markdown",
   "source": [
    "## Listando os 5 primeiros registros"
   ],
   "metadata": {
    "collapsed": false,
    "pycharm": {
     "name": "#%% md\n"
    }
   }
  },
  {
   "cell_type": "code",
   "execution_count": 4,
   "outputs": [
    {
     "data": {
      "text/plain": "   ID Rodada        Data Horário           Dia     Mandante     Visitante  \\\n0   1      1  2000-07-29   16h00        Sábado   Fluminense         Bahia   \n1   2      1  2000-07-29   16h00        Sábado        Vasco         Sport   \n2   3      1  2000-07-29   16h00        Sábado      Vitória     Palmeiras   \n3   4      1  2000-07-30   17h00       Domingo  Botafogo-RJ   Atlético-MG   \n4   5      1  2000-07-30   18h30       Domingo    Juventude      Flamengo   \n5   6      1  2000-07-30   16h00       Domingo      Guarani    Santa Cruz   \n6   7      1  2000-07-30   17h00       Domingo     Cruzeiro  Athlético-PR   \n7   8      1  2000-07-30   16h00       Domingo   América-MG          Gama   \n8   9      1  2000-07-30   18h30       Domingo        Goiás   Corinthians   \n9  10      2  2000-08-02   20h30  Quarta-feira     Coritiba         Sport   \n\n       Vencedor           Arena  Mandante Placar  Visitante Placar  \\\n0    Fluminense        Maracanã              2.0               0.0   \n1         Sport    São Januário              0.0               2.0   \n2       Vitória        Barradão              4.0               1.0   \n3             -    Caio Martins              0.0               0.0   \n4             -  Alfredo Jaconi              1.0               1.0   \n5             -  Brinco de Ouro              0.0               0.0   \n6  Athlético-PR        Mineirão              0.0               2.0   \n7          Gama   Independência              0.0               1.0   \n8         Goiás   Serra Dourada              3.0               0.0   \n9             -   Couto Pereira              0.0               0.0   \n\n  Estado Mandante Estado Visitante Estado Vencedor  \n0              RJ               BA              RJ  \n1              RJ               PE              PE  \n2              ES               SP              ES  \n3              RJ               MG               -  \n4              RS               RJ               -  \n5              SP               PE               -  \n6              MG               PR              PR  \n7              MG               DF              DF  \n8              GO               SP              GO  \n9              PR               PE               -  ",
      "text/html": "<div>\n<style scoped>\n    .dataframe tbody tr th:only-of-type {\n        vertical-align: middle;\n    }\n\n    .dataframe tbody tr th {\n        vertical-align: top;\n    }\n\n    .dataframe thead th {\n        text-align: right;\n    }\n</style>\n<table border=\"1\" class=\"dataframe\">\n  <thead>\n    <tr style=\"text-align: right;\">\n      <th></th>\n      <th>ID</th>\n      <th>Rodada</th>\n      <th>Data</th>\n      <th>Horário</th>\n      <th>Dia</th>\n      <th>Mandante</th>\n      <th>Visitante</th>\n      <th>Vencedor</th>\n      <th>Arena</th>\n      <th>Mandante Placar</th>\n      <th>Visitante Placar</th>\n      <th>Estado Mandante</th>\n      <th>Estado Visitante</th>\n      <th>Estado Vencedor</th>\n    </tr>\n  </thead>\n  <tbody>\n    <tr>\n      <th>0</th>\n      <td>1</td>\n      <td>1</td>\n      <td>2000-07-29</td>\n      <td>16h00</td>\n      <td>Sábado</td>\n      <td>Fluminense</td>\n      <td>Bahia</td>\n      <td>Fluminense</td>\n      <td>Maracanã</td>\n      <td>2.0</td>\n      <td>0.0</td>\n      <td>RJ</td>\n      <td>BA</td>\n      <td>RJ</td>\n    </tr>\n    <tr>\n      <th>1</th>\n      <td>2</td>\n      <td>1</td>\n      <td>2000-07-29</td>\n      <td>16h00</td>\n      <td>Sábado</td>\n      <td>Vasco</td>\n      <td>Sport</td>\n      <td>Sport</td>\n      <td>São Januário</td>\n      <td>0.0</td>\n      <td>2.0</td>\n      <td>RJ</td>\n      <td>PE</td>\n      <td>PE</td>\n    </tr>\n    <tr>\n      <th>2</th>\n      <td>3</td>\n      <td>1</td>\n      <td>2000-07-29</td>\n      <td>16h00</td>\n      <td>Sábado</td>\n      <td>Vitória</td>\n      <td>Palmeiras</td>\n      <td>Vitória</td>\n      <td>Barradão</td>\n      <td>4.0</td>\n      <td>1.0</td>\n      <td>ES</td>\n      <td>SP</td>\n      <td>ES</td>\n    </tr>\n    <tr>\n      <th>3</th>\n      <td>4</td>\n      <td>1</td>\n      <td>2000-07-30</td>\n      <td>17h00</td>\n      <td>Domingo</td>\n      <td>Botafogo-RJ</td>\n      <td>Atlético-MG</td>\n      <td>-</td>\n      <td>Caio Martins</td>\n      <td>0.0</td>\n      <td>0.0</td>\n      <td>RJ</td>\n      <td>MG</td>\n      <td>-</td>\n    </tr>\n    <tr>\n      <th>4</th>\n      <td>5</td>\n      <td>1</td>\n      <td>2000-07-30</td>\n      <td>18h30</td>\n      <td>Domingo</td>\n      <td>Juventude</td>\n      <td>Flamengo</td>\n      <td>-</td>\n      <td>Alfredo Jaconi</td>\n      <td>1.0</td>\n      <td>1.0</td>\n      <td>RS</td>\n      <td>RJ</td>\n      <td>-</td>\n    </tr>\n    <tr>\n      <th>5</th>\n      <td>6</td>\n      <td>1</td>\n      <td>2000-07-30</td>\n      <td>16h00</td>\n      <td>Domingo</td>\n      <td>Guarani</td>\n      <td>Santa Cruz</td>\n      <td>-</td>\n      <td>Brinco de Ouro</td>\n      <td>0.0</td>\n      <td>0.0</td>\n      <td>SP</td>\n      <td>PE</td>\n      <td>-</td>\n    </tr>\n    <tr>\n      <th>6</th>\n      <td>7</td>\n      <td>1</td>\n      <td>2000-07-30</td>\n      <td>17h00</td>\n      <td>Domingo</td>\n      <td>Cruzeiro</td>\n      <td>Athlético-PR</td>\n      <td>Athlético-PR</td>\n      <td>Mineirão</td>\n      <td>0.0</td>\n      <td>2.0</td>\n      <td>MG</td>\n      <td>PR</td>\n      <td>PR</td>\n    </tr>\n    <tr>\n      <th>7</th>\n      <td>8</td>\n      <td>1</td>\n      <td>2000-07-30</td>\n      <td>16h00</td>\n      <td>Domingo</td>\n      <td>América-MG</td>\n      <td>Gama</td>\n      <td>Gama</td>\n      <td>Independência</td>\n      <td>0.0</td>\n      <td>1.0</td>\n      <td>MG</td>\n      <td>DF</td>\n      <td>DF</td>\n    </tr>\n    <tr>\n      <th>8</th>\n      <td>9</td>\n      <td>1</td>\n      <td>2000-07-30</td>\n      <td>18h30</td>\n      <td>Domingo</td>\n      <td>Goiás</td>\n      <td>Corinthians</td>\n      <td>Goiás</td>\n      <td>Serra Dourada</td>\n      <td>3.0</td>\n      <td>0.0</td>\n      <td>GO</td>\n      <td>SP</td>\n      <td>GO</td>\n    </tr>\n    <tr>\n      <th>9</th>\n      <td>10</td>\n      <td>2</td>\n      <td>2000-08-02</td>\n      <td>20h30</td>\n      <td>Quarta-feira</td>\n      <td>Coritiba</td>\n      <td>Sport</td>\n      <td>-</td>\n      <td>Couto Pereira</td>\n      <td>0.0</td>\n      <td>0.0</td>\n      <td>PR</td>\n      <td>PE</td>\n      <td>-</td>\n    </tr>\n  </tbody>\n</table>\n</div>"
     },
     "execution_count": 4,
     "metadata": {},
     "output_type": "execute_result"
    }
   ],
   "source": [
    "df.head(10)"
   ],
   "metadata": {
    "collapsed": false,
    "pycharm": {
     "name": "#%%\n"
    }
   }
  },
  {
   "cell_type": "markdown",
   "source": [
    "## Ordenando o Dataset pelo Mandante da partida"
   ],
   "metadata": {
    "collapsed": false,
    "pycharm": {
     "name": "#%% md\n"
    }
   }
  },
  {
   "cell_type": "code",
   "execution_count": 4,
   "outputs": [
    {
     "data": {
      "text/plain": "        ID Rodada        Data Horário           Dia    Mandante     Visitante  \\\n7289  7290     12  2018-06-13   16:00  Quarta-feira  América-MG   Chapecoense   \n4882  4883     37  2011-11-27   17h00       Domingo  América-MG  Athlético-PR   \n58      59      8  2000-08-19   15h45        Sábado  América-MG    Fluminense   \n583    584     19  2001-10-20   16h00        Sábado  América-MG   Botafogo-SP   \n7275  7276     10  2018-06-07   21:00  Quinta-feira  América-MG   Atlético-MG   \n...    ...    ...         ...     ...           ...         ...           ...   \n8406  8407      9  2021-07-04   18:15       Domingo   são paulo    bragantino   \n8371  8372      6  2021-06-23   19:00  Quarta-Feira   são paulo        cuiabá   \n8423  8424     11  2021-07-10   19:00        Sabado   são paulo         bahia   \n8321  8322      1  2021-05-29   21:00        Sabado   são paulo    fluminense   \n8430  8431     12  2021-07-17   17:00        Sabado   são paulo     fortaleza   \n\n         Vencedor            Arena  Mandante Placar  Visitante Placar  \\\n7289            -    Independência              0.0               0.0   \n4882   América-MG  Parque do Sabiá              2.0               1.0   \n58              -    Independência              1.0               1.0   \n583             -         Mineirão              2.0               2.0   \n7275  Atlético-MG    Independência              1.0               3.0   \n...           ...              ...              ...               ...   \n8406   bragantino          Morumbi              1.0               2.0   \n8371            -          Morumbi              2.0               2.0   \n8423    são paulo          Morumbi              1.0               0.0   \n8321            -          Morumbi              0.0               0.0   \n8430    fortaleza          Morumbi              0.0               1.0   \n\n     Estado Mandante Estado Visitante Estado Vencedor  \n7289              MG               SC               -  \n4882              MG               PR              MG  \n58                MG               RJ               -  \n583               MG               SP               -  \n7275              MG               MG              MG  \n...              ...              ...             ...  \n8406              SP               SP              SP  \n8371              SP               MT               -  \n8423              SP               BA              SP  \n8321              SP               RJ               -  \n8430              SP               CE              CE  \n\n[8440 rows x 14 columns]",
      "text/html": "<div>\n<style scoped>\n    .dataframe tbody tr th:only-of-type {\n        vertical-align: middle;\n    }\n\n    .dataframe tbody tr th {\n        vertical-align: top;\n    }\n\n    .dataframe thead th {\n        text-align: right;\n    }\n</style>\n<table border=\"1\" class=\"dataframe\">\n  <thead>\n    <tr style=\"text-align: right;\">\n      <th></th>\n      <th>ID</th>\n      <th>Rodada</th>\n      <th>Data</th>\n      <th>Horário</th>\n      <th>Dia</th>\n      <th>Mandante</th>\n      <th>Visitante</th>\n      <th>Vencedor</th>\n      <th>Arena</th>\n      <th>Mandante Placar</th>\n      <th>Visitante Placar</th>\n      <th>Estado Mandante</th>\n      <th>Estado Visitante</th>\n      <th>Estado Vencedor</th>\n    </tr>\n  </thead>\n  <tbody>\n    <tr>\n      <th>7289</th>\n      <td>7290</td>\n      <td>12</td>\n      <td>2018-06-13</td>\n      <td>16:00</td>\n      <td>Quarta-feira</td>\n      <td>América-MG</td>\n      <td>Chapecoense</td>\n      <td>-</td>\n      <td>Independência</td>\n      <td>0.0</td>\n      <td>0.0</td>\n      <td>MG</td>\n      <td>SC</td>\n      <td>-</td>\n    </tr>\n    <tr>\n      <th>4882</th>\n      <td>4883</td>\n      <td>37</td>\n      <td>2011-11-27</td>\n      <td>17h00</td>\n      <td>Domingo</td>\n      <td>América-MG</td>\n      <td>Athlético-PR</td>\n      <td>América-MG</td>\n      <td>Parque do Sabiá</td>\n      <td>2.0</td>\n      <td>1.0</td>\n      <td>MG</td>\n      <td>PR</td>\n      <td>MG</td>\n    </tr>\n    <tr>\n      <th>58</th>\n      <td>59</td>\n      <td>8</td>\n      <td>2000-08-19</td>\n      <td>15h45</td>\n      <td>Sábado</td>\n      <td>América-MG</td>\n      <td>Fluminense</td>\n      <td>-</td>\n      <td>Independência</td>\n      <td>1.0</td>\n      <td>1.0</td>\n      <td>MG</td>\n      <td>RJ</td>\n      <td>-</td>\n    </tr>\n    <tr>\n      <th>583</th>\n      <td>584</td>\n      <td>19</td>\n      <td>2001-10-20</td>\n      <td>16h00</td>\n      <td>Sábado</td>\n      <td>América-MG</td>\n      <td>Botafogo-SP</td>\n      <td>-</td>\n      <td>Mineirão</td>\n      <td>2.0</td>\n      <td>2.0</td>\n      <td>MG</td>\n      <td>SP</td>\n      <td>-</td>\n    </tr>\n    <tr>\n      <th>7275</th>\n      <td>7276</td>\n      <td>10</td>\n      <td>2018-06-07</td>\n      <td>21:00</td>\n      <td>Quinta-feira</td>\n      <td>América-MG</td>\n      <td>Atlético-MG</td>\n      <td>Atlético-MG</td>\n      <td>Independência</td>\n      <td>1.0</td>\n      <td>3.0</td>\n      <td>MG</td>\n      <td>MG</td>\n      <td>MG</td>\n    </tr>\n    <tr>\n      <th>...</th>\n      <td>...</td>\n      <td>...</td>\n      <td>...</td>\n      <td>...</td>\n      <td>...</td>\n      <td>...</td>\n      <td>...</td>\n      <td>...</td>\n      <td>...</td>\n      <td>...</td>\n      <td>...</td>\n      <td>...</td>\n      <td>...</td>\n      <td>...</td>\n    </tr>\n    <tr>\n      <th>8406</th>\n      <td>8407</td>\n      <td>9</td>\n      <td>2021-07-04</td>\n      <td>18:15</td>\n      <td>Domingo</td>\n      <td>são paulo</td>\n      <td>bragantino</td>\n      <td>bragantino</td>\n      <td>Morumbi</td>\n      <td>1.0</td>\n      <td>2.0</td>\n      <td>SP</td>\n      <td>SP</td>\n      <td>SP</td>\n    </tr>\n    <tr>\n      <th>8371</th>\n      <td>8372</td>\n      <td>6</td>\n      <td>2021-06-23</td>\n      <td>19:00</td>\n      <td>Quarta-Feira</td>\n      <td>são paulo</td>\n      <td>cuiabá</td>\n      <td>-</td>\n      <td>Morumbi</td>\n      <td>2.0</td>\n      <td>2.0</td>\n      <td>SP</td>\n      <td>MT</td>\n      <td>-</td>\n    </tr>\n    <tr>\n      <th>8423</th>\n      <td>8424</td>\n      <td>11</td>\n      <td>2021-07-10</td>\n      <td>19:00</td>\n      <td>Sabado</td>\n      <td>são paulo</td>\n      <td>bahia</td>\n      <td>são paulo</td>\n      <td>Morumbi</td>\n      <td>1.0</td>\n      <td>0.0</td>\n      <td>SP</td>\n      <td>BA</td>\n      <td>SP</td>\n    </tr>\n    <tr>\n      <th>8321</th>\n      <td>8322</td>\n      <td>1</td>\n      <td>2021-05-29</td>\n      <td>21:00</td>\n      <td>Sabado</td>\n      <td>são paulo</td>\n      <td>fluminense</td>\n      <td>-</td>\n      <td>Morumbi</td>\n      <td>0.0</td>\n      <td>0.0</td>\n      <td>SP</td>\n      <td>RJ</td>\n      <td>-</td>\n    </tr>\n    <tr>\n      <th>8430</th>\n      <td>8431</td>\n      <td>12</td>\n      <td>2021-07-17</td>\n      <td>17:00</td>\n      <td>Sabado</td>\n      <td>são paulo</td>\n      <td>fortaleza</td>\n      <td>fortaleza</td>\n      <td>Morumbi</td>\n      <td>0.0</td>\n      <td>1.0</td>\n      <td>SP</td>\n      <td>CE</td>\n      <td>CE</td>\n    </tr>\n  </tbody>\n</table>\n<p>8440 rows × 14 columns</p>\n</div>"
     },
     "execution_count": 4,
     "metadata": {},
     "output_type": "execute_result"
    }
   ],
   "source": [
    "df.sort_values(by=\"Mandante\")"
   ],
   "metadata": {
    "collapsed": false,
    "pycharm": {
     "name": "#%%\n"
    }
   }
  },
  {
   "cell_type": "markdown",
   "source": [
    "## Tratando dados inválidos"
   ],
   "metadata": {
    "collapsed": false,
    "pycharm": {
     "name": "#%% md\n"
    }
   }
  },
  {
   "cell_type": "code",
   "execution_count": 5,
   "outputs": [],
   "source": [
    "# Implementar"
   ],
   "metadata": {
    "collapsed": false,
    "pycharm": {
     "name": "#%%\n"
    }
   }
  },
  {
   "cell_type": "markdown",
   "source": [
    "## Exibir as 5 maiores contagens de valores únicos de uma única coluna"
   ],
   "metadata": {
    "collapsed": false,
    "pycharm": {
     "name": "#%% md\n"
    }
   }
  },
  {
   "cell_type": "code",
   "execution_count": 6,
   "outputs": [],
   "source": [
    "# Implementar"
   ],
   "metadata": {
    "collapsed": false,
    "pycharm": {
     "name": "#%%\n"
    }
   }
  },
  {
   "cell_type": "markdown",
   "source": [
    "## Exiba, no mínimo, três plots. Se possível, use um para variáveis quantitativa e outro para variáveis de qualitativas"
   ],
   "metadata": {
    "collapsed": false,
    "pycharm": {
     "name": "#%% md\n"
    }
   }
  },
  {
   "cell_type": "code",
   "execution_count": 7,
   "outputs": [],
   "source": [
    "# Implementar"
   ],
   "metadata": {
    "collapsed": false,
    "pycharm": {
     "name": "#%%\n"
    }
   }
  },
  {
   "cell_type": "markdown",
   "source": [
    "## Implemente pelo menos um filtro"
   ],
   "metadata": {
    "collapsed": false,
    "pycharm": {
     "name": "#%% md\n"
    }
   }
  },
  {
   "cell_type": "code",
   "execution_count": 8,
   "outputs": [],
   "source": [
    "# Implementar"
   ],
   "metadata": {
    "collapsed": false,
    "pycharm": {
     "name": "#%%\n"
    }
   }
  },
  {
   "cell_type": "markdown",
   "source": [
    "## Utilize, no mínimo, uma função agregada com agrupamento"
   ],
   "metadata": {
    "collapsed": false,
    "pycharm": {
     "name": "#%% md\n"
    }
   }
  },
  {
   "cell_type": "code",
   "execution_count": 9,
   "outputs": [],
   "source": [
    "# Implementar"
   ],
   "metadata": {
    "collapsed": false,
    "pycharm": {
     "name": "#%%\n"
    }
   }
  }
 ],
 "metadata": {
  "kernelspec": {
   "display_name": "Python 3",
   "language": "python",
   "name": "python3"
  },
  "language_info": {
   "codemirror_mode": {
    "name": "ipython",
    "version": 2
   },
   "file_extension": ".py",
   "mimetype": "text/x-python",
   "name": "python",
   "nbconvert_exporter": "python",
   "pygments_lexer": "ipython2",
   "version": "2.7.6"
  }
 },
 "nbformat": 4,
 "nbformat_minor": 0
}