{
 "cells": [
  {
   "cell_type": "markdown",
   "source": [
    "## Importando Dataset - Campeonato Brasileiro"
   ],
   "metadata": {
    "collapsed": false
   }
  },
  {
   "cell_type": "code",
   "metadata": {
    "collapsed": true,
    "pycharm": {
     "name": "#%%\n"
    }
   },
   "source": [
    "import pandas as pd\n",
    "import numpy as np\n",
    "\n",
    "csv_path = '.\\dataset\\campeonato-brasileiro-full.csv'\n",
    "\n",
    "df = pd.read_csv(csv_path, delimiter=';')"
   ],
   "execution_count": 22,
   "outputs": []
  },
  {
   "cell_type": "markdown",
   "source": [
    "## Capturando informações gerais das colunas"
   ],
   "metadata": {
    "collapsed": false,
    "pycharm": {
     "name": "#%% md\n"
    }
   }
  },
  {
   "cell_type": "code",
   "source": [
    "df.info()"
   ],
   "metadata": {
    "collapsed": false,
    "pycharm": {
     "name": "#%%\n"
    }
   },
   "execution_count": 23,
   "outputs": [
    {
     "name": "stdout",
     "output_type": "stream",
     "text": [
      "<class 'pandas.core.frame.DataFrame'>\n",
      "RangeIndex: 8440 entries, 0 to 8439\n",
      "Data columns (total 14 columns):\n",
      " #   Column            Non-Null Count  Dtype  \n",
      "---  ------            --------------  -----  \n",
      " 0   ID                8440 non-null   int64  \n",
      " 1   Rodada            8440 non-null   object \n",
      " 2   Data              8436 non-null   object \n",
      " 3   Horário           8079 non-null   object \n",
      " 4   Dia               8436 non-null   object \n",
      " 5   Mandante          8440 non-null   object \n",
      " 6   Visitante         8440 non-null   object \n",
      " 7   Vencedor          8440 non-null   object \n",
      " 8   Arena             8436 non-null   object \n",
      " 9   Mandante Placar   8436 non-null   float64\n",
      " 10  Visitante Placar  8436 non-null   float64\n",
      " 11  Estado Mandante   8440 non-null   object \n",
      " 12  Estado Visitante  8440 non-null   object \n",
      " 13  Estado Vencedor   8440 non-null   object \n",
      "dtypes: float64(2), int64(1), object(11)\n",
      "memory usage: 923.2+ KB\n"
     ]
    }
   ]
  },
  {
   "cell_type": "markdown",
   "source": [
    "## Listando os 5 primeiros registros"
   ],
   "metadata": {
    "collapsed": false,
    "pycharm": {
     "name": "#%% md\n"
    }
   }
  },
  {
   "cell_type": "code",
   "execution_count": 41,
   "outputs": [
    {
     "data": {
      "text/plain": "   ID Rodada        Data Horário      Dia     Mandante    Visitante  \\\n0   1      1  2000-07-29   16h00   SABADO   FLUMINENSE        BAHIA   \n1   2      1  2000-07-29   16h00   SABADO        VASCO        SPORT   \n2   3      1  2000-07-29   16h00   SABADO      VITORIA    PALMEIRAS   \n3   4      1  2000-07-30   17h00  DOMINGO  BOTAFOGO-RJ  ATLETICO-MG   \n4   5      1  2000-07-30   18h30  DOMINGO    JUVENTUDE     FLAMENGO   \n\n     Vencedor           Arena  Mandante Placar  Visitante Placar  \\\n0  FLUMINENSE        MARACANA              2.0               0.0   \n1       SPORT    SAO JANUARIO              0.0               2.0   \n2     VITORIA        BARRADAO              4.0               1.0   \n3           -    CAIO MARTINS              0.0               0.0   \n4           -  ALFREDO JACONI              1.0               1.0   \n\n  Estado Mandante Estado Visitante Estado Vencedor  Pontos Mandante  \\\n0              RJ               BA              RJ                3   \n1              RJ               PE              PE                0   \n2              ES               SP              ES                3   \n3              RJ               MG               -                1   \n4              RS               RJ               -                1   \n\n   Pontos Visitante  Diferenca Gols  \n0                 0             2.0  \n1                 3             2.0  \n2                 0             3.0  \n3                 1             0.0  \n4                 1             0.0  ",
      "text/html": "<div>\n<style scoped>\n    .dataframe tbody tr th:only-of-type {\n        vertical-align: middle;\n    }\n\n    .dataframe tbody tr th {\n        vertical-align: top;\n    }\n\n    .dataframe thead th {\n        text-align: right;\n    }\n</style>\n<table border=\"1\" class=\"dataframe\">\n  <thead>\n    <tr style=\"text-align: right;\">\n      <th></th>\n      <th>ID</th>\n      <th>Rodada</th>\n      <th>Data</th>\n      <th>Horário</th>\n      <th>Dia</th>\n      <th>Mandante</th>\n      <th>Visitante</th>\n      <th>Vencedor</th>\n      <th>Arena</th>\n      <th>Mandante Placar</th>\n      <th>Visitante Placar</th>\n      <th>Estado Mandante</th>\n      <th>Estado Visitante</th>\n      <th>Estado Vencedor</th>\n      <th>Pontos Mandante</th>\n      <th>Pontos Visitante</th>\n      <th>Diferenca Gols</th>\n    </tr>\n  </thead>\n  <tbody>\n    <tr>\n      <th>0</th>\n      <td>1</td>\n      <td>1</td>\n      <td>2000-07-29</td>\n      <td>16h00</td>\n      <td>SABADO</td>\n      <td>FLUMINENSE</td>\n      <td>BAHIA</td>\n      <td>FLUMINENSE</td>\n      <td>MARACANA</td>\n      <td>2.0</td>\n      <td>0.0</td>\n      <td>RJ</td>\n      <td>BA</td>\n      <td>RJ</td>\n      <td>3</td>\n      <td>0</td>\n      <td>2.0</td>\n    </tr>\n    <tr>\n      <th>1</th>\n      <td>2</td>\n      <td>1</td>\n      <td>2000-07-29</td>\n      <td>16h00</td>\n      <td>SABADO</td>\n      <td>VASCO</td>\n      <td>SPORT</td>\n      <td>SPORT</td>\n      <td>SAO JANUARIO</td>\n      <td>0.0</td>\n      <td>2.0</td>\n      <td>RJ</td>\n      <td>PE</td>\n      <td>PE</td>\n      <td>0</td>\n      <td>3</td>\n      <td>2.0</td>\n    </tr>\n    <tr>\n      <th>2</th>\n      <td>3</td>\n      <td>1</td>\n      <td>2000-07-29</td>\n      <td>16h00</td>\n      <td>SABADO</td>\n      <td>VITORIA</td>\n      <td>PALMEIRAS</td>\n      <td>VITORIA</td>\n      <td>BARRADAO</td>\n      <td>4.0</td>\n      <td>1.0</td>\n      <td>ES</td>\n      <td>SP</td>\n      <td>ES</td>\n      <td>3</td>\n      <td>0</td>\n      <td>3.0</td>\n    </tr>\n    <tr>\n      <th>3</th>\n      <td>4</td>\n      <td>1</td>\n      <td>2000-07-30</td>\n      <td>17h00</td>\n      <td>DOMINGO</td>\n      <td>BOTAFOGO-RJ</td>\n      <td>ATLETICO-MG</td>\n      <td>-</td>\n      <td>CAIO MARTINS</td>\n      <td>0.0</td>\n      <td>0.0</td>\n      <td>RJ</td>\n      <td>MG</td>\n      <td>-</td>\n      <td>1</td>\n      <td>1</td>\n      <td>0.0</td>\n    </tr>\n    <tr>\n      <th>4</th>\n      <td>5</td>\n      <td>1</td>\n      <td>2000-07-30</td>\n      <td>18h30</td>\n      <td>DOMINGO</td>\n      <td>JUVENTUDE</td>\n      <td>FLAMENGO</td>\n      <td>-</td>\n      <td>ALFREDO JACONI</td>\n      <td>1.0</td>\n      <td>1.0</td>\n      <td>RS</td>\n      <td>RJ</td>\n      <td>-</td>\n      <td>1</td>\n      <td>1</td>\n      <td>0.0</td>\n    </tr>\n  </tbody>\n</table>\n</div>"
     },
     "execution_count": 41,
     "metadata": {},
     "output_type": "execute_result"
    }
   ],
   "source": [
    "df.head(5)"
   ],
   "metadata": {
    "collapsed": false,
    "pycharm": {
     "name": "#%%\n"
    }
   }
  },
  {
   "cell_type": "markdown",
   "source": [
    "## Tratando dados inválidos"
   ],
   "metadata": {
    "collapsed": false
   }
  },
  {
   "cell_type": "code",
   "execution_count": 25,
   "outputs": [],
   "source": [
    "from unicodedata import normalize\n",
    "\n",
    "def trataString(value):\n",
    "    return normalize('NFKD', str(value)).encode('ASCII', 'ignore').decode('ASCII').upper()\n",
    "\n",
    "df['Mandante'] = df['Mandante'].apply(trataString)\n",
    "df['Visitante'] = df['Visitante'].apply(trataString)\n",
    "df['Dia'] = df['Dia'].apply(trataString)\n",
    "df['Vencedor'] = df['Vencedor'].apply(trataString)\n",
    "df['Arena'] = df['Arena'].apply(trataString)\n"
   ],
   "metadata": {
    "collapsed": false,
    "pycharm": {
     "name": "#%%\n"
    }
   }
  },
  {
   "cell_type": "markdown",
   "source": [
    "## Ordenando o Dataset pelo Mandante da partida"
   ],
   "metadata": {
    "collapsed": false,
    "pycharm": {
     "name": "#%% md\n"
    }
   }
  },
  {
   "cell_type": "code",
   "execution_count": 40,
   "outputs": [
    {
     "data": {
      "text/plain": "              Times  Pontos\n0            SANTOS     800\n1         SAO PAULO     799\n2            GREMIO     759\n3      ATHLETICO-PR     756\n4     INTERNACIONAL     742\n5          FLAMENGO     725\n6       ATLETICO-MG     711\n7          CRUZEIRO     706\n8        FLUMINENSE     705\n9       CORINTHIANS     701\n10        PALMEIRAS     670\n11      BOTAFOGO-RJ     571\n12            VASCO     569\n13            GOIAS     527\n14         CORITIBA     507\n15          VITORIA     394\n16            SPORT     375\n17      PONTE PRETA     373\n18      FIGUEIRENSE     371\n19            BAHIA     357\n20           PARANA     257\n21        JUVENTUDE     255\n22      SAO CAETANO     226\n23      CHAPECOENSE     177\n24        FORTALEZA     177\n25          GUARANI     164\n26       PORTUGUESA     163\n27            CEARA     160\n28             AVAI     152\n29         PAYSANDU     146\n30          NAUTICO     145\n31         CRICIUMA     138\n32      ATLETICO-GO     127\n33       AMERICA-MG     123\n34       SANTA CRUZ      73\n35             GAMA      54\n36       BRAGANTINO      43\n37          BARUERI      37\n38         IPATINGA      30\n39      SANTO ANDRE      29\n40      BRASILIENSE      25\n41        JOINVILLE      25\n42              CSA      23\n43  GREMIO PRUDENTE      20\n44      BOTAFOGO-SP      12\n45       AMERICA-RN       9\n46           CUIABA       5\n47             REMO       0\n48         MALUTROM       0",
      "text/html": "<div>\n<style scoped>\n    .dataframe tbody tr th:only-of-type {\n        vertical-align: middle;\n    }\n\n    .dataframe tbody tr th {\n        vertical-align: top;\n    }\n\n    .dataframe thead th {\n        text-align: right;\n    }\n</style>\n<table border=\"1\" class=\"dataframe\">\n  <thead>\n    <tr style=\"text-align: right;\">\n      <th></th>\n      <th>Times</th>\n      <th>Pontos</th>\n    </tr>\n  </thead>\n  <tbody>\n    <tr>\n      <th>0</th>\n      <td>SANTOS</td>\n      <td>800</td>\n    </tr>\n    <tr>\n      <th>1</th>\n      <td>SAO PAULO</td>\n      <td>799</td>\n    </tr>\n    <tr>\n      <th>2</th>\n      <td>GREMIO</td>\n      <td>759</td>\n    </tr>\n    <tr>\n      <th>3</th>\n      <td>ATHLETICO-PR</td>\n      <td>756</td>\n    </tr>\n    <tr>\n      <th>4</th>\n      <td>INTERNACIONAL</td>\n      <td>742</td>\n    </tr>\n    <tr>\n      <th>5</th>\n      <td>FLAMENGO</td>\n      <td>725</td>\n    </tr>\n    <tr>\n      <th>6</th>\n      <td>ATLETICO-MG</td>\n      <td>711</td>\n    </tr>\n    <tr>\n      <th>7</th>\n      <td>CRUZEIRO</td>\n      <td>706</td>\n    </tr>\n    <tr>\n      <th>8</th>\n      <td>FLUMINENSE</td>\n      <td>705</td>\n    </tr>\n    <tr>\n      <th>9</th>\n      <td>CORINTHIANS</td>\n      <td>701</td>\n    </tr>\n    <tr>\n      <th>10</th>\n      <td>PALMEIRAS</td>\n      <td>670</td>\n    </tr>\n    <tr>\n      <th>11</th>\n      <td>BOTAFOGO-RJ</td>\n      <td>571</td>\n    </tr>\n    <tr>\n      <th>12</th>\n      <td>VASCO</td>\n      <td>569</td>\n    </tr>\n    <tr>\n      <th>13</th>\n      <td>GOIAS</td>\n      <td>527</td>\n    </tr>\n    <tr>\n      <th>14</th>\n      <td>CORITIBA</td>\n      <td>507</td>\n    </tr>\n    <tr>\n      <th>15</th>\n      <td>VITORIA</td>\n      <td>394</td>\n    </tr>\n    <tr>\n      <th>16</th>\n      <td>SPORT</td>\n      <td>375</td>\n    </tr>\n    <tr>\n      <th>17</th>\n      <td>PONTE PRETA</td>\n      <td>373</td>\n    </tr>\n    <tr>\n      <th>18</th>\n      <td>FIGUEIRENSE</td>\n      <td>371</td>\n    </tr>\n    <tr>\n      <th>19</th>\n      <td>BAHIA</td>\n      <td>357</td>\n    </tr>\n    <tr>\n      <th>20</th>\n      <td>PARANA</td>\n      <td>257</td>\n    </tr>\n    <tr>\n      <th>21</th>\n      <td>JUVENTUDE</td>\n      <td>255</td>\n    </tr>\n    <tr>\n      <th>22</th>\n      <td>SAO CAETANO</td>\n      <td>226</td>\n    </tr>\n    <tr>\n      <th>23</th>\n      <td>CHAPECOENSE</td>\n      <td>177</td>\n    </tr>\n    <tr>\n      <th>24</th>\n      <td>FORTALEZA</td>\n      <td>177</td>\n    </tr>\n    <tr>\n      <th>25</th>\n      <td>GUARANI</td>\n      <td>164</td>\n    </tr>\n    <tr>\n      <th>26</th>\n      <td>PORTUGUESA</td>\n      <td>163</td>\n    </tr>\n    <tr>\n      <th>27</th>\n      <td>CEARA</td>\n      <td>160</td>\n    </tr>\n    <tr>\n      <th>28</th>\n      <td>AVAI</td>\n      <td>152</td>\n    </tr>\n    <tr>\n      <th>29</th>\n      <td>PAYSANDU</td>\n      <td>146</td>\n    </tr>\n    <tr>\n      <th>30</th>\n      <td>NAUTICO</td>\n      <td>145</td>\n    </tr>\n    <tr>\n      <th>31</th>\n      <td>CRICIUMA</td>\n      <td>138</td>\n    </tr>\n    <tr>\n      <th>32</th>\n      <td>ATLETICO-GO</td>\n      <td>127</td>\n    </tr>\n    <tr>\n      <th>33</th>\n      <td>AMERICA-MG</td>\n      <td>123</td>\n    </tr>\n    <tr>\n      <th>34</th>\n      <td>SANTA CRUZ</td>\n      <td>73</td>\n    </tr>\n    <tr>\n      <th>35</th>\n      <td>GAMA</td>\n      <td>54</td>\n    </tr>\n    <tr>\n      <th>36</th>\n      <td>BRAGANTINO</td>\n      <td>43</td>\n    </tr>\n    <tr>\n      <th>37</th>\n      <td>BARUERI</td>\n      <td>37</td>\n    </tr>\n    <tr>\n      <th>38</th>\n      <td>IPATINGA</td>\n      <td>30</td>\n    </tr>\n    <tr>\n      <th>39</th>\n      <td>SANTO ANDRE</td>\n      <td>29</td>\n    </tr>\n    <tr>\n      <th>40</th>\n      <td>BRASILIENSE</td>\n      <td>25</td>\n    </tr>\n    <tr>\n      <th>41</th>\n      <td>JOINVILLE</td>\n      <td>25</td>\n    </tr>\n    <tr>\n      <th>42</th>\n      <td>CSA</td>\n      <td>23</td>\n    </tr>\n    <tr>\n      <th>43</th>\n      <td>GREMIO PRUDENTE</td>\n      <td>20</td>\n    </tr>\n    <tr>\n      <th>44</th>\n      <td>BOTAFOGO-SP</td>\n      <td>12</td>\n    </tr>\n    <tr>\n      <th>45</th>\n      <td>AMERICA-RN</td>\n      <td>9</td>\n    </tr>\n    <tr>\n      <th>46</th>\n      <td>CUIABA</td>\n      <td>5</td>\n    </tr>\n    <tr>\n      <th>47</th>\n      <td>REMO</td>\n      <td>0</td>\n    </tr>\n    <tr>\n      <th>48</th>\n      <td>MALUTROM</td>\n      <td>0</td>\n    </tr>\n  </tbody>\n</table>\n</div>"
     },
     "execution_count": 40,
     "metadata": {},
     "output_type": "execute_result"
    }
   ],
   "source": [
    "df['Pontos Mandante'] = 0\n",
    "df['Pontos Visitante'] = 0\n",
    "\n",
    "df.loc[ df['Vencedor'] == df['Mandante'], 'Pontos Mandante' ] = 3\n",
    "df.loc[ df['Vencedor'] == df['Visitante'], 'Pontos Visitante' ] = 3\n",
    "df.loc[ df['Vencedor'] == '-', 'Pontos Mandante' ] = 1\n",
    "df.loc[ df['Vencedor'] == '-', 'Pontos Visitante' ] = 1\n",
    "\n",
    "\n",
    "times = pd.Series(df['Mandante'].unique(), name='Times')\n",
    "tg = pd.DataFrame(times)\n",
    "tg['Pontos'] = 0\n",
    "\n",
    "test = df.groupby('Mandante')['Pontos Mandante'].sum()\n",
    "nova = pd.DataFrame(test)\n",
    "\n",
    "for index, i in nova.iterrows():\n",
    "    tg.loc[ tg['Times'] == index, 'Pontos' ] = i['Pontos Mandante']\n",
    "\n",
    "tg = tg.sort_values(by=\"Pontos\", ascending=False).reset_index()\n",
    "tg[['Times', 'Pontos']]"
   ],
   "metadata": {
    "collapsed": false,
    "pycharm": {
     "name": "#%%\n"
    }
   }
  },
  {
   "cell_type": "markdown",
   "source": [
    "## Ordenando o Dataset pelas maiores goleadas"
   ],
   "metadata": {
    "collapsed": false
   }
  },
  {
   "cell_type": "code",
   "execution_count": 27,
   "outputs": [
    {
     "data": {
      "text/plain": "        ID Rodada        Data Horário           Dia     Mandante    Visitante  \\\n1600  1601     46  2003-12-14   16h00       DOMINGO        BAHIA     CRUZEIRO   \n1122  1123      6  2003-04-27   16h00       DOMINGO        GOIAS    JUVENTUDE   \n1992  1993     33  2004-09-28   20h30   TERCA-FEIRA    SAO PAULO     PAYSANDU   \n1528  1529     40  2003-11-02   16h00       DOMINGO  FIGUEIRENSE     PAYSANDU   \n1338  1339     24  2003-08-07   20h30  QUINTA-FEIRA     FLAMENGO        BAHIA   \n...    ...    ...         ...     ...           ...          ...          ...   \n2740  2741     13  2006-07-22   18h10        SABADO   FLUMINENSE  SAO CAETANO   \n3750  3751     38  2008-12-07   17h00       DOMINGO       SANTOS      NAUTICO   \n1666  1667      6  2004-05-16   16h00       DOMINGO    JUVENTUDE  ATLETICO-MG   \n6932  6933     14  2017-07-16   16:00       DOMINGO        VASCO       SANTOS   \n5084  5085     19  2012-08-26   18h30       DOMINGO        SPORT      NAUTICO   \n\n         Vencedor              Arena  Mandante Placar  Visitante Placar  \\\n1600     CRUZEIRO         FONTE NOVA              0.0               7.0   \n1122        GOIAS      SERRA DOURADA              7.0               0.0   \n1992    SAO PAULO            MORUMBI              7.0               0.0   \n1528  FIGUEIRENSE  ORLANDO SCARPELLI              6.0               0.0   \n1338     FLAMENGO           MARACANA              6.0               0.0   \n...           ...                ...              ...               ...   \n2740            -           MARACANA              2.0               2.0   \n3750            -       VILA BELMIRO              0.0               0.0   \n1666            -     ALFREDO JACONI              1.0               1.0   \n6932            -           ENGENHAO              0.0               0.0   \n5084            -     ILHA DO RETIRO              0.0               0.0   \n\n     Estado Mandante Estado Visitante Estado Vencedor  Pontos Mandante  \\\n1600              BA               MG              MG                0   \n1122              GO               RS              GO                3   \n1992              SP               PA              SP                3   \n1528              SC               PA              SC                3   \n1338              RJ               BA              RJ                3   \n...              ...              ...             ...              ...   \n2740              RJ               SP               -                1   \n3750              SP               PE               -                1   \n1666              RS               MG               -                1   \n6932              RJ               SP               -                1   \n5084              PE               PE               -                1   \n\n      Pontos Visitante  Diferenca Gols  \n1600                 3             7.0  \n1122                 0             7.0  \n1992                 0             7.0  \n1528                 0             6.0  \n1338                 0             6.0  \n...                ...             ...  \n2740                 1             0.0  \n3750                 1             0.0  \n1666                 1             0.0  \n6932                 1             0.0  \n5084                 1             0.0  \n\n[8436 rows x 17 columns]",
      "text/html": "<div>\n<style scoped>\n    .dataframe tbody tr th:only-of-type {\n        vertical-align: middle;\n    }\n\n    .dataframe tbody tr th {\n        vertical-align: top;\n    }\n\n    .dataframe thead th {\n        text-align: right;\n    }\n</style>\n<table border=\"1\" class=\"dataframe\">\n  <thead>\n    <tr style=\"text-align: right;\">\n      <th></th>\n      <th>ID</th>\n      <th>Rodada</th>\n      <th>Data</th>\n      <th>Horário</th>\n      <th>Dia</th>\n      <th>Mandante</th>\n      <th>Visitante</th>\n      <th>Vencedor</th>\n      <th>Arena</th>\n      <th>Mandante Placar</th>\n      <th>Visitante Placar</th>\n      <th>Estado Mandante</th>\n      <th>Estado Visitante</th>\n      <th>Estado Vencedor</th>\n      <th>Pontos Mandante</th>\n      <th>Pontos Visitante</th>\n      <th>Diferenca Gols</th>\n    </tr>\n  </thead>\n  <tbody>\n    <tr>\n      <th>1600</th>\n      <td>1601</td>\n      <td>46</td>\n      <td>2003-12-14</td>\n      <td>16h00</td>\n      <td>DOMINGO</td>\n      <td>BAHIA</td>\n      <td>CRUZEIRO</td>\n      <td>CRUZEIRO</td>\n      <td>FONTE NOVA</td>\n      <td>0.0</td>\n      <td>7.0</td>\n      <td>BA</td>\n      <td>MG</td>\n      <td>MG</td>\n      <td>0</td>\n      <td>3</td>\n      <td>7.0</td>\n    </tr>\n    <tr>\n      <th>1122</th>\n      <td>1123</td>\n      <td>6</td>\n      <td>2003-04-27</td>\n      <td>16h00</td>\n      <td>DOMINGO</td>\n      <td>GOIAS</td>\n      <td>JUVENTUDE</td>\n      <td>GOIAS</td>\n      <td>SERRA DOURADA</td>\n      <td>7.0</td>\n      <td>0.0</td>\n      <td>GO</td>\n      <td>RS</td>\n      <td>GO</td>\n      <td>3</td>\n      <td>0</td>\n      <td>7.0</td>\n    </tr>\n    <tr>\n      <th>1992</th>\n      <td>1993</td>\n      <td>33</td>\n      <td>2004-09-28</td>\n      <td>20h30</td>\n      <td>TERCA-FEIRA</td>\n      <td>SAO PAULO</td>\n      <td>PAYSANDU</td>\n      <td>SAO PAULO</td>\n      <td>MORUMBI</td>\n      <td>7.0</td>\n      <td>0.0</td>\n      <td>SP</td>\n      <td>PA</td>\n      <td>SP</td>\n      <td>3</td>\n      <td>0</td>\n      <td>7.0</td>\n    </tr>\n    <tr>\n      <th>1528</th>\n      <td>1529</td>\n      <td>40</td>\n      <td>2003-11-02</td>\n      <td>16h00</td>\n      <td>DOMINGO</td>\n      <td>FIGUEIRENSE</td>\n      <td>PAYSANDU</td>\n      <td>FIGUEIRENSE</td>\n      <td>ORLANDO SCARPELLI</td>\n      <td>6.0</td>\n      <td>0.0</td>\n      <td>SC</td>\n      <td>PA</td>\n      <td>SC</td>\n      <td>3</td>\n      <td>0</td>\n      <td>6.0</td>\n    </tr>\n    <tr>\n      <th>1338</th>\n      <td>1339</td>\n      <td>24</td>\n      <td>2003-08-07</td>\n      <td>20h30</td>\n      <td>QUINTA-FEIRA</td>\n      <td>FLAMENGO</td>\n      <td>BAHIA</td>\n      <td>FLAMENGO</td>\n      <td>MARACANA</td>\n      <td>6.0</td>\n      <td>0.0</td>\n      <td>RJ</td>\n      <td>BA</td>\n      <td>RJ</td>\n      <td>3</td>\n      <td>0</td>\n      <td>6.0</td>\n    </tr>\n    <tr>\n      <th>...</th>\n      <td>...</td>\n      <td>...</td>\n      <td>...</td>\n      <td>...</td>\n      <td>...</td>\n      <td>...</td>\n      <td>...</td>\n      <td>...</td>\n      <td>...</td>\n      <td>...</td>\n      <td>...</td>\n      <td>...</td>\n      <td>...</td>\n      <td>...</td>\n      <td>...</td>\n      <td>...</td>\n      <td>...</td>\n    </tr>\n    <tr>\n      <th>2740</th>\n      <td>2741</td>\n      <td>13</td>\n      <td>2006-07-22</td>\n      <td>18h10</td>\n      <td>SABADO</td>\n      <td>FLUMINENSE</td>\n      <td>SAO CAETANO</td>\n      <td>-</td>\n      <td>MARACANA</td>\n      <td>2.0</td>\n      <td>2.0</td>\n      <td>RJ</td>\n      <td>SP</td>\n      <td>-</td>\n      <td>1</td>\n      <td>1</td>\n      <td>0.0</td>\n    </tr>\n    <tr>\n      <th>3750</th>\n      <td>3751</td>\n      <td>38</td>\n      <td>2008-12-07</td>\n      <td>17h00</td>\n      <td>DOMINGO</td>\n      <td>SANTOS</td>\n      <td>NAUTICO</td>\n      <td>-</td>\n      <td>VILA BELMIRO</td>\n      <td>0.0</td>\n      <td>0.0</td>\n      <td>SP</td>\n      <td>PE</td>\n      <td>-</td>\n      <td>1</td>\n      <td>1</td>\n      <td>0.0</td>\n    </tr>\n    <tr>\n      <th>1666</th>\n      <td>1667</td>\n      <td>6</td>\n      <td>2004-05-16</td>\n      <td>16h00</td>\n      <td>DOMINGO</td>\n      <td>JUVENTUDE</td>\n      <td>ATLETICO-MG</td>\n      <td>-</td>\n      <td>ALFREDO JACONI</td>\n      <td>1.0</td>\n      <td>1.0</td>\n      <td>RS</td>\n      <td>MG</td>\n      <td>-</td>\n      <td>1</td>\n      <td>1</td>\n      <td>0.0</td>\n    </tr>\n    <tr>\n      <th>6932</th>\n      <td>6933</td>\n      <td>14</td>\n      <td>2017-07-16</td>\n      <td>16:00</td>\n      <td>DOMINGO</td>\n      <td>VASCO</td>\n      <td>SANTOS</td>\n      <td>-</td>\n      <td>ENGENHAO</td>\n      <td>0.0</td>\n      <td>0.0</td>\n      <td>RJ</td>\n      <td>SP</td>\n      <td>-</td>\n      <td>1</td>\n      <td>1</td>\n      <td>0.0</td>\n    </tr>\n    <tr>\n      <th>5084</th>\n      <td>5085</td>\n      <td>19</td>\n      <td>2012-08-26</td>\n      <td>18h30</td>\n      <td>DOMINGO</td>\n      <td>SPORT</td>\n      <td>NAUTICO</td>\n      <td>-</td>\n      <td>ILHA DO RETIRO</td>\n      <td>0.0</td>\n      <td>0.0</td>\n      <td>PE</td>\n      <td>PE</td>\n      <td>-</td>\n      <td>1</td>\n      <td>1</td>\n      <td>0.0</td>\n    </tr>\n  </tbody>\n</table>\n<p>8436 rows × 17 columns</p>\n</div>"
     },
     "execution_count": 27,
     "metadata": {},
     "output_type": "execute_result"
    }
   ],
   "source": [
    "df['Diferenca Gols'] = abs(df['Mandante Placar'] - df['Visitante Placar'])\n",
    "\n",
    "# dropando valores nulos, visto que se não houve o jogo, provavelmente foi remarcado e está em outro registro\n",
    "df = df.dropna(subset=['Diferenca Gols'])\n",
    "\n",
    "df.sort_values(by=['Diferenca Gols'], ascending=False)"
   ],
   "metadata": {
    "collapsed": false,
    "pycharm": {
     "name": "#%%\n"
    }
   }
  },
  {
   "cell_type": "markdown",
   "source": [
    "## Exibir as 5 maiores contagens de valores únicos de uma única coluna\n",
    "#### No caso: Quem são os melhores Mandantes ?"
   ],
   "metadata": {
    "collapsed": false,
    "pycharm": {
     "name": "#%% md\n"
    }
   }
  },
  {
   "cell_type": "code",
   "execution_count": 28,
   "outputs": [
    {
     "data": {
      "text/plain": "Mandante     \nSANTOS           233\nSAO PAULO        231\nGREMIO           223\nATHLETICO-PR     221\nINTERNACIONAL    217\ndtype: int64"
     },
     "execution_count": 28,
     "metadata": {},
     "output_type": "execute_result"
    }
   ],
   "source": [
    "df[ df['Mandante'] == df['Vencedor'] ][['Mandante']].value_counts().head()"
   ],
   "metadata": {
    "collapsed": false,
    "pycharm": {
     "name": "#%%\n"
    }
   }
  },
  {
   "cell_type": "markdown",
   "source": [
    "## Exiba, no mínimo, três plots. Se possível, use um para variáveis quantitativa e outro para variáveis de qualitativas"
   ],
   "metadata": {
    "collapsed": false,
    "pycharm": {
     "name": "#%% md\n"
    }
   }
  },
  {
   "cell_type": "code",
   "execution_count": 29,
   "outputs": [],
   "source": [
    "# Implementar"
   ],
   "metadata": {
    "collapsed": false,
    "pycharm": {
     "name": "#%%\n"
    }
   }
  },
  {
   "cell_type": "markdown",
   "source": [
    "## Implemente pelo menos um filtro"
   ],
   "metadata": {
    "collapsed": false,
    "pycharm": {
     "name": "#%% md\n"
    }
   }
  },
  {
   "cell_type": "code",
   "execution_count": 30,
   "outputs": [],
   "source": [
    "# Implementar"
   ],
   "metadata": {
    "collapsed": false,
    "pycharm": {
     "name": "#%%\n"
    }
   }
  },
  {
   "cell_type": "markdown",
   "source": [
    "## Utilize, no mínimo, uma função agregada com agrupamento"
   ],
   "metadata": {
    "collapsed": false,
    "pycharm": {
     "name": "#%% md\n"
    }
   }
  },
  {
   "cell_type": "code",
   "execution_count": 31,
   "outputs": [
    {
     "data": {
      "text/plain": "Estado Mandante\nAL      24.0\nBA     521.0\nCE     477.0\nDF     141.0\nES     615.0\nGO    1061.0\nMG    2438.0\nMT      12.0\nPA     229.0\nPE     880.0\nPR    2147.0\nRJ    3969.0\nRN      24.0\nRS    2426.0\nSC    1269.0\nSP    6011.0\ndtype: float64"
     },
     "execution_count": 31,
     "metadata": {},
     "output_type": "execute_result"
    }
   ],
   "source": [
    "df.groupby(by=['Estado Mandante'])['Mandante Placar'].sum() + df.groupby(by=['Estado Visitante'])['Visitante Placar'].sum()"
   ],
   "metadata": {
    "collapsed": false,
    "pycharm": {
     "name": "#%%\n"
    }
   }
  },
  {
   "cell_type": "code",
   "execution_count": 55,
   "outputs": [
    {
     "data": {
      "text/plain": "                 Pontos Mandante\nMandante   Ano                  \nAMERICA-MG 2000               20\n           2001               14\n           2011               28\n           2016               24\n           2018               31\n...                          ...\nVITORIA    2013               39\n           2014               23\n           2016               28\n           2017               14\n           2018               26\n\n[477 rows x 1 columns]",
      "text/html": "<div>\n<style scoped>\n    .dataframe tbody tr th:only-of-type {\n        vertical-align: middle;\n    }\n\n    .dataframe tbody tr th {\n        vertical-align: top;\n    }\n\n    .dataframe thead th {\n        text-align: right;\n    }\n</style>\n<table border=\"1\" class=\"dataframe\">\n  <thead>\n    <tr style=\"text-align: right;\">\n      <th></th>\n      <th></th>\n      <th>Pontos Mandante</th>\n    </tr>\n    <tr>\n      <th>Mandante</th>\n      <th>Ano</th>\n      <th></th>\n    </tr>\n  </thead>\n  <tbody>\n    <tr>\n      <th rowspan=\"5\" valign=\"top\">AMERICA-MG</th>\n      <th>2000</th>\n      <td>20</td>\n    </tr>\n    <tr>\n      <th>2001</th>\n      <td>14</td>\n    </tr>\n    <tr>\n      <th>2011</th>\n      <td>28</td>\n    </tr>\n    <tr>\n      <th>2016</th>\n      <td>24</td>\n    </tr>\n    <tr>\n      <th>2018</th>\n      <td>31</td>\n    </tr>\n    <tr>\n      <th>...</th>\n      <th>...</th>\n      <td>...</td>\n    </tr>\n    <tr>\n      <th rowspan=\"5\" valign=\"top\">VITORIA</th>\n      <th>2013</th>\n      <td>39</td>\n    </tr>\n    <tr>\n      <th>2014</th>\n      <td>23</td>\n    </tr>\n    <tr>\n      <th>2016</th>\n      <td>28</td>\n    </tr>\n    <tr>\n      <th>2017</th>\n      <td>14</td>\n    </tr>\n    <tr>\n      <th>2018</th>\n      <td>26</td>\n    </tr>\n  </tbody>\n</table>\n<p>477 rows × 1 columns</p>\n</div>"
     },
     "execution_count": 55,
     "metadata": {},
     "output_type": "execute_result"
    }
   ],
   "source": [
    "import datetime\n",
    "\n",
    "df['Data2'] = pd.to_datetime(df['Data'])\n",
    "df['Ano'] = df['Data2'].dt.year\n",
    "df.drop(columns='Data2', inplace=True)\n",
    "\n",
    "test = df.groupby(['Mandante', 'Ano'])['Pontos Mandante'].sum()\n",
    "pontuacaoPorAno = pd.DataFrame(test)\n",
    "pontuacaoPorAno"
   ],
   "metadata": {
    "collapsed": false,
    "pycharm": {
     "name": "#%%\n"
    }
   }
  }
 ],
 "metadata": {
  "kernelspec": {
   "display_name": "Python 3",
   "language": "python",
   "name": "python3"
  },
  "language_info": {
   "codemirror_mode": {
    "name": "ipython",
    "version": 2
   },
   "file_extension": ".py",
   "mimetype": "text/x-python",
   "name": "python",
   "nbconvert_exporter": "python",
   "pygments_lexer": "ipython2",
   "version": "2.7.6"
  }
 },
 "nbformat": 4,
 "nbformat_minor": 0
}